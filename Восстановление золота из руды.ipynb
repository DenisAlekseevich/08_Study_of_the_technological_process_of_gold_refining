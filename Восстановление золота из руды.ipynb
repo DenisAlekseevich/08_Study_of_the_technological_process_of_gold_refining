{
 "cells": [
  {
   "cell_type": "markdown",
   "metadata": {},
   "source": [
    "# Восстановление золота из руды"
   ]
  },
  {
   "cell_type": "markdown",
   "metadata": {},
   "source": [
    "Подготовьте прототип модели машинного обучения для «Цифры». Компания разрабатывает решения для эффективной работы промышленных предприятий.\n",
    "\n",
    "Модель должна предсказать коэффициент восстановления золота из золотосодержащей руды. Используйте данные с параметрами добычи и очистки. \n",
    "\n",
    "Модель поможет оптимизировать производство, чтобы не запускать предприятие с убыточными характеристиками.\n",
    "\n",
    "Вам нужно:\n",
    "\n",
    "1. Подготовить данные;\n",
    "2. Провести исследовательский анализ данных;\n",
    "3. Построить и обучить модель.\n",
    "\n",
    "Чтобы выполнить проект, обращайтесь к библиотекам *pandas*, *matplotlib* и *sklearn.* Вам поможет их документация."
   ]
  },
  {
   "cell_type": "markdown",
   "metadata": {},
   "source": [
    "## Подготовка данных"
   ]
  },
  {
   "cell_type": "code",
   "execution_count": 1,
   "metadata": {},
   "outputs": [],
   "source": [
    "import numpy as np\n",
    "import pandas as pd\n",
    "import collections\n",
    "from sklearn.metrics import mean_absolute_error as MAE\n",
    "from sklearn.model_selection import RandomizedSearchCV, cross_val_score\n",
    "from sklearn.ensemble import RandomForestRegressor\n",
    "from sklearn.preprocessing import StandardScaler\n",
    "from sklearn.linear_model import LinearRegression\n",
    "from sklearn.tree import DecisionTreeRegressor\n",
    "import matplotlib.pyplot as plt\n",
    "from sklearn.metrics import make_scorer\n",
    "from sklearn.dummy import DummyRegressor\n",
    "import seaborn as sns\n",
    "\n",
    "import warnings\n",
    "warnings.simplefilter(action='ignore', category=FutureWarning)"
   ]
  },
  {
   "cell_type": "markdown",
   "metadata": {},
   "source": [
    "**Загрузим и изучим данные.**"
   ]
  },
  {
   "cell_type": "code",
   "execution_count": 2,
   "metadata": {},
   "outputs": [],
   "source": [
    "train, test, full = (pd.read_csv('C:\\\\Users\\\\admin\\\\Desktop\\\\DS_yandex\\\\08_Восстановление золота из руды\\\\gold_recovery_train_new.csv'), \n",
    "                     pd.read_csv('C:\\\\Users\\\\admin\\\\Desktop\\\\DS_yandex\\\\08_Восстановление золота из руды\\\\gold_recovery_test_new.csv'), \n",
    "                     pd.read_csv('C:\\\\Users\\\\admin\\\\Desktop\\\\DS_yandex\\\\08_Восстановление золота из руды\\\\gold_recovery_full_new.csv'))"
   ]
  },
  {
   "cell_type": "code",
   "execution_count": 3,
   "metadata": {
    "scrolled": false
   },
   "outputs": [
    {
     "data": {
      "text/html": [
       "<div>\n",
       "<style scoped>\n",
       "    .dataframe tbody tr th:only-of-type {\n",
       "        vertical-align: middle;\n",
       "    }\n",
       "\n",
       "    .dataframe tbody tr th {\n",
       "        vertical-align: top;\n",
       "    }\n",
       "\n",
       "    .dataframe thead th {\n",
       "        text-align: right;\n",
       "    }\n",
       "</style>\n",
       "<table border=\"1\" class=\"dataframe\">\n",
       "  <thead>\n",
       "    <tr style=\"text-align: right;\">\n",
       "      <th></th>\n",
       "      <th>date</th>\n",
       "      <th>final.output.concentrate_ag</th>\n",
       "      <th>final.output.concentrate_pb</th>\n",
       "      <th>final.output.concentrate_sol</th>\n",
       "      <th>final.output.concentrate_au</th>\n",
       "      <th>final.output.recovery</th>\n",
       "      <th>final.output.tail_ag</th>\n",
       "      <th>final.output.tail_pb</th>\n",
       "      <th>final.output.tail_sol</th>\n",
       "      <th>final.output.tail_au</th>\n",
       "      <th>...</th>\n",
       "      <th>secondary_cleaner.state.floatbank4_a_air</th>\n",
       "      <th>secondary_cleaner.state.floatbank4_a_level</th>\n",
       "      <th>secondary_cleaner.state.floatbank4_b_air</th>\n",
       "      <th>secondary_cleaner.state.floatbank4_b_level</th>\n",
       "      <th>secondary_cleaner.state.floatbank5_a_air</th>\n",
       "      <th>secondary_cleaner.state.floatbank5_a_level</th>\n",
       "      <th>secondary_cleaner.state.floatbank5_b_air</th>\n",
       "      <th>secondary_cleaner.state.floatbank5_b_level</th>\n",
       "      <th>secondary_cleaner.state.floatbank6_a_air</th>\n",
       "      <th>secondary_cleaner.state.floatbank6_a_level</th>\n",
       "    </tr>\n",
       "  </thead>\n",
       "  <tbody>\n",
       "    <tr>\n",
       "      <th>0</th>\n",
       "      <td>2016-01-15 00:00:00</td>\n",
       "      <td>6.055403</td>\n",
       "      <td>9.889648</td>\n",
       "      <td>5.507324</td>\n",
       "      <td>42.192020</td>\n",
       "      <td>70.541216</td>\n",
       "      <td>10.411962</td>\n",
       "      <td>0.895447</td>\n",
       "      <td>16.904297</td>\n",
       "      <td>2.143149</td>\n",
       "      <td>...</td>\n",
       "      <td>14.016835</td>\n",
       "      <td>-502.488007</td>\n",
       "      <td>12.099931</td>\n",
       "      <td>-504.715942</td>\n",
       "      <td>9.925633</td>\n",
       "      <td>-498.310211</td>\n",
       "      <td>8.079666</td>\n",
       "      <td>-500.470978</td>\n",
       "      <td>14.151341</td>\n",
       "      <td>-605.841980</td>\n",
       "    </tr>\n",
       "    <tr>\n",
       "      <th>1</th>\n",
       "      <td>2016-01-15 01:00:00</td>\n",
       "      <td>6.029369</td>\n",
       "      <td>9.968944</td>\n",
       "      <td>5.257781</td>\n",
       "      <td>42.701629</td>\n",
       "      <td>69.266198</td>\n",
       "      <td>10.462676</td>\n",
       "      <td>0.927452</td>\n",
       "      <td>16.634514</td>\n",
       "      <td>2.224930</td>\n",
       "      <td>...</td>\n",
       "      <td>13.992281</td>\n",
       "      <td>-505.503262</td>\n",
       "      <td>11.950531</td>\n",
       "      <td>-501.331529</td>\n",
       "      <td>10.039245</td>\n",
       "      <td>-500.169983</td>\n",
       "      <td>7.984757</td>\n",
       "      <td>-500.582168</td>\n",
       "      <td>13.998353</td>\n",
       "      <td>-599.787184</td>\n",
       "    </tr>\n",
       "    <tr>\n",
       "      <th>2</th>\n",
       "      <td>2016-01-15 02:00:00</td>\n",
       "      <td>6.055926</td>\n",
       "      <td>10.213995</td>\n",
       "      <td>5.383759</td>\n",
       "      <td>42.657501</td>\n",
       "      <td>68.116445</td>\n",
       "      <td>10.507046</td>\n",
       "      <td>0.953716</td>\n",
       "      <td>16.208849</td>\n",
       "      <td>2.257889</td>\n",
       "      <td>...</td>\n",
       "      <td>14.015015</td>\n",
       "      <td>-502.520901</td>\n",
       "      <td>11.912783</td>\n",
       "      <td>-501.133383</td>\n",
       "      <td>10.070913</td>\n",
       "      <td>-500.129135</td>\n",
       "      <td>8.013877</td>\n",
       "      <td>-500.517572</td>\n",
       "      <td>14.028663</td>\n",
       "      <td>-601.427363</td>\n",
       "    </tr>\n",
       "    <tr>\n",
       "      <th>3</th>\n",
       "      <td>2016-01-15 03:00:00</td>\n",
       "      <td>6.047977</td>\n",
       "      <td>9.977019</td>\n",
       "      <td>4.858634</td>\n",
       "      <td>42.689819</td>\n",
       "      <td>68.347543</td>\n",
       "      <td>10.422762</td>\n",
       "      <td>0.883763</td>\n",
       "      <td>16.532835</td>\n",
       "      <td>2.146849</td>\n",
       "      <td>...</td>\n",
       "      <td>14.036510</td>\n",
       "      <td>-500.857308</td>\n",
       "      <td>11.999550</td>\n",
       "      <td>-501.193686</td>\n",
       "      <td>9.970366</td>\n",
       "      <td>-499.201640</td>\n",
       "      <td>7.977324</td>\n",
       "      <td>-500.255908</td>\n",
       "      <td>14.005551</td>\n",
       "      <td>-599.996129</td>\n",
       "    </tr>\n",
       "    <tr>\n",
       "      <th>4</th>\n",
       "      <td>2016-01-15 04:00:00</td>\n",
       "      <td>6.148599</td>\n",
       "      <td>10.142511</td>\n",
       "      <td>4.939416</td>\n",
       "      <td>42.774141</td>\n",
       "      <td>66.927016</td>\n",
       "      <td>10.360302</td>\n",
       "      <td>0.792826</td>\n",
       "      <td>16.525686</td>\n",
       "      <td>2.055292</td>\n",
       "      <td>...</td>\n",
       "      <td>14.027298</td>\n",
       "      <td>-499.838632</td>\n",
       "      <td>11.953070</td>\n",
       "      <td>-501.053894</td>\n",
       "      <td>9.925709</td>\n",
       "      <td>-501.686727</td>\n",
       "      <td>7.894242</td>\n",
       "      <td>-500.356035</td>\n",
       "      <td>13.996647</td>\n",
       "      <td>-601.496691</td>\n",
       "    </tr>\n",
       "  </tbody>\n",
       "</table>\n",
       "<p>5 rows × 87 columns</p>\n",
       "</div>"
      ],
      "text/plain": [
       "                  date  final.output.concentrate_ag  \\\n",
       "0  2016-01-15 00:00:00                     6.055403   \n",
       "1  2016-01-15 01:00:00                     6.029369   \n",
       "2  2016-01-15 02:00:00                     6.055926   \n",
       "3  2016-01-15 03:00:00                     6.047977   \n",
       "4  2016-01-15 04:00:00                     6.148599   \n",
       "\n",
       "   final.output.concentrate_pb  final.output.concentrate_sol  \\\n",
       "0                     9.889648                      5.507324   \n",
       "1                     9.968944                      5.257781   \n",
       "2                    10.213995                      5.383759   \n",
       "3                     9.977019                      4.858634   \n",
       "4                    10.142511                      4.939416   \n",
       "\n",
       "   final.output.concentrate_au  final.output.recovery  final.output.tail_ag  \\\n",
       "0                    42.192020              70.541216             10.411962   \n",
       "1                    42.701629              69.266198             10.462676   \n",
       "2                    42.657501              68.116445             10.507046   \n",
       "3                    42.689819              68.347543             10.422762   \n",
       "4                    42.774141              66.927016             10.360302   \n",
       "\n",
       "   final.output.tail_pb  final.output.tail_sol  final.output.tail_au  ...  \\\n",
       "0              0.895447              16.904297              2.143149  ...   \n",
       "1              0.927452              16.634514              2.224930  ...   \n",
       "2              0.953716              16.208849              2.257889  ...   \n",
       "3              0.883763              16.532835              2.146849  ...   \n",
       "4              0.792826              16.525686              2.055292  ...   \n",
       "\n",
       "   secondary_cleaner.state.floatbank4_a_air  \\\n",
       "0                                 14.016835   \n",
       "1                                 13.992281   \n",
       "2                                 14.015015   \n",
       "3                                 14.036510   \n",
       "4                                 14.027298   \n",
       "\n",
       "   secondary_cleaner.state.floatbank4_a_level  \\\n",
       "0                                 -502.488007   \n",
       "1                                 -505.503262   \n",
       "2                                 -502.520901   \n",
       "3                                 -500.857308   \n",
       "4                                 -499.838632   \n",
       "\n",
       "   secondary_cleaner.state.floatbank4_b_air  \\\n",
       "0                                 12.099931   \n",
       "1                                 11.950531   \n",
       "2                                 11.912783   \n",
       "3                                 11.999550   \n",
       "4                                 11.953070   \n",
       "\n",
       "   secondary_cleaner.state.floatbank4_b_level  \\\n",
       "0                                 -504.715942   \n",
       "1                                 -501.331529   \n",
       "2                                 -501.133383   \n",
       "3                                 -501.193686   \n",
       "4                                 -501.053894   \n",
       "\n",
       "   secondary_cleaner.state.floatbank5_a_air  \\\n",
       "0                                  9.925633   \n",
       "1                                 10.039245   \n",
       "2                                 10.070913   \n",
       "3                                  9.970366   \n",
       "4                                  9.925709   \n",
       "\n",
       "   secondary_cleaner.state.floatbank5_a_level  \\\n",
       "0                                 -498.310211   \n",
       "1                                 -500.169983   \n",
       "2                                 -500.129135   \n",
       "3                                 -499.201640   \n",
       "4                                 -501.686727   \n",
       "\n",
       "   secondary_cleaner.state.floatbank5_b_air  \\\n",
       "0                                  8.079666   \n",
       "1                                  7.984757   \n",
       "2                                  8.013877   \n",
       "3                                  7.977324   \n",
       "4                                  7.894242   \n",
       "\n",
       "   secondary_cleaner.state.floatbank5_b_level  \\\n",
       "0                                 -500.470978   \n",
       "1                                 -500.582168   \n",
       "2                                 -500.517572   \n",
       "3                                 -500.255908   \n",
       "4                                 -500.356035   \n",
       "\n",
       "   secondary_cleaner.state.floatbank6_a_air  \\\n",
       "0                                 14.151341   \n",
       "1                                 13.998353   \n",
       "2                                 14.028663   \n",
       "3                                 14.005551   \n",
       "4                                 13.996647   \n",
       "\n",
       "   secondary_cleaner.state.floatbank6_a_level  \n",
       "0                                 -605.841980  \n",
       "1                                 -599.787184  \n",
       "2                                 -601.427363  \n",
       "3                                 -599.996129  \n",
       "4                                 -601.496691  \n",
       "\n",
       "[5 rows x 87 columns]"
      ]
     },
     "metadata": {},
     "output_type": "display_data"
    },
    {
     "name": "stdout",
     "output_type": "stream",
     "text": [
      "<class 'pandas.core.frame.DataFrame'>\n",
      "RangeIndex: 14149 entries, 0 to 14148\n",
      "Data columns (total 87 columns):\n",
      " #   Column                                              Non-Null Count  Dtype  \n",
      "---  ------                                              --------------  -----  \n",
      " 0   date                                                14149 non-null  object \n",
      " 1   final.output.concentrate_ag                         14148 non-null  float64\n",
      " 2   final.output.concentrate_pb                         14148 non-null  float64\n",
      " 3   final.output.concentrate_sol                        13938 non-null  float64\n",
      " 4   final.output.concentrate_au                         14149 non-null  float64\n",
      " 5   final.output.recovery                               14149 non-null  float64\n",
      " 6   final.output.tail_ag                                14149 non-null  float64\n",
      " 7   final.output.tail_pb                                14049 non-null  float64\n",
      " 8   final.output.tail_sol                               14144 non-null  float64\n",
      " 9   final.output.tail_au                                14149 non-null  float64\n",
      " 10  primary_cleaner.input.sulfate                       14129 non-null  float64\n",
      " 11  primary_cleaner.input.depressant                    14117 non-null  float64\n",
      " 12  primary_cleaner.input.feed_size                     14149 non-null  float64\n",
      " 13  primary_cleaner.input.xanthate                      14049 non-null  float64\n",
      " 14  primary_cleaner.output.concentrate_ag               14149 non-null  float64\n",
      " 15  primary_cleaner.output.concentrate_pb               14063 non-null  float64\n",
      " 16  primary_cleaner.output.concentrate_sol              13863 non-null  float64\n",
      " 17  primary_cleaner.output.concentrate_au               14149 non-null  float64\n",
      " 18  primary_cleaner.output.tail_ag                      14148 non-null  float64\n",
      " 19  primary_cleaner.output.tail_pb                      14134 non-null  float64\n",
      " 20  primary_cleaner.output.tail_sol                     14103 non-null  float64\n",
      " 21  primary_cleaner.output.tail_au                      14149 non-null  float64\n",
      " 22  primary_cleaner.state.floatbank8_a_air              14145 non-null  float64\n",
      " 23  primary_cleaner.state.floatbank8_a_level            14148 non-null  float64\n",
      " 24  primary_cleaner.state.floatbank8_b_air              14145 non-null  float64\n",
      " 25  primary_cleaner.state.floatbank8_b_level            14148 non-null  float64\n",
      " 26  primary_cleaner.state.floatbank8_c_air              14147 non-null  float64\n",
      " 27  primary_cleaner.state.floatbank8_c_level            14148 non-null  float64\n",
      " 28  primary_cleaner.state.floatbank8_d_air              14146 non-null  float64\n",
      " 29  primary_cleaner.state.floatbank8_d_level            14148 non-null  float64\n",
      " 30  rougher.calculation.sulfate_to_au_concentrate       14148 non-null  float64\n",
      " 31  rougher.calculation.floatbank10_sulfate_to_au_feed  14148 non-null  float64\n",
      " 32  rougher.calculation.floatbank11_sulfate_to_au_feed  14148 non-null  float64\n",
      " 33  rougher.calculation.au_pb_ratio                     14149 non-null  float64\n",
      " 34  rougher.input.feed_ag                               14149 non-null  float64\n",
      " 35  rougher.input.feed_pb                               14049 non-null  float64\n",
      " 36  rougher.input.feed_rate                             14141 non-null  float64\n",
      " 37  rougher.input.feed_size                             14005 non-null  float64\n",
      " 38  rougher.input.feed_sol                              14071 non-null  float64\n",
      " 39  rougher.input.feed_au                               14149 non-null  float64\n",
      " 40  rougher.input.floatbank10_sulfate                   14120 non-null  float64\n",
      " 41  rougher.input.floatbank10_xanthate                  14141 non-null  float64\n",
      " 42  rougher.input.floatbank11_sulfate                   14113 non-null  float64\n",
      " 43  rougher.input.floatbank11_xanthate                  13721 non-null  float64\n",
      " 44  rougher.output.concentrate_ag                       14149 non-null  float64\n",
      " 45  rougher.output.concentrate_pb                       14149 non-null  float64\n",
      " 46  rougher.output.concentrate_sol                      14127 non-null  float64\n",
      " 47  rougher.output.concentrate_au                       14149 non-null  float64\n",
      " 48  rougher.output.recovery                             14149 non-null  float64\n",
      " 49  rougher.output.tail_ag                              14148 non-null  float64\n",
      " 50  rougher.output.tail_pb                              14149 non-null  float64\n",
      " 51  rougher.output.tail_sol                             14149 non-null  float64\n",
      " 52  rougher.output.tail_au                              14149 non-null  float64\n",
      " 53  rougher.state.floatbank10_a_air                     14148 non-null  float64\n",
      " 54  rougher.state.floatbank10_a_level                   14148 non-null  float64\n",
      " 55  rougher.state.floatbank10_b_air                     14148 non-null  float64\n",
      " 56  rougher.state.floatbank10_b_level                   14148 non-null  float64\n",
      " 57  rougher.state.floatbank10_c_air                     14148 non-null  float64\n",
      " 58  rougher.state.floatbank10_c_level                   14148 non-null  float64\n",
      " 59  rougher.state.floatbank10_d_air                     14149 non-null  float64\n",
      " 60  rougher.state.floatbank10_d_level                   14149 non-null  float64\n",
      " 61  rougher.state.floatbank10_e_air                     13713 non-null  float64\n",
      " 62  rougher.state.floatbank10_e_level                   14149 non-null  float64\n",
      " 63  rougher.state.floatbank10_f_air                     14149 non-null  float64\n",
      " 64  rougher.state.floatbank10_f_level                   14149 non-null  float64\n",
      " 65  secondary_cleaner.output.tail_ag                    14147 non-null  float64\n",
      " 66  secondary_cleaner.output.tail_pb                    14139 non-null  float64\n",
      " 67  secondary_cleaner.output.tail_sol                   12544 non-null  float64\n",
      " 68  secondary_cleaner.output.tail_au                    14149 non-null  float64\n",
      " 69  secondary_cleaner.state.floatbank2_a_air            13932 non-null  float64\n",
      " 70  secondary_cleaner.state.floatbank2_a_level          14148 non-null  float64\n",
      " 71  secondary_cleaner.state.floatbank2_b_air            14128 non-null  float64\n",
      " 72  secondary_cleaner.state.floatbank2_b_level          14148 non-null  float64\n",
      " 73  secondary_cleaner.state.floatbank3_a_air            14145 non-null  float64\n",
      " 74  secondary_cleaner.state.floatbank3_a_level          14148 non-null  float64\n",
      " 75  secondary_cleaner.state.floatbank3_b_air            14148 non-null  float64\n",
      " 76  secondary_cleaner.state.floatbank3_b_level          14148 non-null  float64\n",
      " 77  secondary_cleaner.state.floatbank4_a_air            14143 non-null  float64\n",
      " 78  secondary_cleaner.state.floatbank4_a_level          14148 non-null  float64\n",
      " 79  secondary_cleaner.state.floatbank4_b_air            14148 non-null  float64\n",
      " 80  secondary_cleaner.state.floatbank4_b_level          14148 non-null  float64\n",
      " 81  secondary_cleaner.state.floatbank5_a_air            14148 non-null  float64\n",
      " 82  secondary_cleaner.state.floatbank5_a_level          14148 non-null  float64\n",
      " 83  secondary_cleaner.state.floatbank5_b_air            14148 non-null  float64\n",
      " 84  secondary_cleaner.state.floatbank5_b_level          14148 non-null  float64\n",
      " 85  secondary_cleaner.state.floatbank6_a_air            14147 non-null  float64\n",
      " 86  secondary_cleaner.state.floatbank6_a_level          14148 non-null  float64\n",
      "dtypes: float64(86), object(1)\n",
      "memory usage: 9.4+ MB\n"
     ]
    }
   ],
   "source": [
    "display(train.head())\n",
    "train.info()"
   ]
  },
  {
   "cell_type": "code",
   "execution_count": 4,
   "metadata": {},
   "outputs": [
    {
     "data": {
      "text/html": [
       "<div>\n",
       "<style scoped>\n",
       "    .dataframe tbody tr th:only-of-type {\n",
       "        vertical-align: middle;\n",
       "    }\n",
       "\n",
       "    .dataframe tbody tr th {\n",
       "        vertical-align: top;\n",
       "    }\n",
       "\n",
       "    .dataframe thead th {\n",
       "        text-align: right;\n",
       "    }\n",
       "</style>\n",
       "<table border=\"1\" class=\"dataframe\">\n",
       "  <thead>\n",
       "    <tr style=\"text-align: right;\">\n",
       "      <th></th>\n",
       "      <th>date</th>\n",
       "      <th>primary_cleaner.input.sulfate</th>\n",
       "      <th>primary_cleaner.input.depressant</th>\n",
       "      <th>primary_cleaner.input.feed_size</th>\n",
       "      <th>primary_cleaner.input.xanthate</th>\n",
       "      <th>primary_cleaner.state.floatbank8_a_air</th>\n",
       "      <th>primary_cleaner.state.floatbank8_a_level</th>\n",
       "      <th>primary_cleaner.state.floatbank8_b_air</th>\n",
       "      <th>primary_cleaner.state.floatbank8_b_level</th>\n",
       "      <th>primary_cleaner.state.floatbank8_c_air</th>\n",
       "      <th>...</th>\n",
       "      <th>secondary_cleaner.state.floatbank4_a_air</th>\n",
       "      <th>secondary_cleaner.state.floatbank4_a_level</th>\n",
       "      <th>secondary_cleaner.state.floatbank4_b_air</th>\n",
       "      <th>secondary_cleaner.state.floatbank4_b_level</th>\n",
       "      <th>secondary_cleaner.state.floatbank5_a_air</th>\n",
       "      <th>secondary_cleaner.state.floatbank5_a_level</th>\n",
       "      <th>secondary_cleaner.state.floatbank5_b_air</th>\n",
       "      <th>secondary_cleaner.state.floatbank5_b_level</th>\n",
       "      <th>secondary_cleaner.state.floatbank6_a_air</th>\n",
       "      <th>secondary_cleaner.state.floatbank6_a_level</th>\n",
       "    </tr>\n",
       "  </thead>\n",
       "  <tbody>\n",
       "    <tr>\n",
       "      <th>0</th>\n",
       "      <td>2016-09-01 00:59:59</td>\n",
       "      <td>210.800909</td>\n",
       "      <td>14.993118</td>\n",
       "      <td>8.080000</td>\n",
       "      <td>1.005021</td>\n",
       "      <td>1398.981301</td>\n",
       "      <td>-500.225577</td>\n",
       "      <td>1399.144926</td>\n",
       "      <td>-499.919735</td>\n",
       "      <td>1400.102998</td>\n",
       "      <td>...</td>\n",
       "      <td>12.023554</td>\n",
       "      <td>-497.795834</td>\n",
       "      <td>8.016656</td>\n",
       "      <td>-501.289139</td>\n",
       "      <td>7.946562</td>\n",
       "      <td>-432.317850</td>\n",
       "      <td>4.872511</td>\n",
       "      <td>-500.037437</td>\n",
       "      <td>26.705889</td>\n",
       "      <td>-499.709414</td>\n",
       "    </tr>\n",
       "    <tr>\n",
       "      <th>1</th>\n",
       "      <td>2016-09-01 01:59:59</td>\n",
       "      <td>215.392455</td>\n",
       "      <td>14.987471</td>\n",
       "      <td>8.080000</td>\n",
       "      <td>0.990469</td>\n",
       "      <td>1398.777912</td>\n",
       "      <td>-500.057435</td>\n",
       "      <td>1398.055362</td>\n",
       "      <td>-499.778182</td>\n",
       "      <td>1396.151033</td>\n",
       "      <td>...</td>\n",
       "      <td>12.058140</td>\n",
       "      <td>-498.695773</td>\n",
       "      <td>8.130979</td>\n",
       "      <td>-499.634209</td>\n",
       "      <td>7.958270</td>\n",
       "      <td>-525.839648</td>\n",
       "      <td>4.878850</td>\n",
       "      <td>-500.162375</td>\n",
       "      <td>25.019940</td>\n",
       "      <td>-499.819438</td>\n",
       "    </tr>\n",
       "    <tr>\n",
       "      <th>2</th>\n",
       "      <td>2016-09-01 02:59:59</td>\n",
       "      <td>215.259946</td>\n",
       "      <td>12.884934</td>\n",
       "      <td>7.786667</td>\n",
       "      <td>0.996043</td>\n",
       "      <td>1398.493666</td>\n",
       "      <td>-500.868360</td>\n",
       "      <td>1398.860436</td>\n",
       "      <td>-499.764529</td>\n",
       "      <td>1398.075709</td>\n",
       "      <td>...</td>\n",
       "      <td>11.962366</td>\n",
       "      <td>-498.767484</td>\n",
       "      <td>8.096893</td>\n",
       "      <td>-500.827423</td>\n",
       "      <td>8.071056</td>\n",
       "      <td>-500.801673</td>\n",
       "      <td>4.905125</td>\n",
       "      <td>-499.828510</td>\n",
       "      <td>24.994862</td>\n",
       "      <td>-500.622559</td>\n",
       "    </tr>\n",
       "    <tr>\n",
       "      <th>3</th>\n",
       "      <td>2016-09-01 03:59:59</td>\n",
       "      <td>215.336236</td>\n",
       "      <td>12.006805</td>\n",
       "      <td>7.640000</td>\n",
       "      <td>0.863514</td>\n",
       "      <td>1399.618111</td>\n",
       "      <td>-498.863574</td>\n",
       "      <td>1397.440120</td>\n",
       "      <td>-499.211024</td>\n",
       "      <td>1400.129303</td>\n",
       "      <td>...</td>\n",
       "      <td>12.033091</td>\n",
       "      <td>-498.350935</td>\n",
       "      <td>8.074946</td>\n",
       "      <td>-499.474407</td>\n",
       "      <td>7.897085</td>\n",
       "      <td>-500.868509</td>\n",
       "      <td>4.931400</td>\n",
       "      <td>-499.963623</td>\n",
       "      <td>24.948919</td>\n",
       "      <td>-498.709987</td>\n",
       "    </tr>\n",
       "    <tr>\n",
       "      <th>4</th>\n",
       "      <td>2016-09-01 04:59:59</td>\n",
       "      <td>199.099327</td>\n",
       "      <td>10.682530</td>\n",
       "      <td>7.530000</td>\n",
       "      <td>0.805575</td>\n",
       "      <td>1401.268123</td>\n",
       "      <td>-500.808305</td>\n",
       "      <td>1398.128818</td>\n",
       "      <td>-499.504543</td>\n",
       "      <td>1402.172226</td>\n",
       "      <td>...</td>\n",
       "      <td>12.025367</td>\n",
       "      <td>-500.786497</td>\n",
       "      <td>8.054678</td>\n",
       "      <td>-500.397500</td>\n",
       "      <td>8.107890</td>\n",
       "      <td>-509.526725</td>\n",
       "      <td>4.957674</td>\n",
       "      <td>-500.360026</td>\n",
       "      <td>25.003331</td>\n",
       "      <td>-500.856333</td>\n",
       "    </tr>\n",
       "  </tbody>\n",
       "</table>\n",
       "<p>5 rows × 53 columns</p>\n",
       "</div>"
      ],
      "text/plain": [
       "                  date  primary_cleaner.input.sulfate  \\\n",
       "0  2016-09-01 00:59:59                     210.800909   \n",
       "1  2016-09-01 01:59:59                     215.392455   \n",
       "2  2016-09-01 02:59:59                     215.259946   \n",
       "3  2016-09-01 03:59:59                     215.336236   \n",
       "4  2016-09-01 04:59:59                     199.099327   \n",
       "\n",
       "   primary_cleaner.input.depressant  primary_cleaner.input.feed_size  \\\n",
       "0                         14.993118                         8.080000   \n",
       "1                         14.987471                         8.080000   \n",
       "2                         12.884934                         7.786667   \n",
       "3                         12.006805                         7.640000   \n",
       "4                         10.682530                         7.530000   \n",
       "\n",
       "   primary_cleaner.input.xanthate  primary_cleaner.state.floatbank8_a_air  \\\n",
       "0                        1.005021                             1398.981301   \n",
       "1                        0.990469                             1398.777912   \n",
       "2                        0.996043                             1398.493666   \n",
       "3                        0.863514                             1399.618111   \n",
       "4                        0.805575                             1401.268123   \n",
       "\n",
       "   primary_cleaner.state.floatbank8_a_level  \\\n",
       "0                               -500.225577   \n",
       "1                               -500.057435   \n",
       "2                               -500.868360   \n",
       "3                               -498.863574   \n",
       "4                               -500.808305   \n",
       "\n",
       "   primary_cleaner.state.floatbank8_b_air  \\\n",
       "0                             1399.144926   \n",
       "1                             1398.055362   \n",
       "2                             1398.860436   \n",
       "3                             1397.440120   \n",
       "4                             1398.128818   \n",
       "\n",
       "   primary_cleaner.state.floatbank8_b_level  \\\n",
       "0                               -499.919735   \n",
       "1                               -499.778182   \n",
       "2                               -499.764529   \n",
       "3                               -499.211024   \n",
       "4                               -499.504543   \n",
       "\n",
       "   primary_cleaner.state.floatbank8_c_air  ...  \\\n",
       "0                             1400.102998  ...   \n",
       "1                             1396.151033  ...   \n",
       "2                             1398.075709  ...   \n",
       "3                             1400.129303  ...   \n",
       "4                             1402.172226  ...   \n",
       "\n",
       "   secondary_cleaner.state.floatbank4_a_air  \\\n",
       "0                                 12.023554   \n",
       "1                                 12.058140   \n",
       "2                                 11.962366   \n",
       "3                                 12.033091   \n",
       "4                                 12.025367   \n",
       "\n",
       "   secondary_cleaner.state.floatbank4_a_level  \\\n",
       "0                                 -497.795834   \n",
       "1                                 -498.695773   \n",
       "2                                 -498.767484   \n",
       "3                                 -498.350935   \n",
       "4                                 -500.786497   \n",
       "\n",
       "   secondary_cleaner.state.floatbank4_b_air  \\\n",
       "0                                  8.016656   \n",
       "1                                  8.130979   \n",
       "2                                  8.096893   \n",
       "3                                  8.074946   \n",
       "4                                  8.054678   \n",
       "\n",
       "   secondary_cleaner.state.floatbank4_b_level  \\\n",
       "0                                 -501.289139   \n",
       "1                                 -499.634209   \n",
       "2                                 -500.827423   \n",
       "3                                 -499.474407   \n",
       "4                                 -500.397500   \n",
       "\n",
       "   secondary_cleaner.state.floatbank5_a_air  \\\n",
       "0                                  7.946562   \n",
       "1                                  7.958270   \n",
       "2                                  8.071056   \n",
       "3                                  7.897085   \n",
       "4                                  8.107890   \n",
       "\n",
       "   secondary_cleaner.state.floatbank5_a_level  \\\n",
       "0                                 -432.317850   \n",
       "1                                 -525.839648   \n",
       "2                                 -500.801673   \n",
       "3                                 -500.868509   \n",
       "4                                 -509.526725   \n",
       "\n",
       "   secondary_cleaner.state.floatbank5_b_air  \\\n",
       "0                                  4.872511   \n",
       "1                                  4.878850   \n",
       "2                                  4.905125   \n",
       "3                                  4.931400   \n",
       "4                                  4.957674   \n",
       "\n",
       "   secondary_cleaner.state.floatbank5_b_level  \\\n",
       "0                                 -500.037437   \n",
       "1                                 -500.162375   \n",
       "2                                 -499.828510   \n",
       "3                                 -499.963623   \n",
       "4                                 -500.360026   \n",
       "\n",
       "   secondary_cleaner.state.floatbank6_a_air  \\\n",
       "0                                 26.705889   \n",
       "1                                 25.019940   \n",
       "2                                 24.994862   \n",
       "3                                 24.948919   \n",
       "4                                 25.003331   \n",
       "\n",
       "   secondary_cleaner.state.floatbank6_a_level  \n",
       "0                                 -499.709414  \n",
       "1                                 -499.819438  \n",
       "2                                 -500.622559  \n",
       "3                                 -498.709987  \n",
       "4                                 -500.856333  \n",
       "\n",
       "[5 rows x 53 columns]"
      ]
     },
     "metadata": {},
     "output_type": "display_data"
    },
    {
     "name": "stdout",
     "output_type": "stream",
     "text": [
      "<class 'pandas.core.frame.DataFrame'>\n",
      "RangeIndex: 5290 entries, 0 to 5289\n",
      "Data columns (total 53 columns):\n",
      " #   Column                                      Non-Null Count  Dtype  \n",
      "---  ------                                      --------------  -----  \n",
      " 0   date                                        5290 non-null   object \n",
      " 1   primary_cleaner.input.sulfate               5286 non-null   float64\n",
      " 2   primary_cleaner.input.depressant            5285 non-null   float64\n",
      " 3   primary_cleaner.input.feed_size             5290 non-null   float64\n",
      " 4   primary_cleaner.input.xanthate              5286 non-null   float64\n",
      " 5   primary_cleaner.state.floatbank8_a_air      5290 non-null   float64\n",
      " 6   primary_cleaner.state.floatbank8_a_level    5290 non-null   float64\n",
      " 7   primary_cleaner.state.floatbank8_b_air      5290 non-null   float64\n",
      " 8   primary_cleaner.state.floatbank8_b_level    5290 non-null   float64\n",
      " 9   primary_cleaner.state.floatbank8_c_air      5290 non-null   float64\n",
      " 10  primary_cleaner.state.floatbank8_c_level    5290 non-null   float64\n",
      " 11  primary_cleaner.state.floatbank8_d_air      5290 non-null   float64\n",
      " 12  primary_cleaner.state.floatbank8_d_level    5290 non-null   float64\n",
      " 13  rougher.input.feed_ag                       5290 non-null   float64\n",
      " 14  rougher.input.feed_pb                       5290 non-null   float64\n",
      " 15  rougher.input.feed_rate                     5287 non-null   float64\n",
      " 16  rougher.input.feed_size                     5289 non-null   float64\n",
      " 17  rougher.input.feed_sol                      5269 non-null   float64\n",
      " 18  rougher.input.feed_au                       5290 non-null   float64\n",
      " 19  rougher.input.floatbank10_sulfate           5285 non-null   float64\n",
      " 20  rougher.input.floatbank10_xanthate          5290 non-null   float64\n",
      " 21  rougher.input.floatbank11_sulfate           5282 non-null   float64\n",
      " 22  rougher.input.floatbank11_xanthate          5265 non-null   float64\n",
      " 23  rougher.state.floatbank10_a_air             5290 non-null   float64\n",
      " 24  rougher.state.floatbank10_a_level           5290 non-null   float64\n",
      " 25  rougher.state.floatbank10_b_air             5290 non-null   float64\n",
      " 26  rougher.state.floatbank10_b_level           5290 non-null   float64\n",
      " 27  rougher.state.floatbank10_c_air             5290 non-null   float64\n",
      " 28  rougher.state.floatbank10_c_level           5290 non-null   float64\n",
      " 29  rougher.state.floatbank10_d_air             5290 non-null   float64\n",
      " 30  rougher.state.floatbank10_d_level           5290 non-null   float64\n",
      " 31  rougher.state.floatbank10_e_air             5290 non-null   float64\n",
      " 32  rougher.state.floatbank10_e_level           5290 non-null   float64\n",
      " 33  rougher.state.floatbank10_f_air             5290 non-null   float64\n",
      " 34  rougher.state.floatbank10_f_level           5290 non-null   float64\n",
      " 35  secondary_cleaner.state.floatbank2_a_air    5287 non-null   float64\n",
      " 36  secondary_cleaner.state.floatbank2_a_level  5290 non-null   float64\n",
      " 37  secondary_cleaner.state.floatbank2_b_air    5288 non-null   float64\n",
      " 38  secondary_cleaner.state.floatbank2_b_level  5290 non-null   float64\n",
      " 39  secondary_cleaner.state.floatbank3_a_air    5281 non-null   float64\n",
      " 40  secondary_cleaner.state.floatbank3_a_level  5290 non-null   float64\n",
      " 41  secondary_cleaner.state.floatbank3_b_air    5290 non-null   float64\n",
      " 42  secondary_cleaner.state.floatbank3_b_level  5290 non-null   float64\n",
      " 43  secondary_cleaner.state.floatbank4_a_air    5290 non-null   float64\n",
      " 44  secondary_cleaner.state.floatbank4_a_level  5290 non-null   float64\n",
      " 45  secondary_cleaner.state.floatbank4_b_air    5290 non-null   float64\n",
      " 46  secondary_cleaner.state.floatbank4_b_level  5290 non-null   float64\n",
      " 47  secondary_cleaner.state.floatbank5_a_air    5290 non-null   float64\n",
      " 48  secondary_cleaner.state.floatbank5_a_level  5290 non-null   float64\n",
      " 49  secondary_cleaner.state.floatbank5_b_air    5290 non-null   float64\n",
      " 50  secondary_cleaner.state.floatbank5_b_level  5290 non-null   float64\n",
      " 51  secondary_cleaner.state.floatbank6_a_air    5290 non-null   float64\n",
      " 52  secondary_cleaner.state.floatbank6_a_level  5290 non-null   float64\n",
      "dtypes: float64(52), object(1)\n",
      "memory usage: 2.1+ MB\n"
     ]
    }
   ],
   "source": [
    "display(test.head())\n",
    "test.info()"
   ]
  },
  {
   "cell_type": "code",
   "execution_count": 5,
   "metadata": {
    "scrolled": false
   },
   "outputs": [
    {
     "data": {
      "text/html": [
       "<div>\n",
       "<style scoped>\n",
       "    .dataframe tbody tr th:only-of-type {\n",
       "        vertical-align: middle;\n",
       "    }\n",
       "\n",
       "    .dataframe tbody tr th {\n",
       "        vertical-align: top;\n",
       "    }\n",
       "\n",
       "    .dataframe thead th {\n",
       "        text-align: right;\n",
       "    }\n",
       "</style>\n",
       "<table border=\"1\" class=\"dataframe\">\n",
       "  <thead>\n",
       "    <tr style=\"text-align: right;\">\n",
       "      <th></th>\n",
       "      <th>date</th>\n",
       "      <th>final.output.concentrate_ag</th>\n",
       "      <th>final.output.concentrate_pb</th>\n",
       "      <th>final.output.concentrate_sol</th>\n",
       "      <th>final.output.concentrate_au</th>\n",
       "      <th>final.output.recovery</th>\n",
       "      <th>final.output.tail_ag</th>\n",
       "      <th>final.output.tail_pb</th>\n",
       "      <th>final.output.tail_sol</th>\n",
       "      <th>final.output.tail_au</th>\n",
       "      <th>...</th>\n",
       "      <th>secondary_cleaner.state.floatbank4_a_air</th>\n",
       "      <th>secondary_cleaner.state.floatbank4_a_level</th>\n",
       "      <th>secondary_cleaner.state.floatbank4_b_air</th>\n",
       "      <th>secondary_cleaner.state.floatbank4_b_level</th>\n",
       "      <th>secondary_cleaner.state.floatbank5_a_air</th>\n",
       "      <th>secondary_cleaner.state.floatbank5_a_level</th>\n",
       "      <th>secondary_cleaner.state.floatbank5_b_air</th>\n",
       "      <th>secondary_cleaner.state.floatbank5_b_level</th>\n",
       "      <th>secondary_cleaner.state.floatbank6_a_air</th>\n",
       "      <th>secondary_cleaner.state.floatbank6_a_level</th>\n",
       "    </tr>\n",
       "  </thead>\n",
       "  <tbody>\n",
       "    <tr>\n",
       "      <th>0</th>\n",
       "      <td>2016-01-15 00:00:00</td>\n",
       "      <td>6.055403</td>\n",
       "      <td>9.889648</td>\n",
       "      <td>5.507324</td>\n",
       "      <td>42.192020</td>\n",
       "      <td>70.541216</td>\n",
       "      <td>10.411962</td>\n",
       "      <td>0.895447</td>\n",
       "      <td>16.904297</td>\n",
       "      <td>2.143149</td>\n",
       "      <td>...</td>\n",
       "      <td>14.016835</td>\n",
       "      <td>-502.488007</td>\n",
       "      <td>12.099931</td>\n",
       "      <td>-504.715942</td>\n",
       "      <td>9.925633</td>\n",
       "      <td>-498.310211</td>\n",
       "      <td>8.079666</td>\n",
       "      <td>-500.470978</td>\n",
       "      <td>14.151341</td>\n",
       "      <td>-605.841980</td>\n",
       "    </tr>\n",
       "    <tr>\n",
       "      <th>1</th>\n",
       "      <td>2016-01-15 01:00:00</td>\n",
       "      <td>6.029369</td>\n",
       "      <td>9.968944</td>\n",
       "      <td>5.257781</td>\n",
       "      <td>42.701629</td>\n",
       "      <td>69.266198</td>\n",
       "      <td>10.462676</td>\n",
       "      <td>0.927452</td>\n",
       "      <td>16.634514</td>\n",
       "      <td>2.224930</td>\n",
       "      <td>...</td>\n",
       "      <td>13.992281</td>\n",
       "      <td>-505.503262</td>\n",
       "      <td>11.950531</td>\n",
       "      <td>-501.331529</td>\n",
       "      <td>10.039245</td>\n",
       "      <td>-500.169983</td>\n",
       "      <td>7.984757</td>\n",
       "      <td>-500.582168</td>\n",
       "      <td>13.998353</td>\n",
       "      <td>-599.787184</td>\n",
       "    </tr>\n",
       "    <tr>\n",
       "      <th>2</th>\n",
       "      <td>2016-01-15 02:00:00</td>\n",
       "      <td>6.055926</td>\n",
       "      <td>10.213995</td>\n",
       "      <td>5.383759</td>\n",
       "      <td>42.657501</td>\n",
       "      <td>68.116445</td>\n",
       "      <td>10.507046</td>\n",
       "      <td>0.953716</td>\n",
       "      <td>16.208849</td>\n",
       "      <td>2.257889</td>\n",
       "      <td>...</td>\n",
       "      <td>14.015015</td>\n",
       "      <td>-502.520901</td>\n",
       "      <td>11.912783</td>\n",
       "      <td>-501.133383</td>\n",
       "      <td>10.070913</td>\n",
       "      <td>-500.129135</td>\n",
       "      <td>8.013877</td>\n",
       "      <td>-500.517572</td>\n",
       "      <td>14.028663</td>\n",
       "      <td>-601.427363</td>\n",
       "    </tr>\n",
       "    <tr>\n",
       "      <th>3</th>\n",
       "      <td>2016-01-15 03:00:00</td>\n",
       "      <td>6.047977</td>\n",
       "      <td>9.977019</td>\n",
       "      <td>4.858634</td>\n",
       "      <td>42.689819</td>\n",
       "      <td>68.347543</td>\n",
       "      <td>10.422762</td>\n",
       "      <td>0.883763</td>\n",
       "      <td>16.532835</td>\n",
       "      <td>2.146849</td>\n",
       "      <td>...</td>\n",
       "      <td>14.036510</td>\n",
       "      <td>-500.857308</td>\n",
       "      <td>11.999550</td>\n",
       "      <td>-501.193686</td>\n",
       "      <td>9.970366</td>\n",
       "      <td>-499.201640</td>\n",
       "      <td>7.977324</td>\n",
       "      <td>-500.255908</td>\n",
       "      <td>14.005551</td>\n",
       "      <td>-599.996129</td>\n",
       "    </tr>\n",
       "    <tr>\n",
       "      <th>4</th>\n",
       "      <td>2016-01-15 04:00:00</td>\n",
       "      <td>6.148599</td>\n",
       "      <td>10.142511</td>\n",
       "      <td>4.939416</td>\n",
       "      <td>42.774141</td>\n",
       "      <td>66.927016</td>\n",
       "      <td>10.360302</td>\n",
       "      <td>0.792826</td>\n",
       "      <td>16.525686</td>\n",
       "      <td>2.055292</td>\n",
       "      <td>...</td>\n",
       "      <td>14.027298</td>\n",
       "      <td>-499.838632</td>\n",
       "      <td>11.953070</td>\n",
       "      <td>-501.053894</td>\n",
       "      <td>9.925709</td>\n",
       "      <td>-501.686727</td>\n",
       "      <td>7.894242</td>\n",
       "      <td>-500.356035</td>\n",
       "      <td>13.996647</td>\n",
       "      <td>-601.496691</td>\n",
       "    </tr>\n",
       "  </tbody>\n",
       "</table>\n",
       "<p>5 rows × 87 columns</p>\n",
       "</div>"
      ],
      "text/plain": [
       "                  date  final.output.concentrate_ag  \\\n",
       "0  2016-01-15 00:00:00                     6.055403   \n",
       "1  2016-01-15 01:00:00                     6.029369   \n",
       "2  2016-01-15 02:00:00                     6.055926   \n",
       "3  2016-01-15 03:00:00                     6.047977   \n",
       "4  2016-01-15 04:00:00                     6.148599   \n",
       "\n",
       "   final.output.concentrate_pb  final.output.concentrate_sol  \\\n",
       "0                     9.889648                      5.507324   \n",
       "1                     9.968944                      5.257781   \n",
       "2                    10.213995                      5.383759   \n",
       "3                     9.977019                      4.858634   \n",
       "4                    10.142511                      4.939416   \n",
       "\n",
       "   final.output.concentrate_au  final.output.recovery  final.output.tail_ag  \\\n",
       "0                    42.192020              70.541216             10.411962   \n",
       "1                    42.701629              69.266198             10.462676   \n",
       "2                    42.657501              68.116445             10.507046   \n",
       "3                    42.689819              68.347543             10.422762   \n",
       "4                    42.774141              66.927016             10.360302   \n",
       "\n",
       "   final.output.tail_pb  final.output.tail_sol  final.output.tail_au  ...  \\\n",
       "0              0.895447              16.904297              2.143149  ...   \n",
       "1              0.927452              16.634514              2.224930  ...   \n",
       "2              0.953716              16.208849              2.257889  ...   \n",
       "3              0.883763              16.532835              2.146849  ...   \n",
       "4              0.792826              16.525686              2.055292  ...   \n",
       "\n",
       "   secondary_cleaner.state.floatbank4_a_air  \\\n",
       "0                                 14.016835   \n",
       "1                                 13.992281   \n",
       "2                                 14.015015   \n",
       "3                                 14.036510   \n",
       "4                                 14.027298   \n",
       "\n",
       "   secondary_cleaner.state.floatbank4_a_level  \\\n",
       "0                                 -502.488007   \n",
       "1                                 -505.503262   \n",
       "2                                 -502.520901   \n",
       "3                                 -500.857308   \n",
       "4                                 -499.838632   \n",
       "\n",
       "   secondary_cleaner.state.floatbank4_b_air  \\\n",
       "0                                 12.099931   \n",
       "1                                 11.950531   \n",
       "2                                 11.912783   \n",
       "3                                 11.999550   \n",
       "4                                 11.953070   \n",
       "\n",
       "   secondary_cleaner.state.floatbank4_b_level  \\\n",
       "0                                 -504.715942   \n",
       "1                                 -501.331529   \n",
       "2                                 -501.133383   \n",
       "3                                 -501.193686   \n",
       "4                                 -501.053894   \n",
       "\n",
       "   secondary_cleaner.state.floatbank5_a_air  \\\n",
       "0                                  9.925633   \n",
       "1                                 10.039245   \n",
       "2                                 10.070913   \n",
       "3                                  9.970366   \n",
       "4                                  9.925709   \n",
       "\n",
       "   secondary_cleaner.state.floatbank5_a_level  \\\n",
       "0                                 -498.310211   \n",
       "1                                 -500.169983   \n",
       "2                                 -500.129135   \n",
       "3                                 -499.201640   \n",
       "4                                 -501.686727   \n",
       "\n",
       "   secondary_cleaner.state.floatbank5_b_air  \\\n",
       "0                                  8.079666   \n",
       "1                                  7.984757   \n",
       "2                                  8.013877   \n",
       "3                                  7.977324   \n",
       "4                                  7.894242   \n",
       "\n",
       "   secondary_cleaner.state.floatbank5_b_level  \\\n",
       "0                                 -500.470978   \n",
       "1                                 -500.582168   \n",
       "2                                 -500.517572   \n",
       "3                                 -500.255908   \n",
       "4                                 -500.356035   \n",
       "\n",
       "   secondary_cleaner.state.floatbank6_a_air  \\\n",
       "0                                 14.151341   \n",
       "1                                 13.998353   \n",
       "2                                 14.028663   \n",
       "3                                 14.005551   \n",
       "4                                 13.996647   \n",
       "\n",
       "   secondary_cleaner.state.floatbank6_a_level  \n",
       "0                                 -605.841980  \n",
       "1                                 -599.787184  \n",
       "2                                 -601.427363  \n",
       "3                                 -599.996129  \n",
       "4                                 -601.496691  \n",
       "\n",
       "[5 rows x 87 columns]"
      ]
     },
     "metadata": {},
     "output_type": "display_data"
    },
    {
     "name": "stdout",
     "output_type": "stream",
     "text": [
      "<class 'pandas.core.frame.DataFrame'>\n",
      "RangeIndex: 19439 entries, 0 to 19438\n",
      "Data columns (total 87 columns):\n",
      " #   Column                                              Non-Null Count  Dtype  \n",
      "---  ------                                              --------------  -----  \n",
      " 0   date                                                19439 non-null  object \n",
      " 1   final.output.concentrate_ag                         19438 non-null  float64\n",
      " 2   final.output.concentrate_pb                         19438 non-null  float64\n",
      " 3   final.output.concentrate_sol                        19228 non-null  float64\n",
      " 4   final.output.concentrate_au                         19439 non-null  float64\n",
      " 5   final.output.recovery                               19439 non-null  float64\n",
      " 6   final.output.tail_ag                                19438 non-null  float64\n",
      " 7   final.output.tail_pb                                19338 non-null  float64\n",
      " 8   final.output.tail_sol                               19433 non-null  float64\n",
      " 9   final.output.tail_au                                19439 non-null  float64\n",
      " 10  primary_cleaner.input.sulfate                       19415 non-null  float64\n",
      " 11  primary_cleaner.input.depressant                    19402 non-null  float64\n",
      " 12  primary_cleaner.input.feed_size                     19439 non-null  float64\n",
      " 13  primary_cleaner.input.xanthate                      19335 non-null  float64\n",
      " 14  primary_cleaner.output.concentrate_ag               19439 non-null  float64\n",
      " 15  primary_cleaner.output.concentrate_pb               19323 non-null  float64\n",
      " 16  primary_cleaner.output.concentrate_sol              19069 non-null  float64\n",
      " 17  primary_cleaner.output.concentrate_au               19439 non-null  float64\n",
      " 18  primary_cleaner.output.tail_ag                      19435 non-null  float64\n",
      " 19  primary_cleaner.output.tail_pb                      19418 non-null  float64\n",
      " 20  primary_cleaner.output.tail_sol                     19377 non-null  float64\n",
      " 21  primary_cleaner.output.tail_au                      19439 non-null  float64\n",
      " 22  primary_cleaner.state.floatbank8_a_air              19435 non-null  float64\n",
      " 23  primary_cleaner.state.floatbank8_a_level            19438 non-null  float64\n",
      " 24  primary_cleaner.state.floatbank8_b_air              19435 non-null  float64\n",
      " 25  primary_cleaner.state.floatbank8_b_level            19438 non-null  float64\n",
      " 26  primary_cleaner.state.floatbank8_c_air              19437 non-null  float64\n",
      " 27  primary_cleaner.state.floatbank8_c_level            19438 non-null  float64\n",
      " 28  primary_cleaner.state.floatbank8_d_air              19436 non-null  float64\n",
      " 29  primary_cleaner.state.floatbank8_d_level            19438 non-null  float64\n",
      " 30  rougher.calculation.sulfate_to_au_concentrate       19437 non-null  float64\n",
      " 31  rougher.calculation.floatbank10_sulfate_to_au_feed  19437 non-null  float64\n",
      " 32  rougher.calculation.floatbank11_sulfate_to_au_feed  19437 non-null  float64\n",
      " 33  rougher.calculation.au_pb_ratio                     19439 non-null  float64\n",
      " 34  rougher.input.feed_ag                               19439 non-null  float64\n",
      " 35  rougher.input.feed_pb                               19339 non-null  float64\n",
      " 36  rougher.input.feed_rate                             19428 non-null  float64\n",
      " 37  rougher.input.feed_size                             19294 non-null  float64\n",
      " 38  rougher.input.feed_sol                              19340 non-null  float64\n",
      " 39  rougher.input.feed_au                               19439 non-null  float64\n",
      " 40  rougher.input.floatbank10_sulfate                   19405 non-null  float64\n",
      " 41  rougher.input.floatbank10_xanthate                  19431 non-null  float64\n",
      " 42  rougher.input.floatbank11_sulfate                   19395 non-null  float64\n",
      " 43  rougher.input.floatbank11_xanthate                  18986 non-null  float64\n",
      " 44  rougher.output.concentrate_ag                       19439 non-null  float64\n",
      " 45  rougher.output.concentrate_pb                       19439 non-null  float64\n",
      " 46  rougher.output.concentrate_sol                      19416 non-null  float64\n",
      " 47  rougher.output.concentrate_au                       19439 non-null  float64\n",
      " 48  rougher.output.recovery                             19439 non-null  float64\n",
      " 49  rougher.output.tail_ag                              19438 non-null  float64\n",
      " 50  rougher.output.tail_pb                              19439 non-null  float64\n",
      " 51  rougher.output.tail_sol                             19439 non-null  float64\n",
      " 52  rougher.output.tail_au                              19439 non-null  float64\n",
      " 53  rougher.state.floatbank10_a_air                     19438 non-null  float64\n",
      " 54  rougher.state.floatbank10_a_level                   19438 non-null  float64\n",
      " 55  rougher.state.floatbank10_b_air                     19438 non-null  float64\n",
      " 56  rougher.state.floatbank10_b_level                   19438 non-null  float64\n",
      " 57  rougher.state.floatbank10_c_air                     19438 non-null  float64\n",
      " 58  rougher.state.floatbank10_c_level                   19438 non-null  float64\n",
      " 59  rougher.state.floatbank10_d_air                     19439 non-null  float64\n",
      " 60  rougher.state.floatbank10_d_level                   19439 non-null  float64\n",
      " 61  rougher.state.floatbank10_e_air                     19003 non-null  float64\n",
      " 62  rougher.state.floatbank10_e_level                   19439 non-null  float64\n",
      " 63  rougher.state.floatbank10_f_air                     19439 non-null  float64\n",
      " 64  rougher.state.floatbank10_f_level                   19439 non-null  float64\n",
      " 65  secondary_cleaner.output.tail_ag                    19437 non-null  float64\n",
      " 66  secondary_cleaner.output.tail_pb                    19427 non-null  float64\n",
      " 67  secondary_cleaner.output.tail_sol                   17691 non-null  float64\n",
      " 68  secondary_cleaner.output.tail_au                    19439 non-null  float64\n",
      " 69  secondary_cleaner.state.floatbank2_a_air            19219 non-null  float64\n",
      " 70  secondary_cleaner.state.floatbank2_a_level          19438 non-null  float64\n",
      " 71  secondary_cleaner.state.floatbank2_b_air            19416 non-null  float64\n",
      " 72  secondary_cleaner.state.floatbank2_b_level          19438 non-null  float64\n",
      " 73  secondary_cleaner.state.floatbank3_a_air            19426 non-null  float64\n",
      " 74  secondary_cleaner.state.floatbank3_a_level          19438 non-null  float64\n",
      " 75  secondary_cleaner.state.floatbank3_b_air            19438 non-null  float64\n",
      " 76  secondary_cleaner.state.floatbank3_b_level          19438 non-null  float64\n",
      " 77  secondary_cleaner.state.floatbank4_a_air            19433 non-null  float64\n",
      " 78  secondary_cleaner.state.floatbank4_a_level          19438 non-null  float64\n",
      " 79  secondary_cleaner.state.floatbank4_b_air            19438 non-null  float64\n",
      " 80  secondary_cleaner.state.floatbank4_b_level          19438 non-null  float64\n",
      " 81  secondary_cleaner.state.floatbank5_a_air            19438 non-null  float64\n",
      " 82  secondary_cleaner.state.floatbank5_a_level          19438 non-null  float64\n",
      " 83  secondary_cleaner.state.floatbank5_b_air            19438 non-null  float64\n",
      " 84  secondary_cleaner.state.floatbank5_b_level          19438 non-null  float64\n",
      " 85  secondary_cleaner.state.floatbank6_a_air            19437 non-null  float64\n",
      " 86  secondary_cleaner.state.floatbank6_a_level          19438 non-null  float64\n",
      "dtypes: float64(86), object(1)\n",
      "memory usage: 12.9+ MB\n"
     ]
    }
   ],
   "source": [
    "display(full.head())\n",
    "full.info()"
   ]
  },
  {
   "cell_type": "markdown",
   "metadata": {},
   "source": [
    "**Проверим рассчеты эффективности обогащения.**"
   ]
  },
  {
   "cell_type": "code",
   "execution_count": 6,
   "metadata": {},
   "outputs": [],
   "source": [
    "def recovery(row):\n",
    "    F, C, T = row['rougher.input.feed_au'], row['rougher.output.concentrate_au'], row['rougher.output.tail_au']\n",
    "    return C * (F - T) / (F * (C - T)) * 100"
   ]
  },
  {
   "cell_type": "markdown",
   "metadata": {},
   "source": [
    "где:\n",
    "\n",
    "`C` — доля золота в концентрате после флотации/очистки;   \n",
    "`F` — доля золота в сырье/концентрате до флотации/очистки;    \n",
    "`T` — доля золота в отвальных хвостах после флотации/очистки.\n",
    "    "
   ]
  },
  {
   "cell_type": "code",
   "execution_count": 7,
   "metadata": {},
   "outputs": [
    {
     "data": {
      "text/plain": [
       "9.730101616170628e-15"
      ]
     },
     "execution_count": 7,
     "metadata": {},
     "output_type": "execute_result"
    }
   ],
   "source": [
    "MAE(train['rougher.output.recovery'], train.apply(recovery,axis = 1))"
   ]
  },
  {
   "cell_type": "markdown",
   "metadata": {},
   "source": [
    "Параметр recovery в обучающем наборе данных рассчитан верно."
   ]
  },
  {
   "cell_type": "markdown",
   "metadata": {},
   "source": [
    "**Проанализируем признаки, недоступные в тестовой выборке.**"
   ]
  },
  {
   "cell_type": "code",
   "execution_count": 8,
   "metadata": {},
   "outputs": [],
   "source": [
    "data_col = [collections.Counter(), collections.Counter(), collections.Counter()]\n",
    "col = sorted(list(set(train) - set(test)))\n",
    "for i in col:\n",
    "    split_str = list(map(str,i.split(\".\")))\n",
    "    for j in range(3):\n",
    "        data_col[j][split_str[j]]+= 1"
   ]
  },
  {
   "cell_type": "code",
   "execution_count": 9,
   "metadata": {},
   "outputs": [
    {
     "data": {
      "text/plain": [
       "['final.output.concentrate_ag',\n",
       " 'final.output.concentrate_au',\n",
       " 'final.output.concentrate_pb',\n",
       " 'final.output.concentrate_sol',\n",
       " 'final.output.recovery',\n",
       " 'final.output.tail_ag',\n",
       " 'final.output.tail_au',\n",
       " 'final.output.tail_pb',\n",
       " 'final.output.tail_sol',\n",
       " 'primary_cleaner.output.concentrate_ag',\n",
       " 'primary_cleaner.output.concentrate_au',\n",
       " 'primary_cleaner.output.concentrate_pb',\n",
       " 'primary_cleaner.output.concentrate_sol',\n",
       " 'primary_cleaner.output.tail_ag',\n",
       " 'primary_cleaner.output.tail_au',\n",
       " 'primary_cleaner.output.tail_pb',\n",
       " 'primary_cleaner.output.tail_sol',\n",
       " 'rougher.calculation.au_pb_ratio',\n",
       " 'rougher.calculation.floatbank10_sulfate_to_au_feed',\n",
       " 'rougher.calculation.floatbank11_sulfate_to_au_feed',\n",
       " 'rougher.calculation.sulfate_to_au_concentrate',\n",
       " 'rougher.output.concentrate_ag',\n",
       " 'rougher.output.concentrate_au',\n",
       " 'rougher.output.concentrate_pb',\n",
       " 'rougher.output.concentrate_sol',\n",
       " 'rougher.output.recovery',\n",
       " 'rougher.output.tail_ag',\n",
       " 'rougher.output.tail_au',\n",
       " 'rougher.output.tail_pb',\n",
       " 'rougher.output.tail_sol',\n",
       " 'secondary_cleaner.output.tail_ag',\n",
       " 'secondary_cleaner.output.tail_au',\n",
       " 'secondary_cleaner.output.tail_pb',\n",
       " 'secondary_cleaner.output.tail_sol']"
      ]
     },
     "metadata": {},
     "output_type": "display_data"
    },
    {
     "data": {
      "text/plain": [
       "[Counter({'final': 9,\n",
       "          'primary_cleaner': 8,\n",
       "          'rougher': 13,\n",
       "          'secondary_cleaner': 4}),\n",
       " Counter({'output': 30, 'calculation': 4}),\n",
       " Counter({'concentrate_ag': 3,\n",
       "          'concentrate_au': 3,\n",
       "          'concentrate_pb': 3,\n",
       "          'concentrate_sol': 3,\n",
       "          'recovery': 2,\n",
       "          'tail_ag': 4,\n",
       "          'tail_au': 4,\n",
       "          'tail_pb': 4,\n",
       "          'tail_sol': 4,\n",
       "          'au_pb_ratio': 1,\n",
       "          'floatbank10_sulfate_to_au_feed': 1,\n",
       "          'floatbank11_sulfate_to_au_feed': 1,\n",
       "          'sulfate_to_au_concentrate': 1})]"
      ]
     },
     "metadata": {},
     "output_type": "display_data"
    },
    {
     "data": {
      "text/plain": [
       "34"
      ]
     },
     "metadata": {},
     "output_type": "display_data"
    }
   ],
   "source": [
    "display(col, data_col, len(col))"
   ]
  },
  {
   "cell_type": "markdown",
   "metadata": {},
   "source": [
    "По итогу в тестовой выборке отсутствует 34 признака: \n",
    "*** \n",
    "* 30  являются параметрами продукта (руды на разных этапах обработки); \n",
    "* 4 рассчитываются на основании уже полученых данных.\n",
    "***\n",
    "- 13 относятся к этапу флотации; \n",
    "- 8 - к первичной этапу очистки; \n",
    "- 4 - ко вторичному;\n",
    "- 9 - параметрам обработанного продукта.\n",
    "\n",
    "**Важно**: в тестовой выборке отсутствуют целевые признаки `rougher.output.recovery` и `final.output.recovery`."
   ]
  },
  {
   "cell_type": "markdown",
   "metadata": {},
   "source": [
    "**Проведём предобработку данных.**"
   ]
  },
  {
   "cell_type": "markdown",
   "metadata": {},
   "source": [
    "Добавим в `test` недостающие целевые признаки."
   ]
  },
  {
   "cell_type": "code",
   "execution_count": 10,
   "metadata": {},
   "outputs": [],
   "source": [
    "test = test.merge(full[[\"date\", \"rougher.output.recovery\", \"final.output.recovery\"]], on=\"date\", how=\"left\")"
   ]
  },
  {
   "cell_type": "markdown",
   "metadata": {},
   "source": [
    "Переведем дату из `object`  в формат `datetime`."
   ]
  },
  {
   "cell_type": "code",
   "execution_count": 11,
   "metadata": {},
   "outputs": [],
   "source": [
    "train['date'], test['date'], full['date'] = [pd.to_datetime(df, format = '%Y-%m-%d %H:%M:%S') for df in \n",
    "                                             [train['date'], test['date'], full['date']]]"
   ]
  },
  {
   "cell_type": "code",
   "execution_count": 12,
   "metadata": {},
   "outputs": [
    {
     "data": {
      "text/plain": [
       "(4100, 90, 4481)"
      ]
     },
     "execution_count": 12,
     "metadata": {},
     "output_type": "execute_result"
    }
   ],
   "source": [
    "train.isnull().sum().sum(), test.isna().sum().sum(), full.isna().sum().sum()"
   ]
  },
  {
   "cell_type": "markdown",
   "metadata": {},
   "source": [
    "Из описания проекта известно, что данные индексируются датой и временем получения информации (признак date) и соседние по времени параметры часто похожи. Поэтому пропуски в наших наборах данных можно заполнить используя `fillna` с методом `ffill`."
   ]
  },
  {
   "cell_type": "code",
   "execution_count": 13,
   "metadata": {},
   "outputs": [],
   "source": [
    "train = train.set_index('date').fillna(method='ffill')\n",
    "test = test.set_index('date').fillna(method='ffill')\n",
    "full = full.set_index('date').fillna(method='ffill')"
   ]
  },
  {
   "cell_type": "code",
   "execution_count": 14,
   "metadata": {
    "scrolled": false
   },
   "outputs": [
    {
     "data": {
      "text/plain": [
       "(0, 0, 0)"
      ]
     },
     "execution_count": 14,
     "metadata": {},
     "output_type": "execute_result"
    }
   ],
   "source": [
    "train.isnull().sum().sum(), test.isna().sum().sum(), full.isna().sum().sum()"
   ]
  },
  {
   "cell_type": "markdown",
   "metadata": {},
   "source": [
    "**Вывод.**"
   ]
  },
  {
   "cell_type": "markdown",
   "metadata": {},
   "source": [
    "1. Были подготовлены данные для дальнейшего анализа и машинного обучения. \n",
    "2. Проверена корректность расчитанной эффективности обогащения в обучающей выборке. Значение MAE получилось пренебрежительно малым, что подтверждает правильность расчетов в обучающей выборке. \n",
    "3. Для тестовой выборки были определены отсутствующие признаки, по сравнению с обучающей выборкой. Отсутсвали только целевые признаки и расчетные характеристики. \n",
    "4. Была проведена предобработка данных: заполнены пропуски и подкорректированны типы данных."
   ]
  },
  {
   "cell_type": "markdown",
   "metadata": {},
   "source": [
    "## Анализ данных"
   ]
  },
  {
   "cell_type": "markdown",
   "metadata": {},
   "source": [
    "**Посмотрим, как меняется концентрация металлов (Au, Ag, Pb) на различных этапах очистки.**"
   ]
  },
  {
   "cell_type": "code",
   "execution_count": 15,
   "metadata": {},
   "outputs": [],
   "source": [
    "au_ag_pb = [[full[\"rougher.input.feed_au\"].mean(), \n",
    "             full[\"rougher.output.concentrate_au\"].mean(), \n",
    "             full[\"primary_cleaner.output.concentrate_au\"].mean(), \n",
    "             full[\"final.output.concentrate_au\"].mean()], \n",
    "            [full[\"rougher.input.feed_ag\"].mean(), \n",
    "             full[\"rougher.output.concentrate_ag\"].mean(), \n",
    "             full[\"primary_cleaner.output.concentrate_ag\"].mean(), \n",
    "             full[\"final.output.concentrate_ag\"].mean()], \n",
    "            [full[\"rougher.input.feed_pb\"].mean(), \n",
    "             full[\"rougher.output.concentrate_pb\"].mean(), \n",
    "             full[\"primary_cleaner.output.concentrate_pb\"].mean(), \n",
    "             full[\"final.output.concentrate_pb\"].mean()]]\n",
    "au_ag_pb_n = ['золота:','серебра:', 'свинца:']\n",
    "st_n = ['до флотации:', 'после флотации:', 'после 1-й фазы очистки:', 'после 2-й фазы очистки:']"
   ]
  },
  {
   "cell_type": "code",
   "execution_count": 16,
   "metadata": {
    "scrolled": false
   },
   "outputs": [
    {
     "name": "stdout",
     "output_type": "stream",
     "text": [
      "Концентрация золота:\n",
      "    до флотации: 8.266\n",
      "    после флотации: 19.772\n",
      "    после 1-й фазы очистки: 32.119\n",
      "    после 2-й фазы очистки: 44.077\n",
      "-----------------------------------\n",
      "\n",
      "Концентрация серебра:\n",
      "    до флотации: 8.795\n",
      "    после флотации: 11.995\n",
      "    после 1-й фазы очистки: 8.442\n",
      "    после 2-й фазы очистки: 5.168\n",
      "-----------------------------------\n",
      "\n",
      "Концентрация свинца:\n",
      "    до флотации: 3.585\n",
      "    после флотации: 7.606\n",
      "    после 1-й фазы очистки: 9.81\n",
      "    после 2-й фазы очистки: 9.979\n",
      "-----------------------------------\n",
      "\n"
     ]
    }
   ],
   "source": [
    "for i in range(3):\n",
    "    print('Концентрация', au_ag_pb_n[i])\n",
    "    for j in range(4):\n",
    "        print('   ', st_n[j], round(au_ag_pb[i][j], 3))\n",
    "    print('-----------------------------------\\n')\n",
    "        "
   ]
  },
  {
   "cell_type": "markdown",
   "metadata": {},
   "source": [
    "С каждым последующим этапом обработки концентрация золота и свинца увеличивается,а концентрация серебра - уменьшается."
   ]
  },
  {
   "cell_type": "markdown",
   "metadata": {},
   "source": [
    "**Сравним распределения размеров гранул сырья на обучающей и тестовой выборках.**"
   ]
  },
  {
   "cell_type": "code",
   "execution_count": 17,
   "metadata": {
    "scrolled": false
   },
   "outputs": [
    {
     "data": {
      "image/png": "[encoded data removed]",
      "text/plain": [
       "<Figure size 1080x360 with 1 Axes>"
      ]
     },
     "metadata": {
      "needs_background": "light"
     },
     "output_type": "display_data"
    }
   ],
   "source": [
    "plt.figure(figsize=(15, 5))\n",
    "plt.title('График распределения размера гранул')\n",
    "for df, leg in zip([train, test], ['Обучающая', 'Тестовая']):\n",
    "    sns.distplot(df['rougher.input.feed_size'], hist = False, label = leg)\n",
    "plt.legend(prop={'size': 12}, title = 'Выборка')\n",
    "plt.xlabel('Размер гранул')\n",
    "plt.ylabel('Плотность частоты')\n",
    "plt.grid(True)"
   ]
  },
  {
   "cell_type": "markdown",
   "metadata": {},
   "source": [
    "Размеры гранул в обучающей и тестовой выборках имеют незначительные расхождения, что не должно послиять на качество оценки модели."
   ]
  },
  {
   "cell_type": "markdown",
   "metadata": {},
   "source": [
    "Уберем из выборок строки со слишком малыми и большими размерами гранул."
   ]
  },
  {
   "cell_type": "code",
   "execution_count": 18,
   "metadata": {},
   "outputs": [],
   "source": [
    "train = train[(train['rougher.input.feed_size'] > 20) & (train['rougher.input.feed_size'] < 100)]\n",
    "test = test[(test['rougher.input.feed_size'] > 20) & (test['rougher.input.feed_size'] < 100)]"
   ]
  },
  {
   "cell_type": "markdown",
   "metadata": {},
   "source": [
    "**Исследуем суммарную концентрацию всех веществ на разных стадиях: в сырье, в черновом и финальном концентратах.**"
   ]
  },
  {
   "cell_type": "code",
   "execution_count": 19,
   "metadata": {},
   "outputs": [],
   "source": [
    "def sum_con_mat(row):\n",
    "    au, ag, pb, sol = (row['rougher.input.feed_au'], \n",
    "                       row['rougher.input.feed_ag'], \n",
    "                       row['rougher.input.feed_pb'], \n",
    "                       row['rougher.input.feed_sol'])\n",
    "    out_rougher, out_primary_cleaner, out_final,  = [], [], []\n",
    "    for stage, array in zip(['rougher', 'primary_cleaner', 'final'], \n",
    "                            [out_rougher, out_primary_cleaner, out_final]):\n",
    "        for sub in ['au', 'ag', 'pb', 'sol']:\n",
    "            array.append(row[stage + \".output.concentrate_\" + sub])\n",
    "    return pd.Series([ag + au + pb + sol, \n",
    "                      sum(out_rougher), \n",
    "                      sum(out_primary_cleaner), \n",
    "                      sum(out_final)])"
   ]
  },
  {
   "cell_type": "code",
   "execution_count": 20,
   "metadata": {},
   "outputs": [],
   "source": [
    "sum_concentration = full.apply(sum_con_mat, axis = 1)\n",
    "sum_concentration.columns = ['before_rougher', 'rougher', 'primary_cleaner', 'final']"
   ]
  },
  {
   "cell_type": "code",
   "execution_count": 21,
   "metadata": {
    "scrolled": false
   },
   "outputs": [
    {
     "data": {
      "text/html": [
       "<div>\n",
       "<style scoped>\n",
       "    .dataframe tbody tr th:only-of-type {\n",
       "        vertical-align: middle;\n",
       "    }\n",
       "\n",
       "    .dataframe tbody tr th {\n",
       "        vertical-align: top;\n",
       "    }\n",
       "\n",
       "    .dataframe thead th {\n",
       "        text-align: right;\n",
       "    }\n",
       "</style>\n",
       "<table border=\"1\" class=\"dataframe\">\n",
       "  <thead>\n",
       "    <tr style=\"text-align: right;\">\n",
       "      <th></th>\n",
       "      <th>before_rougher</th>\n",
       "      <th>rougher</th>\n",
       "      <th>primary_cleaner</th>\n",
       "      <th>final</th>\n",
       "    </tr>\n",
       "    <tr>\n",
       "      <th>date</th>\n",
       "      <th></th>\n",
       "      <th></th>\n",
       "      <th></th>\n",
       "      <th></th>\n",
       "    </tr>\n",
       "  </thead>\n",
       "  <tbody>\n",
       "    <tr>\n",
       "      <th>2016-01-15 00:00:00</th>\n",
       "      <td>51.680034</td>\n",
       "      <td>66.424950</td>\n",
       "      <td>72.640924</td>\n",
       "      <td>63.644396</td>\n",
       "    </tr>\n",
       "    <tr>\n",
       "      <th>2016-01-15 01:00:00</th>\n",
       "      <td>50.659114</td>\n",
       "      <td>67.012710</td>\n",
       "      <td>72.543485</td>\n",
       "      <td>63.957723</td>\n",
       "    </tr>\n",
       "    <tr>\n",
       "      <th>2016-01-15 02:00:00</th>\n",
       "      <td>50.609929</td>\n",
       "      <td>66.103793</td>\n",
       "      <td>72.095042</td>\n",
       "      <td>64.311180</td>\n",
       "    </tr>\n",
       "    <tr>\n",
       "      <th>2016-01-15 03:00:00</th>\n",
       "      <td>51.061546</td>\n",
       "      <td>65.752751</td>\n",
       "      <td>59.957723</td>\n",
       "      <td>63.573449</td>\n",
       "    </tr>\n",
       "    <tr>\n",
       "      <th>2016-01-15 04:00:00</th>\n",
       "      <td>47.859163</td>\n",
       "      <td>65.908382</td>\n",
       "      <td>71.321010</td>\n",
       "      <td>64.004667</td>\n",
       "    </tr>\n",
       "  </tbody>\n",
       "</table>\n",
       "</div>"
      ],
      "text/plain": [
       "                     before_rougher    rougher  primary_cleaner      final\n",
       "date                                                                      \n",
       "2016-01-15 00:00:00       51.680034  66.424950        72.640924  63.644396\n",
       "2016-01-15 01:00:00       50.659114  67.012710        72.543485  63.957723\n",
       "2016-01-15 02:00:00       50.609929  66.103793        72.095042  64.311180\n",
       "2016-01-15 03:00:00       51.061546  65.752751        59.957723  63.573449\n",
       "2016-01-15 04:00:00       47.859163  65.908382        71.321010  64.004667"
      ]
     },
     "metadata": {},
     "output_type": "display_data"
    },
    {
     "data": {
      "text/plain": [
       "19439"
      ]
     },
     "metadata": {},
     "output_type": "display_data"
    }
   ],
   "source": [
    "display(sum_concentration.head(), len(sum_concentration))"
   ]
  },
  {
   "cell_type": "code",
   "execution_count": 22,
   "metadata": {
    "scrolled": false
   },
   "outputs": [
    {
     "data": {
      "image/png": "[encoded data removed]",
      "text/plain": [
       "<Figure size 1440x2160 with 4 Axes>"
      ]
     },
     "metadata": {
      "needs_background": "light"
     },
     "output_type": "display_data"
    }
   ],
   "source": [
    "fig,ax = plt.subplots(4,1,figsize = (20,30))\n",
    "for n, col, tit, color in zip(range(4), \n",
    "                              list(sum_concentration.columns), \n",
    "                              ['до флотации', 'после флотации', 'после первичной очистки', 'после финального этапа'], \n",
    "                              ['r', 'y', 'g', 'b']):\n",
    "    ax[n].hist(sum_concentration[col], bins = 100, color = color, alpha = 0.7)\n",
    "    ax[n].set_xlabel('Суммарная концентрация веществ')\n",
    "    ax[n].set_title('Концентрация веществ ' + tit)\n",
    "plt.show()"
   ]
  },
  {
   "cell_type": "markdown",
   "metadata": {},
   "source": [
    "На графиках видны значения в районе нуля. Очевидно, что это выбросы, от которых необходимо избавиться."
   ]
  },
  {
   "cell_type": "code",
   "execution_count": 23,
   "metadata": {},
   "outputs": [
    {
     "name": "stdout",
     "output_type": "stream",
     "text": [
      "18775\n"
     ]
    }
   ],
   "source": [
    "df = []\n",
    "for col in sum_concentration.columns:\n",
    "  df.append(sum_concentration[sum_concentration[col]>10].index)\n",
    "set_index = set(df[0]).intersection(set(df[1])).intersection(set(df[2]))\n",
    "print(len(set_index))"
   ]
  },
  {
   "cell_type": "code",
   "execution_count": 24,
   "metadata": {
    "scrolled": true
   },
   "outputs": [],
   "source": [
    "sum_concentration = sum_concentration.loc[set_index,:]"
   ]
  },
  {
   "cell_type": "code",
   "execution_count": 25,
   "metadata": {},
   "outputs": [
    {
     "data": {
      "image/png": "[encoded data removed]",
      "text/plain": [
       "<Figure size 1440x2160 with 4 Axes>"
      ]
     },
     "metadata": {
      "needs_background": "light"
     },
     "output_type": "display_data"
    }
   ],
   "source": [
    "fig,ax = plt.subplots(4,1,figsize = (20,30))\n",
    "\n",
    "for n, col, tit, color in zip(range(4), \n",
    "                              list(sum_concentration.columns), \n",
    "                              ['до флотации', 'после флотации', 'после первичной очистки', 'после финального этапа'], \n",
    "                              ['r', 'y', 'g', 'b']):\n",
    "    ax[n].hist(sum_concentration[col], bins = 100, color = color, alpha = 0.7)\n",
    "    ax[n].set_xlabel('Суммарная концентрация веществ')\n",
    "    ax[n].set_title('Концентрация веществ ' + tit)\n",
    "plt.show()"
   ]
  },
  {
   "cell_type": "code",
   "execution_count": 26,
   "metadata": {},
   "outputs": [
    {
     "data": {
      "text/plain": [
       "(13303, 86)"
      ]
     },
     "execution_count": 26,
     "metadata": {},
     "output_type": "execute_result"
    }
   ],
   "source": [
    "train_index = set(set_index).intersection(set(train.index))\n",
    "train = train.loc[train_index,:]\n",
    "train.shape"
   ]
  },
  {
   "cell_type": "code",
   "execution_count": 27,
   "metadata": {},
   "outputs": [
    {
     "data": {
      "text/plain": [
       "(5058, 54)"
      ]
     },
     "execution_count": 27,
     "metadata": {},
     "output_type": "execute_result"
    }
   ],
   "source": [
    "test_index = set(set_index).intersection(set(test.index))\n",
    "test = test.loc[test_index,:]\n",
    "test.shape"
   ]
  },
  {
   "cell_type": "markdown",
   "metadata": {},
   "source": [
    "**Вывод.**"
   ]
  },
  {
   "cell_type": "markdown",
   "metadata": {},
   "source": [
    "1. Была исследованна концентрация металлов на каждом этапе. Концентрация золота в ходе технологического процесса увеличивается. \n",
    "2. Было исследованно распределение размеров гранул для обучающей и тестовой выборок. Распределения отличаются не сильно, и на оценку модели данный признак не будет влиять негативно. \n",
    "3. Были определены аномальные значения для суммарных концентраций на каждом этапе. Было решено для обеих выборок удалить наблюдения. "
   ]
  },
  {
   "cell_type": "markdown",
   "metadata": {},
   "source": [
    "## Модель"
   ]
  },
  {
   "cell_type": "markdown",
   "metadata": {},
   "source": [
    "**Напишем функцию для вычисления итоговой sMAPE.**"
   ]
  },
  {
   "cell_type": "code",
   "execution_count": 28,
   "metadata": {},
   "outputs": [],
   "source": [
    "def smape(target, predictions):\n",
    "    y_calc = abs(target - predictions) / ((abs(target) + abs(predictions)) / 2) * 100\n",
    "    result = y_calc.sum() / len(target)\n",
    "    return result\n",
    "def final_smape(sample_true, sample_pred):\n",
    "    rougher = smape(sample_true.iloc[:, 0], sample_pred[:,0])\n",
    "    cleaner = smape(sample_true.iloc[:, 1], sample_pred[:,1])\n",
    "    return 0.25 * rougher + 0.75 * cleaner"
   ]
  },
  {
   "cell_type": "code",
   "execution_count": 29,
   "metadata": {},
   "outputs": [],
   "source": [
    "def smape_cv(model, features, target):\n",
    "    return np.abs(np.average(cross_validate(model, features, target, scoring=smape_scorer)[\"test_score\"]))"
   ]
  },
  {
   "cell_type": "markdown",
   "metadata": {},
   "source": [
    "**Подготовим выборки к обучению моделей и обучим им.**"
   ]
  },
  {
   "cell_type": "code",
   "execution_count": 30,
   "metadata": {},
   "outputs": [
    {
     "data": {
      "text/plain": [
       "(13303, 54)"
      ]
     },
     "execution_count": 30,
     "metadata": {},
     "output_type": "execute_result"
    }
   ],
   "source": [
    "train_columns = list(test.columns)\n",
    "train = train[train_columns].dropna()\n",
    "train.shape"
   ]
  },
  {
   "cell_type": "code",
   "execution_count": 31,
   "metadata": {},
   "outputs": [],
   "source": [
    "features_train = train.drop([\"rougher.output.recovery\", \"final.output.recovery\"], axis=1)\n",
    "target_train = train[[\"rougher.output.recovery\", \"final.output.recovery\"]]\n",
    "features_test = test.drop([\"rougher.output.recovery\", \"final.output.recovery\"], axis=1)\n",
    "target_test = test[[\"rougher.output.recovery\", \"final.output.recovery\"]]"
   ]
  },
  {
   "cell_type": "code",
   "execution_count": 32,
   "metadata": {
    "scrolled": true
   },
   "outputs": [
    {
     "data": {
      "text/plain": [
       "((13303, 52), (5058, 52))"
      ]
     },
     "execution_count": 32,
     "metadata": {},
     "output_type": "execute_result"
    }
   ],
   "source": [
    "features_train.shape, features_test.shape"
   ]
  },
  {
   "cell_type": "code",
   "execution_count": 33,
   "metadata": {},
   "outputs": [],
   "source": [
    "feature_scaler = StandardScaler()\n",
    "features_train = feature_scaler.fit_transform(features_train)"
   ]
  },
  {
   "cell_type": "code",
   "execution_count": 34,
   "metadata": {},
   "outputs": [],
   "source": [
    "features_test = feature_scaler.transform(features_test)"
   ]
  },
  {
   "cell_type": "code",
   "execution_count": 35,
   "metadata": {},
   "outputs": [],
   "source": [
    "smape_scorer = make_scorer(final_smape, greater_is_better=False)"
   ]
  },
  {
   "cell_type": "code",
   "execution_count": 36,
   "metadata": {},
   "outputs": [
    {
     "name": "stdout",
     "output_type": "stream",
     "text": [
      "Лучший результат:\n",
      "{'min_samples_leaf': 15, 'max_depth': 16}\n",
      "\n",
      "sMAPE:\n",
      "6.869346047304272\n"
     ]
    }
   ],
   "source": [
    "model_DT = DecisionTreeRegressor(random_state=1)\n",
    "params = {'max_depth':[x for x in range(1, 20, 1)], \n",
    "          'min_samples_leaf':[x for x in range(2, 20, 1)]}\n",
    "grid_DT = RandomizedSearchCV(model_DT, params, scoring=smape_scorer, n_iter=10, random_state=12345, cv=5)\n",
    "grid_DT.fit(features_train, target_train)\n",
    "print('Лучший результат:')\n",
    "print(grid_DT.best_params_)\n",
    "print('\\nsMAPE:')\n",
    "print(grid_DT.best_score_ * (-1))"
   ]
  },
  {
   "cell_type": "code",
   "execution_count": 37,
   "metadata": {},
   "outputs": [
    {
     "data": {
      "text/plain": [
       "7.649726036401343"
      ]
     },
     "execution_count": 37,
     "metadata": {},
     "output_type": "execute_result"
    }
   ],
   "source": [
    "model_LR = LinearRegression()\n",
    "scores = cross_val_score(model_LR, features_train, target_train, cv=5, scoring=smape_scorer)\n",
    "scores.mean() * (-1)"
   ]
  },
  {
   "cell_type": "code",
   "execution_count": 38,
   "metadata": {},
   "outputs": [
    {
     "name": "stdout",
     "output_type": "stream",
     "text": [
      "Лучший результат: {'n_estimators': 100, 'min_samples_leaf': 3, 'max_depth': 17}\n",
      "sMAPE: 5.471380749504702\n"
     ]
    }
   ],
   "source": [
    "model_RF = RandomForestRegressor(random_state=1)\n",
    "params = {'n_estimators':[x for x in range(100, 101, 10)],\n",
    "          'max_depth':[x for x in range(17, 18, 1)], \n",
    "          'min_samples_leaf':[x for x in range(3, 4, 1)]}\n",
    "grid_RF = RandomizedSearchCV(model_RF, params, scoring=smape_scorer, n_iter=1, random_state=12345, cv=5)\n",
    "grid_RF.fit(features_train, target_train)\n",
    "print('Лучший результат:', grid_RF.best_params_)\n",
    "print('sMAPE:', grid_RF.best_score_ * (-1) )"
   ]
  },
  {
   "cell_type": "markdown",
   "metadata": {},
   "source": [
    "Проверим модели на тестовом наборе данных."
   ]
  },
  {
   "cell_type": "code",
   "execution_count": 39,
   "metadata": {},
   "outputs": [
    {
     "name": "stdout",
     "output_type": "stream",
     "text": [
      "sMAPE DecisionTree: 10.817099830164775\n"
     ]
    }
   ],
   "source": [
    "model_DT = grid_DT.best_estimator_\n",
    "predictions = model_DT.predict(features_test)\n",
    "print('sMAPE DecisionTree:', final_smape(target_test, predictions))"
   ]
  },
  {
   "cell_type": "code",
   "execution_count": 40,
   "metadata": {},
   "outputs": [
    {
     "name": "stdout",
     "output_type": "stream",
     "text": [
      "sMAPE LinearRegression: 8.28814998777735\n"
     ]
    }
   ],
   "source": [
    "model_LR = LinearRegression()\n",
    "model_LR.fit(features_train, target_train)\n",
    "predictions = model_LR.predict(features_test)\n",
    "print('sMAPE LinearRegression:', final_smape(target_test, predictions))"
   ]
  },
  {
   "cell_type": "code",
   "execution_count": 41,
   "metadata": {},
   "outputs": [
    {
     "name": "stdout",
     "output_type": "stream",
     "text": [
      "sMAPE RandomForest: 9.065852544867772\n"
     ]
    }
   ],
   "source": [
    "model_RF = grid_RF.best_estimator_\n",
    "predictions = model_RF.predict(features_test)\n",
    "print('sMAPE RandomForest:', final_smape(target_test, predictions))"
   ]
  },
  {
   "cell_type": "markdown",
   "metadata": {},
   "source": [
    "Проверим лучшую модель на адекватность."
   ]
  },
  {
   "cell_type": "code",
   "execution_count": 42,
   "metadata": {},
   "outputs": [
    {
     "data": {
      "text/plain": [
       "8.781196978467104"
      ]
     },
     "execution_count": 42,
     "metadata": {},
     "output_type": "execute_result"
    }
   ],
   "source": [
    "dummy_model = DummyRegressor()\n",
    "dummy_model.fit(features_train, target_train)\n",
    "dummy_predict = dummy_model.predict(features_test)\n",
    "final_smape(target_test, dummy_predict)"
   ]
  },
  {
   "cell_type": "markdown",
   "metadata": {},
   "source": [
    "**Вывод.**"
   ]
  },
  {
   "cell_type": "markdown",
   "metadata": {},
   "source": [
    "Лучшая модель - **RandomForestRegressor** с показателями _**sMAPE**_ 5.489 - на обучающем наборе данных и 9.05 - на тестовом. Показатель константной модели равен 8.78."
   ]
  },
  {
   "cell_type": "markdown",
   "metadata": {},
   "source": [
    "**Общий вывод.**"
   ]
  },
  {
   "cell_type": "markdown",
   "metadata": {},
   "source": [
    "В проекте был исследован процесс добычи и очистки золота из руды:\n",
    "\n",
    "- посчитана эффективность обогащения золота после флотационного процесса и сравннена с реальными данными, получили, что расчеты верны, среднее абсолютное отклонение расчетной величины от реальных данных крайне мал;\n",
    "- посчитаны изменения концентраций металлов (золота, серебра и свинца) после каждого этапа очистки, выявили, что:\n",
    "  - концентрация золота увеличивается;\n",
    "  - концентрация серебра уменьшается;\n",
    "  - концентрация свинца после первичной очистки остается практически неизменной.\n",
    "- были исследованы аномалии суммарных концентраций веществ на разных этапах очистки, удалены значения концентраций ниже 10г/м3;\n",
    "- были обучены модели для расчета симметричного абсолютного процентного отклонения (_**sMAPE**_), итоговое отклонение составило 9.05%, в то время как \"Dummy\" модель дает 8.78%."
   ]
  }
 ],
 "metadata": {
  "ExecuteTimeLog": [
   {
    "duration": 1292,
    "start_time": "2021-10-02T10:19:22.256Z"
   },
   {
    "duration": 173,
    "start_time": "2021-10-02T10:19:35.328Z"
   },
   {
    "duration": 1663,
    "start_time": "2021-10-02T10:19:39.688Z"
   },
   {
    "duration": 781,
    "start_time": "2021-10-02T10:21:13.727Z"
   },
   {
    "duration": 36,
    "start_time": "2021-10-02T10:25:13.890Z"
   },
   {
    "duration": 14,
    "start_time": "2021-10-02T10:25:34.508Z"
   },
   {
    "duration": 25,
    "start_time": "2021-10-02T10:26:09.821Z"
   },
   {
    "duration": 33,
    "start_time": "2021-10-02T10:30:15.412Z"
   },
   {
    "duration": 5,
    "start_time": "2021-10-02T10:47:20.738Z"
   },
   {
    "duration": 7,
    "start_time": "2021-10-02T11:00:04.604Z"
   },
   {
    "duration": 4,
    "start_time": "2021-10-02T11:01:31.247Z"
   },
   {
    "duration": 174,
    "start_time": "2021-10-02T11:01:45.231Z"
   },
   {
    "duration": 192,
    "start_time": "2021-10-02T11:02:00.217Z"
   },
   {
    "duration": 5,
    "start_time": "2021-10-02T11:02:10.913Z"
   },
   {
    "duration": 4,
    "start_time": "2021-10-02T11:02:24.977Z"
   },
   {
    "duration": 177,
    "start_time": "2021-10-02T11:02:51.578Z"
   },
   {
    "duration": 175,
    "start_time": "2021-10-02T11:03:08.595Z"
   },
   {
    "duration": 4,
    "start_time": "2021-10-02T11:03:22.254Z"
   },
   {
    "duration": 175,
    "start_time": "2021-10-02T11:03:32.932Z"
   },
   {
    "duration": 4,
    "start_time": "2021-10-02T11:03:39.973Z"
   },
   {
    "duration": 5,
    "start_time": "2021-10-02T11:03:43.941Z"
   },
   {
    "duration": 754,
    "start_time": "2021-10-02T11:49:49.612Z"
   },
   {
    "duration": 91,
    "start_time": "2021-10-02T11:50:31.358Z"
   },
   {
    "duration": 178,
    "start_time": "2021-10-02T12:49:42.047Z"
   },
   {
    "duration": 3,
    "start_time": "2021-10-02T12:49:46.693Z"
   },
   {
    "duration": 9,
    "start_time": "2021-10-02T12:49:49.102Z"
   },
   {
    "duration": 6,
    "start_time": "2021-10-02T13:13:57.135Z"
   },
   {
    "duration": 9,
    "start_time": "2021-10-02T13:14:01.710Z"
   },
   {
    "duration": 7,
    "start_time": "2021-10-02T13:14:22.479Z"
   },
   {
    "duration": 5,
    "start_time": "2021-10-02T13:14:56.664Z"
   },
   {
    "duration": 11,
    "start_time": "2021-10-02T13:15:05.889Z"
   },
   {
    "duration": 336,
    "start_time": "2021-10-02T13:29:09.311Z"
   },
   {
    "duration": 3,
    "start_time": "2021-10-02T13:31:02.302Z"
   },
   {
    "duration": 408,
    "start_time": "2021-10-02T13:31:16.872Z"
   },
   {
    "duration": 10,
    "start_time": "2021-10-02T13:39:43.075Z"
   },
   {
    "duration": 366,
    "start_time": "2021-10-02T13:40:07.588Z"
   },
   {
    "duration": 15,
    "start_time": "2021-10-02T13:40:10.604Z"
   },
   {
    "duration": 3,
    "start_time": "2021-10-02T13:43:08.766Z"
   },
   {
    "duration": 10,
    "start_time": "2021-10-02T13:43:18.423Z"
   },
   {
    "duration": 4,
    "start_time": "2021-10-02T14:06:18.715Z"
   },
   {
    "duration": 669,
    "start_time": "2021-10-02T14:06:21.202Z"
   },
   {
    "duration": 81,
    "start_time": "2021-10-02T14:06:22.453Z"
   },
   {
    "duration": 3,
    "start_time": "2021-10-02T14:06:52.749Z"
   },
   {
    "duration": 14,
    "start_time": "2021-10-02T14:06:54.836Z"
   },
   {
    "duration": 6,
    "start_time": "2021-10-02T14:11:47.356Z"
   },
   {
    "duration": 3,
    "start_time": "2021-10-02T14:11:49.636Z"
   },
   {
    "duration": 5,
    "start_time": "2021-10-02T14:11:52.428Z"
   },
   {
    "duration": 2543,
    "start_time": "2021-10-02T14:20:50.435Z"
   },
   {
    "duration": 475,
    "start_time": "2021-10-02T14:22:06.015Z"
   },
   {
    "duration": 458,
    "start_time": "2021-10-02T14:23:06.186Z"
   },
   {
    "duration": 498,
    "start_time": "2021-10-02T14:23:30.395Z"
   },
   {
    "duration": 463,
    "start_time": "2021-10-02T14:23:38.196Z"
   },
   {
    "duration": 211,
    "start_time": "2021-10-02T14:24:39.454Z"
   },
   {
    "duration": 179,
    "start_time": "2021-10-02T14:24:46.087Z"
   },
   {
    "duration": 444,
    "start_time": "2021-10-02T14:24:52.880Z"
   },
   {
    "duration": 5,
    "start_time": "2021-10-02T14:32:00.103Z"
   },
   {
    "duration": 526,
    "start_time": "2021-10-02T14:32:01.615Z"
   },
   {
    "duration": 5,
    "start_time": "2021-10-02T14:32:10.688Z"
   },
   {
    "duration": 665,
    "start_time": "2021-10-02T14:32:12.056Z"
   },
   {
    "duration": 81,
    "start_time": "2021-10-02T14:32:13.811Z"
   },
   {
    "duration": 4,
    "start_time": "2021-10-02T14:32:19.808Z"
   },
   {
    "duration": 462,
    "start_time": "2021-10-02T14:32:21.528Z"
   },
   {
    "duration": 3,
    "start_time": "2021-10-02T14:33:00.867Z"
   },
   {
    "duration": 3000,
    "start_time": "2021-10-02T14:33:02.635Z"
   },
   {
    "duration": 443,
    "start_time": "2021-10-02T14:34:35.992Z"
   },
   {
    "duration": 452,
    "start_time": "2021-10-02T14:34:52.801Z"
   },
   {
    "duration": 3,
    "start_time": "2021-10-02T15:32:02.833Z"
   },
   {
    "duration": 429,
    "start_time": "2021-10-02T15:32:05.176Z"
   },
   {
    "duration": 14,
    "start_time": "2021-10-02T15:37:20.076Z"
   },
   {
    "duration": 388,
    "start_time": "2021-10-02T15:38:32.893Z"
   },
   {
    "duration": 11,
    "start_time": "2021-10-02T15:38:37.053Z"
   },
   {
    "duration": 4,
    "start_time": "2021-10-02T15:39:13.800Z"
   },
   {
    "duration": 380,
    "start_time": "2021-10-02T15:39:40.641Z"
   },
   {
    "duration": 570,
    "start_time": "2021-10-02T15:49:48.811Z"
   },
   {
    "duration": 419,
    "start_time": "2021-10-02T15:49:57.827Z"
   },
   {
    "duration": 379,
    "start_time": "2021-10-02T15:50:17.516Z"
   },
   {
    "duration": 179,
    "start_time": "2021-10-02T16:05:16.855Z"
   },
   {
    "duration": 181,
    "start_time": "2021-10-02T16:05:44.760Z"
   },
   {
    "duration": 169,
    "start_time": "2021-10-02T16:05:51.024Z"
   },
   {
    "duration": 193,
    "start_time": "2021-10-02T16:06:18.634Z"
   },
   {
    "duration": 174,
    "start_time": "2021-10-02T16:07:02.532Z"
   },
   {
    "duration": 12,
    "start_time": "2021-10-02T16:07:18.676Z"
   },
   {
    "duration": 4,
    "start_time": "2021-10-02T16:07:30.694Z"
   },
   {
    "duration": 701,
    "start_time": "2021-10-02T16:09:32.148Z"
   },
   {
    "duration": 40,
    "start_time": "2021-10-02T16:09:53.944Z"
   },
   {
    "duration": 28,
    "start_time": "2021-10-02T16:10:18.575Z"
   },
   {
    "duration": 38,
    "start_time": "2021-10-02T16:10:31.287Z"
   },
   {
    "duration": 3,
    "start_time": "2021-10-02T16:10:50.240Z"
   },
   {
    "duration": 398,
    "start_time": "2021-10-02T16:10:51.833Z"
   },
   {
    "duration": 5,
    "start_time": "2021-10-02T16:11:00.721Z"
   },
   {
    "duration": 181,
    "start_time": "2021-10-02T16:11:05.449Z"
   },
   {
    "duration": 4,
    "start_time": "2021-10-02T16:12:01.197Z"
   },
   {
    "duration": 4,
    "start_time": "2021-10-02T16:12:34.582Z"
   },
   {
    "duration": 7,
    "start_time": "2021-10-02T16:13:04.504Z"
   },
   {
    "duration": 4,
    "start_time": "2021-10-02T16:13:10.152Z"
   },
   {
    "duration": 4,
    "start_time": "2021-10-02T16:13:17.920Z"
   },
   {
    "duration": 4,
    "start_time": "2021-10-02T16:13:46.962Z"
   },
   {
    "duration": 9,
    "start_time": "2021-10-02T16:14:12.803Z"
   },
   {
    "duration": 5,
    "start_time": "2021-10-02T16:14:25.060Z"
   },
   {
    "duration": 3,
    "start_time": "2021-10-02T16:15:55.690Z"
   },
   {
    "duration": 3,
    "start_time": "2021-10-02T16:16:07.625Z"
   },
   {
    "duration": 2,
    "start_time": "2021-10-02T16:16:10.394Z"
   },
   {
    "duration": 4,
    "start_time": "2021-10-02T16:16:17.586Z"
   },
   {
    "duration": 4,
    "start_time": "2021-10-02T16:16:33.363Z"
   },
   {
    "duration": 4,
    "start_time": "2021-10-02T16:17:07.477Z"
   },
   {
    "duration": 4,
    "start_time": "2021-10-02T16:17:35.271Z"
   },
   {
    "duration": 4,
    "start_time": "2021-10-02T16:17:53.104Z"
   },
   {
    "duration": 4,
    "start_time": "2021-10-02T16:18:01.720Z"
   },
   {
    "duration": 137,
    "start_time": "2021-10-02T16:34:16.457Z"
   },
   {
    "duration": 57,
    "start_time": "2021-10-02T16:34:24.567Z"
   },
   {
    "duration": 180,
    "start_time": "2021-10-02T16:34:49.641Z"
   },
   {
    "duration": 215,
    "start_time": "2021-10-02T16:35:34.267Z"
   },
   {
    "duration": 4,
    "start_time": "2021-10-02T16:53:41.487Z"
   },
   {
    "duration": 4,
    "start_time": "2021-10-02T17:00:52.638Z"
   },
   {
    "duration": 4,
    "start_time": "2021-10-02T17:00:58.934Z"
   },
   {
    "duration": 5,
    "start_time": "2021-10-02T17:13:04.903Z"
   },
   {
    "duration": 3,
    "start_time": "2021-10-02T17:13:41.319Z"
   },
   {
    "duration": 3,
    "start_time": "2021-10-02T17:14:11.545Z"
   },
   {
    "duration": 4,
    "start_time": "2021-10-02T17:14:50.545Z"
   },
   {
    "duration": 5,
    "start_time": "2021-10-02T17:15:03.708Z"
   },
   {
    "duration": 59,
    "start_time": "2021-10-02T17:15:25.525Z"
   },
   {
    "duration": 4,
    "start_time": "2021-10-02T17:15:30.446Z"
   },
   {
    "duration": 7,
    "start_time": "2021-10-02T17:15:34.015Z"
   },
   {
    "duration": 5,
    "start_time": "2021-10-02T17:16:47.697Z"
   },
   {
    "duration": 5,
    "start_time": "2021-10-02T17:17:16.723Z"
   },
   {
    "duration": 6,
    "start_time": "2021-10-02T17:20:25.398Z"
   },
   {
    "duration": 4,
    "start_time": "2021-10-02T17:20:34.750Z"
   },
   {
    "duration": 5,
    "start_time": "2021-10-02T17:21:01.816Z"
   },
   {
    "duration": 5,
    "start_time": "2021-10-02T17:21:33.025Z"
   },
   {
    "duration": 6,
    "start_time": "2021-10-02T17:21:42.714Z"
   },
   {
    "duration": 4,
    "start_time": "2021-10-02T17:21:47.123Z"
   },
   {
    "duration": 5,
    "start_time": "2021-10-02T17:21:50.069Z"
   },
   {
    "duration": 6,
    "start_time": "2021-10-02T17:22:32.180Z"
   },
   {
    "duration": 4,
    "start_time": "2021-10-02T17:24:17.866Z"
   },
   {
    "duration": 4,
    "start_time": "2021-10-02T17:24:34.283Z"
   },
   {
    "duration": 3,
    "start_time": "2021-10-02T17:24:35.292Z"
   },
   {
    "duration": 5,
    "start_time": "2021-10-02T17:24:42.603Z"
   },
   {
    "duration": 4,
    "start_time": "2021-10-02T17:24:47.965Z"
   },
   {
    "duration": 4,
    "start_time": "2021-10-02T17:25:26.838Z"
   },
   {
    "duration": 5,
    "start_time": "2021-10-02T17:25:44.791Z"
   },
   {
    "duration": 7,
    "start_time": "2021-10-02T17:41:51.964Z"
   },
   {
    "duration": 10,
    "start_time": "2021-10-02T17:52:45.912Z"
   },
   {
    "duration": 15,
    "start_time": "2021-10-02T17:53:11.809Z"
   },
   {
    "duration": 10,
    "start_time": "2021-10-02T18:01:17.485Z"
   },
   {
    "duration": 17,
    "start_time": "2021-10-02T18:01:31.588Z"
   },
   {
    "duration": 15,
    "start_time": "2021-10-02T18:01:46.173Z"
   },
   {
    "duration": 14,
    "start_time": "2021-10-02T18:01:54.966Z"
   },
   {
    "duration": 10,
    "start_time": "2021-10-02T18:02:09.942Z"
   },
   {
    "duration": 17,
    "start_time": "2021-10-02T18:02:13.358Z"
   },
   {
    "duration": 31,
    "start_time": "2021-10-02T18:15:09.650Z"
   },
   {
    "duration": 9,
    "start_time": "2021-10-02T18:15:24.707Z"
   },
   {
    "duration": 14,
    "start_time": "2021-10-02T18:15:40.259Z"
   },
   {
    "duration": 14,
    "start_time": "2021-10-02T18:16:25.333Z"
   },
   {
    "duration": 8,
    "start_time": "2021-10-02T18:17:08.591Z"
   },
   {
    "duration": 16,
    "start_time": "2021-10-02T18:17:28.281Z"
   },
   {
    "duration": 170,
    "start_time": "2021-10-02T18:39:47.164Z"
   },
   {
    "duration": 12,
    "start_time": "2021-10-02T18:41:28.072Z"
   },
   {
    "duration": 6,
    "start_time": "2021-10-02T19:13:44.077Z"
   },
   {
    "duration": 5,
    "start_time": "2021-10-02T19:13:59.196Z"
   },
   {
    "duration": 59,
    "start_time": "2021-10-02T22:44:45.875Z"
   },
   {
    "duration": 194,
    "start_time": "2021-10-02T22:44:52.962Z"
   },
   {
    "duration": 7,
    "start_time": "2021-10-02T22:44:56.842Z"
   },
   {
    "duration": 9,
    "start_time": "2021-10-02T22:44:59.186Z"
   },
   {
    "duration": 7,
    "start_time": "2021-10-02T22:45:32.229Z"
   },
   {
    "duration": 10,
    "start_time": "2021-10-02T22:45:49.589Z"
   },
   {
    "duration": 7,
    "start_time": "2021-10-02T22:46:13.671Z"
   },
   {
    "duration": 10,
    "start_time": "2021-10-02T22:46:16.087Z"
   },
   {
    "duration": 8,
    "start_time": "2021-10-02T22:46:55.032Z"
   },
   {
    "duration": 8,
    "start_time": "2021-10-02T22:47:02.018Z"
   },
   {
    "duration": 8,
    "start_time": "2021-10-02T22:49:08.257Z"
   },
   {
    "duration": 8,
    "start_time": "2021-10-02T22:49:10.081Z"
   },
   {
    "duration": 193,
    "start_time": "2021-10-02T22:51:43.442Z"
   },
   {
    "duration": 197,
    "start_time": "2021-10-02T22:52:17.707Z"
   },
   {
    "duration": 191,
    "start_time": "2021-10-02T22:52:40.044Z"
   },
   {
    "duration": 431,
    "start_time": "2021-10-02T23:14:15.013Z"
   },
   {
    "duration": 391,
    "start_time": "2021-10-02T23:16:04.066Z"
   },
   {
    "duration": 172,
    "start_time": "2021-10-02T23:16:50.085Z"
   },
   {
    "duration": 176,
    "start_time": "2021-10-02T23:16:57.692Z"
   },
   {
    "duration": 206,
    "start_time": "2021-10-02T23:18:56.619Z"
   },
   {
    "duration": 193,
    "start_time": "2021-10-02T23:19:07.860Z"
   },
   {
    "duration": 193,
    "start_time": "2021-10-02T23:19:19.428Z"
   },
   {
    "duration": 239,
    "start_time": "2021-10-02T23:19:24.445Z"
   },
   {
    "duration": 1190,
    "start_time": "2021-10-03T08:30:40.464Z"
   },
   {
    "duration": 707,
    "start_time": "2021-10-03T08:30:41.656Z"
   },
   {
    "duration": 38,
    "start_time": "2021-10-03T08:30:42.366Z"
   },
   {
    "duration": 39,
    "start_time": "2021-10-03T08:30:42.406Z"
   },
   {
    "duration": 58,
    "start_time": "2021-10-03T08:30:42.448Z"
   },
   {
    "duration": 4,
    "start_time": "2021-10-03T08:30:42.508Z"
   },
   {
    "duration": 427,
    "start_time": "2021-10-03T08:30:42.514Z"
   },
   {
    "duration": 3,
    "start_time": "2021-10-03T08:30:42.944Z"
   },
   {
    "duration": 21,
    "start_time": "2021-10-03T08:30:42.949Z"
   },
   {
    "duration": 19,
    "start_time": "2021-10-03T08:30:42.971Z"
   },
   {
    "duration": 17,
    "start_time": "2021-10-03T08:30:42.992Z"
   },
   {
    "duration": 17,
    "start_time": "2021-10-03T08:30:43.011Z"
   },
   {
    "duration": 9,
    "start_time": "2021-10-03T08:30:43.030Z"
   },
   {
    "duration": 42,
    "start_time": "2021-10-03T08:30:43.040Z"
   },
   {
    "duration": 21,
    "start_time": "2021-10-03T08:30:43.084Z"
   },
   {
    "duration": 8,
    "start_time": "2021-10-03T08:30:43.107Z"
   },
   {
    "duration": 17,
    "start_time": "2021-10-03T08:30:43.117Z"
   },
   {
    "duration": 267,
    "start_time": "2021-10-03T08:30:43.136Z"
   },
   {
    "duration": 361,
    "start_time": "2021-10-03T08:53:26.640Z"
   },
   {
    "duration": 252,
    "start_time": "2021-10-03T09:23:44.082Z"
   },
   {
    "duration": 248,
    "start_time": "2021-10-03T09:23:53.866Z"
   },
   {
    "duration": 249,
    "start_time": "2021-10-03T09:23:57.993Z"
   },
   {
    "duration": 511,
    "start_time": "2021-10-03T09:25:12.526Z"
   },
   {
    "duration": 247,
    "start_time": "2021-10-03T09:25:25.050Z"
   },
   {
    "duration": 244,
    "start_time": "2021-10-03T09:25:37.991Z"
   },
   {
    "duration": 239,
    "start_time": "2021-10-03T09:25:57.225Z"
   },
   {
    "duration": 240,
    "start_time": "2021-10-03T09:26:16.657Z"
   },
   {
    "duration": 233,
    "start_time": "2021-10-03T09:26:25.489Z"
   },
   {
    "duration": 240,
    "start_time": "2021-10-03T09:26:36.282Z"
   },
   {
    "duration": 247,
    "start_time": "2021-10-03T09:26:37.970Z"
   },
   {
    "duration": 242,
    "start_time": "2021-10-03T09:28:07.479Z"
   },
   {
    "duration": 232,
    "start_time": "2021-10-03T09:30:13.246Z"
   },
   {
    "duration": 312,
    "start_time": "2021-10-03T09:30:34.591Z"
   },
   {
    "duration": 241,
    "start_time": "2021-10-03T09:30:58.712Z"
   },
   {
    "duration": 245,
    "start_time": "2021-10-03T09:32:15.852Z"
   },
   {
    "duration": 1802,
    "start_time": "2021-10-03T21:06:32.027Z"
   },
   {
    "duration": 883,
    "start_time": "2021-10-03T21:06:33.832Z"
   },
   {
    "duration": 65,
    "start_time": "2021-10-03T21:06:34.718Z"
   },
   {
    "duration": 45,
    "start_time": "2021-10-03T21:06:34.786Z"
   },
   {
    "duration": 77,
    "start_time": "2021-10-03T21:06:34.834Z"
   },
   {
    "duration": 5,
    "start_time": "2021-10-03T21:06:34.914Z"
   },
   {
    "duration": 726,
    "start_time": "2021-10-03T21:06:34.921Z"
   },
   {
    "duration": 6,
    "start_time": "2021-10-03T21:06:35.650Z"
   },
   {
    "duration": 11,
    "start_time": "2021-10-03T21:06:35.667Z"
   },
   {
    "duration": 20,
    "start_time": "2021-10-03T21:06:35.680Z"
   },
   {
    "duration": 22,
    "start_time": "2021-10-03T21:06:35.703Z"
   },
   {
    "duration": 13,
    "start_time": "2021-10-03T21:06:35.767Z"
   },
   {
    "duration": 10,
    "start_time": "2021-10-03T21:06:35.783Z"
   },
   {
    "duration": 23,
    "start_time": "2021-10-03T21:06:35.796Z"
   },
   {
    "duration": 65,
    "start_time": "2021-10-03T21:06:35.822Z"
   },
   {
    "duration": 11,
    "start_time": "2021-10-03T21:06:35.890Z"
   },
   {
    "duration": 12,
    "start_time": "2021-10-03T21:06:35.904Z"
   },
   {
    "duration": 446,
    "start_time": "2021-10-03T21:06:35.918Z"
   },
   {
    "duration": 409,
    "start_time": "2021-10-03T21:07:59.386Z"
   },
   {
    "duration": 512,
    "start_time": "2021-10-03T21:08:46.318Z"
   },
   {
    "duration": 416,
    "start_time": "2021-10-03T21:09:20.183Z"
   },
   {
    "duration": 510,
    "start_time": "2021-10-03T21:09:27.993Z"
   },
   {
    "duration": 403,
    "start_time": "2021-10-03T21:09:52.929Z"
   },
   {
    "duration": 410,
    "start_time": "2021-10-03T21:10:12.482Z"
   },
   {
    "duration": 406,
    "start_time": "2021-10-03T21:10:24.059Z"
   },
   {
    "duration": 415,
    "start_time": "2021-10-03T21:13:31.901Z"
   },
   {
    "duration": 419,
    "start_time": "2021-10-03T21:14:16.640Z"
   },
   {
    "duration": 7,
    "start_time": "2021-10-03T21:22:20.196Z"
   },
   {
    "duration": 474,
    "start_time": "2021-10-03T21:22:40.227Z"
   },
   {
    "duration": 8272,
    "start_time": "2021-10-03T21:22:50.644Z"
   },
   {
    "duration": 16,
    "start_time": "2021-10-03T21:23:10.389Z"
   },
   {
    "duration": 14,
    "start_time": "2021-10-03T21:23:30.559Z"
   },
   {
    "duration": 15,
    "start_time": "2021-10-03T21:23:38.023Z"
   },
   {
    "duration": 8,
    "start_time": "2021-10-03T21:26:45.248Z"
   },
   {
    "duration": 8060,
    "start_time": "2021-10-03T21:26:46.872Z"
   },
   {
    "duration": 15,
    "start_time": "2021-10-03T21:27:13.690Z"
   },
   {
    "duration": 7,
    "start_time": "2021-10-03T21:29:20.409Z"
   },
   {
    "duration": 8268,
    "start_time": "2021-10-03T21:29:22.921Z"
   },
   {
    "duration": 8,
    "start_time": "2021-10-03T21:30:53.582Z"
   },
   {
    "duration": 8077,
    "start_time": "2021-10-03T21:30:56.405Z"
   },
   {
    "duration": 125,
    "start_time": "2021-10-03T21:35:28.669Z"
   },
   {
    "duration": 7,
    "start_time": "2021-10-03T21:36:31.448Z"
   },
   {
    "duration": 6,
    "start_time": "2021-10-03T21:38:48.592Z"
   },
   {
    "duration": 6,
    "start_time": "2021-10-03T21:40:50.022Z"
   },
   {
    "duration": 8085,
    "start_time": "2021-10-03T21:40:52.103Z"
   },
   {
    "duration": 7957,
    "start_time": "2021-10-03T21:41:23.392Z"
   },
   {
    "duration": 15,
    "start_time": "2021-10-03T21:41:36.961Z"
   },
   {
    "duration": 11,
    "start_time": "2021-10-03T21:42:00.450Z"
   },
   {
    "duration": 14,
    "start_time": "2021-10-03T21:42:42.820Z"
   },
   {
    "duration": 1296,
    "start_time": "2021-10-03T21:46:08.264Z"
   },
   {
    "duration": 2311,
    "start_time": "2021-10-03T21:46:52.514Z"
   },
   {
    "duration": 3597,
    "start_time": "2021-10-03T21:47:12.851Z"
   },
   {
    "duration": 2538,
    "start_time": "2021-10-03T21:47:21.780Z"
   },
   {
    "duration": 6,
    "start_time": "2021-10-03T21:50:08.196Z"
   },
   {
    "duration": 6,
    "start_time": "2021-10-03T21:50:16.996Z"
   },
   {
    "duration": 2604,
    "start_time": "2021-10-03T21:54:34.204Z"
   },
   {
    "duration": 2272,
    "start_time": "2021-10-03T21:55:46.087Z"
   },
   {
    "duration": 2449,
    "start_time": "2021-10-03T21:57:08.603Z"
   },
   {
    "duration": 2461,
    "start_time": "2021-10-03T21:59:14.754Z"
   },
   {
    "duration": 2242,
    "start_time": "2021-10-03T21:59:34.451Z"
   },
   {
    "duration": 3170,
    "start_time": "2021-10-03T22:00:06.997Z"
   },
   {
    "duration": 2348,
    "start_time": "2021-10-03T22:03:37.953Z"
   },
   {
    "duration": 2523,
    "start_time": "2021-10-03T22:04:29.491Z"
   },
   {
    "duration": 2264,
    "start_time": "2021-10-03T22:04:41.459Z"
   },
   {
    "duration": 2407,
    "start_time": "2021-10-03T22:05:33.367Z"
   },
   {
    "duration": 2279,
    "start_time": "2021-10-03T22:05:44.063Z"
   },
   {
    "duration": 2481,
    "start_time": "2021-10-03T22:07:01.618Z"
   },
   {
    "duration": 2686,
    "start_time": "2021-10-03T22:07:22.444Z"
   },
   {
    "duration": 2536,
    "start_time": "2021-10-03T22:09:39.411Z"
   },
   {
    "duration": 3181,
    "start_time": "2021-10-03T22:09:56.860Z"
   },
   {
    "duration": 3250,
    "start_time": "2021-10-03T22:31:02.907Z"
   },
   {
    "duration": 3218,
    "start_time": "2021-10-03T22:31:13.562Z"
   },
   {
    "duration": 414,
    "start_time": "2021-10-03T22:46:47.534Z"
   },
   {
    "duration": 1682,
    "start_time": "2021-10-03T23:09:08.719Z"
   },
   {
    "duration": 918,
    "start_time": "2021-10-03T23:09:10.405Z"
   },
   {
    "duration": 64,
    "start_time": "2021-10-03T23:09:11.325Z"
   },
   {
    "duration": 46,
    "start_time": "2021-10-03T23:09:11.391Z"
   },
   {
    "duration": 76,
    "start_time": "2021-10-03T23:09:11.439Z"
   },
   {
    "duration": 4,
    "start_time": "2021-10-03T23:09:11.518Z"
   },
   {
    "duration": 707,
    "start_time": "2021-10-03T23:09:11.524Z"
   },
   {
    "duration": 5,
    "start_time": "2021-10-03T23:09:12.235Z"
   },
   {
    "duration": 30,
    "start_time": "2021-10-03T23:09:12.242Z"
   },
   {
    "duration": 19,
    "start_time": "2021-10-03T23:09:12.274Z"
   },
   {
    "duration": 20,
    "start_time": "2021-10-03T23:09:12.295Z"
   },
   {
    "duration": 51,
    "start_time": "2021-10-03T23:09:12.318Z"
   },
   {
    "duration": 11,
    "start_time": "2021-10-03T23:09:12.371Z"
   },
   {
    "duration": 22,
    "start_time": "2021-10-03T23:09:12.384Z"
   },
   {
    "duration": 61,
    "start_time": "2021-10-03T23:09:12.408Z"
   },
   {
    "duration": 10,
    "start_time": "2021-10-03T23:09:12.471Z"
   },
   {
    "duration": 12,
    "start_time": "2021-10-03T23:09:12.484Z"
   },
   {
    "duration": 435,
    "start_time": "2021-10-03T23:09:12.498Z"
   },
   {
    "duration": 6,
    "start_time": "2021-10-03T23:09:12.935Z"
   },
   {
    "duration": 7899,
    "start_time": "2021-10-03T23:09:12.943Z"
   },
   {
    "duration": 13,
    "start_time": "2021-10-03T23:09:20.845Z"
   },
   {
    "duration": 3033,
    "start_time": "2021-10-03T23:09:20.868Z"
   },
   {
    "duration": 1610,
    "start_time": "2021-10-04T09:08:03.086Z"
   },
   {
    "duration": 892,
    "start_time": "2021-10-04T09:08:04.699Z"
   },
   {
    "duration": 74,
    "start_time": "2021-10-04T09:08:05.594Z"
   },
   {
    "duration": 44,
    "start_time": "2021-10-04T09:08:05.671Z"
   },
   {
    "duration": 265,
    "start_time": "2021-10-04T09:08:05.718Z"
   },
   {
    "duration": 5,
    "start_time": "2021-10-04T09:08:05.985Z"
   },
   {
    "duration": 715,
    "start_time": "2021-10-04T09:08:05.992Z"
   },
   {
    "duration": 6,
    "start_time": "2021-10-04T09:08:06.709Z"
   },
   {
    "duration": 19,
    "start_time": "2021-10-04T09:08:06.719Z"
   },
   {
    "duration": 40,
    "start_time": "2021-10-04T09:08:06.741Z"
   },
   {
    "duration": 19,
    "start_time": "2021-10-04T09:08:06.783Z"
   },
   {
    "duration": 12,
    "start_time": "2021-10-04T09:08:06.805Z"
   },
   {
    "duration": 52,
    "start_time": "2021-10-04T09:08:06.819Z"
   },
   {
    "duration": 22,
    "start_time": "2021-10-04T09:08:06.873Z"
   },
   {
    "duration": 25,
    "start_time": "2021-10-04T09:08:06.897Z"
   },
   {
    "duration": 47,
    "start_time": "2021-10-04T09:08:06.925Z"
   },
   {
    "duration": 13,
    "start_time": "2021-10-04T09:08:06.974Z"
   },
   {
    "duration": 434,
    "start_time": "2021-10-04T09:08:06.989Z"
   },
   {
    "duration": 6,
    "start_time": "2021-10-04T09:08:07.425Z"
   },
   {
    "duration": 8765,
    "start_time": "2021-10-04T09:08:07.433Z"
   },
   {
    "duration": 13,
    "start_time": "2021-10-04T09:08:16.200Z"
   },
   {
    "duration": 3409,
    "start_time": "2021-10-04T09:08:16.215Z"
   },
   {
    "duration": 13,
    "start_time": "2021-10-04T09:08:19.627Z"
   },
   {
    "duration": 7999,
    "start_time": "2021-10-04T09:08:19.642Z"
   },
   {
    "duration": 3228,
    "start_time": "2021-10-04T09:08:27.644Z"
   },
   {
    "duration": 16,
    "start_time": "2021-10-04T09:09:27.603Z"
   },
   {
    "duration": 1666,
    "start_time": "2021-10-04T09:50:13.755Z"
   },
   {
    "duration": 912,
    "start_time": "2021-10-04T09:50:15.424Z"
   },
   {
    "duration": 71,
    "start_time": "2021-10-04T09:50:16.339Z"
   },
   {
    "duration": 65,
    "start_time": "2021-10-04T09:50:16.413Z"
   },
   {
    "duration": 54,
    "start_time": "2021-10-04T09:50:16.481Z"
   },
   {
    "duration": 30,
    "start_time": "2021-10-04T09:50:16.538Z"
   },
   {
    "duration": 710,
    "start_time": "2021-10-04T09:50:16.571Z"
   },
   {
    "duration": 6,
    "start_time": "2021-10-04T09:50:17.283Z"
   },
   {
    "duration": 14,
    "start_time": "2021-10-04T09:50:17.293Z"
   },
   {
    "duration": 19,
    "start_time": "2021-10-04T09:50:17.310Z"
   },
   {
    "duration": 21,
    "start_time": "2021-10-04T09:50:17.367Z"
   },
   {
    "duration": 13,
    "start_time": "2021-10-04T09:50:17.390Z"
   },
   {
    "duration": 10,
    "start_time": "2021-10-04T09:50:17.405Z"
   },
   {
    "duration": 62,
    "start_time": "2021-10-04T09:50:17.417Z"
   },
   {
    "duration": 28,
    "start_time": "2021-10-04T09:50:17.482Z"
   },
   {
    "duration": 13,
    "start_time": "2021-10-04T09:50:17.513Z"
   },
   {
    "duration": 50,
    "start_time": "2021-10-04T09:50:17.528Z"
   },
   {
    "duration": 449,
    "start_time": "2021-10-04T09:50:17.581Z"
   },
   {
    "duration": 7,
    "start_time": "2021-10-04T09:50:18.033Z"
   },
   {
    "duration": 8171,
    "start_time": "2021-10-04T09:50:18.044Z"
   },
   {
    "duration": 13,
    "start_time": "2021-10-04T09:50:26.218Z"
   },
   {
    "duration": 3148,
    "start_time": "2021-10-04T09:50:26.233Z"
   },
   {
    "duration": 815,
    "start_time": "2021-10-04T09:50:29.385Z"
   },
   {
    "duration": -26,
    "start_time": "2021-10-04T09:50:30.228Z"
   },
   {
    "duration": -26,
    "start_time": "2021-10-04T09:50:30.230Z"
   },
   {
    "duration": -27,
    "start_time": "2021-10-04T09:50:30.232Z"
   },
   {
    "duration": -27,
    "start_time": "2021-10-04T09:50:30.234Z"
   },
   {
    "duration": 130,
    "start_time": "2021-10-04T10:04:35.894Z"
   },
   {
    "duration": 9,
    "start_time": "2021-10-04T10:04:40.950Z"
   },
   {
    "duration": 81,
    "start_time": "2021-10-04T10:11:11.467Z"
   },
   {
    "duration": 175,
    "start_time": "2021-10-04T10:11:48.101Z"
   },
   {
    "duration": 111,
    "start_time": "2021-10-04T10:37:42.115Z"
   },
   {
    "duration": 148,
    "start_time": "2021-10-04T10:37:51.786Z"
   },
   {
    "duration": 95,
    "start_time": "2021-10-04T10:38:22.660Z"
   },
   {
    "duration": 150,
    "start_time": "2021-10-04T10:38:36.821Z"
   },
   {
    "duration": 1694,
    "start_time": "2021-10-04T10:39:03.857Z"
   },
   {
    "duration": 895,
    "start_time": "2021-10-04T10:39:05.554Z"
   },
   {
    "duration": 63,
    "start_time": "2021-10-04T10:39:06.453Z"
   },
   {
    "duration": 66,
    "start_time": "2021-10-04T10:39:06.519Z"
   },
   {
    "duration": 79,
    "start_time": "2021-10-04T10:39:06.588Z"
   },
   {
    "duration": 4,
    "start_time": "2021-10-04T10:39:06.670Z"
   },
   {
    "duration": 685,
    "start_time": "2021-10-04T10:39:06.676Z"
   },
   {
    "duration": 5,
    "start_time": "2021-10-04T10:39:07.368Z"
   },
   {
    "duration": 12,
    "start_time": "2021-10-04T10:39:07.376Z"
   },
   {
    "duration": 19,
    "start_time": "2021-10-04T10:39:07.390Z"
   },
   {
    "duration": 60,
    "start_time": "2021-10-04T10:39:07.412Z"
   },
   {
    "duration": 15,
    "start_time": "2021-10-04T10:39:07.475Z"
   },
   {
    "duration": 11,
    "start_time": "2021-10-04T10:39:07.492Z"
   },
   {
    "duration": 64,
    "start_time": "2021-10-04T10:39:07.505Z"
   },
   {
    "duration": 28,
    "start_time": "2021-10-04T10:39:07.571Z"
   },
   {
    "duration": 11,
    "start_time": "2021-10-04T10:39:07.601Z"
   },
   {
    "duration": 52,
    "start_time": "2021-10-04T10:39:07.614Z"
   },
   {
    "duration": 578,
    "start_time": "2021-10-04T10:39:07.669Z"
   },
   {
    "duration": 18,
    "start_time": "2021-10-04T10:39:08.250Z"
   },
   {
    "duration": 8529,
    "start_time": "2021-10-04T10:39:08.271Z"
   },
   {
    "duration": 12,
    "start_time": "2021-10-04T10:39:16.802Z"
   },
   {
    "duration": 3306,
    "start_time": "2021-10-04T10:39:16.817Z"
   },
   {
    "duration": 202,
    "start_time": "2021-10-04T10:39:20.127Z"
   },
   {
    "duration": 119,
    "start_time": "2021-10-04T10:39:20.331Z"
   },
   {
    "duration": 8145,
    "start_time": "2021-10-04T10:39:20.452Z"
   },
   {
    "duration": 3164,
    "start_time": "2021-10-04T10:39:28.600Z"
   },
   {
    "duration": 15,
    "start_time": "2021-10-04T10:39:31.767Z"
   },
   {
    "duration": 107,
    "start_time": "2021-10-04T10:43:39.680Z"
   },
   {
    "duration": 119,
    "start_time": "2021-10-04T10:43:47.731Z"
   },
   {
    "duration": 124,
    "start_time": "2021-10-04T10:44:08.210Z"
   },
   {
    "duration": 104,
    "start_time": "2021-10-04T10:44:18.737Z"
   },
   {
    "duration": 109,
    "start_time": "2021-10-04T10:44:24.522Z"
   },
   {
    "duration": 9,
    "start_time": "2021-10-04T10:45:50.319Z"
   },
   {
    "duration": 17,
    "start_time": "2021-10-04T10:46:21.203Z"
   },
   {
    "duration": 15,
    "start_time": "2021-10-04T10:47:47.134Z"
   },
   {
    "duration": 1571,
    "start_time": "2021-10-04T10:47:56.318Z"
   },
   {
    "duration": 889,
    "start_time": "2021-10-04T10:47:57.892Z"
   },
   {
    "duration": 58,
    "start_time": "2021-10-04T10:47:58.785Z"
   },
   {
    "duration": 62,
    "start_time": "2021-10-04T10:47:58.846Z"
   },
   {
    "duration": 83,
    "start_time": "2021-10-04T10:47:58.911Z"
   },
   {
    "duration": 4,
    "start_time": "2021-10-04T10:47:58.997Z"
   },
   {
    "duration": 714,
    "start_time": "2021-10-04T10:47:59.003Z"
   },
   {
    "duration": 6,
    "start_time": "2021-10-04T10:47:59.721Z"
   },
   {
    "duration": 12,
    "start_time": "2021-10-04T10:47:59.730Z"
   },
   {
    "duration": 19,
    "start_time": "2021-10-04T10:47:59.767Z"
   },
   {
    "duration": 21,
    "start_time": "2021-10-04T10:47:59.788Z"
   },
   {
    "duration": 14,
    "start_time": "2021-10-04T10:47:59.811Z"
   },
   {
    "duration": 47,
    "start_time": "2021-10-04T10:47:59.827Z"
   },
   {
    "duration": 22,
    "start_time": "2021-10-04T10:47:59.876Z"
   },
   {
    "duration": 47,
    "start_time": "2021-10-04T10:47:59.901Z"
   },
   {
    "duration": 22,
    "start_time": "2021-10-04T10:47:59.950Z"
   },
   {
    "duration": 27,
    "start_time": "2021-10-04T10:47:59.974Z"
   },
   {
    "duration": 447,
    "start_time": "2021-10-04T10:48:00.004Z"
   },
   {
    "duration": 14,
    "start_time": "2021-10-04T10:48:00.453Z"
   },
   {
    "duration": 11904,
    "start_time": "2021-10-04T10:48:00.470Z"
   },
   {
    "duration": 17,
    "start_time": "2021-10-04T10:48:12.377Z"
   },
   {
    "duration": 4417,
    "start_time": "2021-10-04T10:48:12.397Z"
   },
   {
    "duration": 276,
    "start_time": "2021-10-04T10:48:16.819Z"
   },
   {
    "duration": 99,
    "start_time": "2021-10-04T10:48:17.098Z"
   },
   {
    "duration": 2708,
    "start_time": "2021-10-04T10:48:17.200Z"
   },
   {
    "duration": -17,
    "start_time": "2021-10-04T10:48:19.929Z"
   },
   {
    "duration": -17,
    "start_time": "2021-10-04T10:48:19.931Z"
   },
   {
    "duration": 2092,
    "start_time": "2021-10-04T10:49:06.171Z"
   },
   {
    "duration": 899,
    "start_time": "2021-10-04T10:49:08.268Z"
   },
   {
    "duration": 58,
    "start_time": "2021-10-04T10:49:09.174Z"
   },
   {
    "duration": 73,
    "start_time": "2021-10-04T10:49:09.235Z"
   },
   {
    "duration": 76,
    "start_time": "2021-10-04T10:49:09.311Z"
   },
   {
    "duration": 5,
    "start_time": "2021-10-04T10:49:09.389Z"
   },
   {
    "duration": 731,
    "start_time": "2021-10-04T10:49:09.398Z"
   },
   {
    "duration": 6,
    "start_time": "2021-10-04T10:49:10.132Z"
   },
   {
    "duration": 31,
    "start_time": "2021-10-04T10:49:10.140Z"
   },
   {
    "duration": 21,
    "start_time": "2021-10-04T10:49:10.173Z"
   },
   {
    "duration": 22,
    "start_time": "2021-10-04T10:49:10.196Z"
   },
   {
    "duration": 50,
    "start_time": "2021-10-04T10:49:10.220Z"
   },
   {
    "duration": 10,
    "start_time": "2021-10-04T10:49:10.273Z"
   },
   {
    "duration": 29,
    "start_time": "2021-10-04T10:49:10.285Z"
   },
   {
    "duration": 60,
    "start_time": "2021-10-04T10:49:10.316Z"
   },
   {
    "duration": 12,
    "start_time": "2021-10-04T10:49:10.378Z"
   },
   {
    "duration": 22,
    "start_time": "2021-10-04T10:49:10.392Z"
   },
   {
    "duration": 453,
    "start_time": "2021-10-04T10:49:10.417Z"
   },
   {
    "duration": 7,
    "start_time": "2021-10-04T10:49:10.872Z"
   },
   {
    "duration": 8012,
    "start_time": "2021-10-04T10:49:10.881Z"
   },
   {
    "duration": 14,
    "start_time": "2021-10-04T10:49:18.896Z"
   },
   {
    "duration": 3129,
    "start_time": "2021-10-04T10:49:18.915Z"
   },
   {
    "duration": 197,
    "start_time": "2021-10-04T10:49:22.047Z"
   },
   {
    "duration": 80,
    "start_time": "2021-10-04T10:49:22.247Z"
   },
   {
    "duration": 1728,
    "start_time": "2021-10-04T10:49:22.330Z"
   },
   {
    "duration": -9,
    "start_time": "2021-10-04T10:49:24.070Z"
   },
   {
    "duration": -11,
    "start_time": "2021-10-04T10:49:24.073Z"
   },
   {
    "duration": 2959,
    "start_time": "2021-10-04T10:54:16.369Z"
   },
   {
    "duration": 2053,
    "start_time": "2021-10-04T10:54:50.697Z"
   },
   {
    "duration": 936,
    "start_time": "2021-10-04T10:54:52.753Z"
   },
   {
    "duration": 55,
    "start_time": "2021-10-04T10:54:53.691Z"
   },
   {
    "duration": 60,
    "start_time": "2021-10-04T10:54:53.749Z"
   },
   {
    "duration": 78,
    "start_time": "2021-10-04T10:54:53.812Z"
   },
   {
    "duration": 4,
    "start_time": "2021-10-04T10:54:53.893Z"
   },
   {
    "duration": 707,
    "start_time": "2021-10-04T10:54:53.900Z"
   },
   {
    "duration": 6,
    "start_time": "2021-10-04T10:54:54.613Z"
   },
   {
    "duration": 11,
    "start_time": "2021-10-04T10:54:54.623Z"
   },
   {
    "duration": 44,
    "start_time": "2021-10-04T10:54:54.638Z"
   },
   {
    "duration": 22,
    "start_time": "2021-10-04T10:54:54.685Z"
   },
   {
    "duration": 58,
    "start_time": "2021-10-04T10:54:54.710Z"
   },
   {
    "duration": 13,
    "start_time": "2021-10-04T10:54:54.772Z"
   },
   {
    "duration": 24,
    "start_time": "2021-10-04T10:54:54.788Z"
   },
   {
    "duration": 66,
    "start_time": "2021-10-04T10:54:54.814Z"
   },
   {
    "duration": 12,
    "start_time": "2021-10-04T10:54:54.882Z"
   },
   {
    "duration": 18,
    "start_time": "2021-10-04T10:54:54.896Z"
   },
   {
    "duration": 458,
    "start_time": "2021-10-04T10:54:54.916Z"
   },
   {
    "duration": 6,
    "start_time": "2021-10-04T10:54:55.377Z"
   },
   {
    "duration": 7907,
    "start_time": "2021-10-04T10:54:55.386Z"
   },
   {
    "duration": 12,
    "start_time": "2021-10-04T10:55:03.296Z"
   },
   {
    "duration": 3168,
    "start_time": "2021-10-04T10:55:03.311Z"
   },
   {
    "duration": 128,
    "start_time": "2021-10-04T10:55:06.483Z"
   },
   {
    "duration": 7680,
    "start_time": "2021-10-04T10:55:06.614Z"
   },
   {
    "duration": 3060,
    "start_time": "2021-10-04T10:55:14.296Z"
   },
   {
    "duration": 20,
    "start_time": "2021-10-04T10:55:17.359Z"
   },
   {
    "duration": 4,
    "start_time": "2021-10-04T11:19:04.437Z"
   },
   {
    "duration": 8517,
    "start_time": "2021-10-04T12:28:04.854Z"
   },
   {
    "duration": 8932,
    "start_time": "2021-10-04T12:29:37.403Z"
   },
   {
    "duration": 8321,
    "start_time": "2021-10-04T12:29:58.556Z"
   },
   {
    "duration": 136,
    "start_time": "2021-10-04T12:30:20.901Z"
   },
   {
    "duration": 24,
    "start_time": "2021-10-04T12:32:21.467Z"
   },
   {
    "duration": 4,
    "start_time": "2021-10-04T12:33:48.058Z"
   },
   {
    "duration": 4,
    "start_time": "2021-10-04T12:33:49.600Z"
   },
   {
    "duration": 4,
    "start_time": "2021-10-04T12:33:51.792Z"
   },
   {
    "duration": 24,
    "start_time": "2021-10-04T12:36:22.840Z"
   },
   {
    "duration": 349,
    "start_time": "2021-10-04T12:36:33.529Z"
   },
   {
    "duration": 111,
    "start_time": "2021-10-04T12:36:39.586Z"
   },
   {
    "duration": 5,
    "start_time": "2021-10-04T12:36:42.697Z"
   },
   {
    "duration": 6,
    "start_time": "2021-10-04T12:36:50.658Z"
   },
   {
    "duration": 7977,
    "start_time": "2021-10-04T13:08:50.250Z"
   },
   {
    "duration": 13,
    "start_time": "2021-10-04T13:09:08.115Z"
   },
   {
    "duration": 13497,
    "start_time": "2021-10-04T13:12:46.590Z"
   },
   {
    "duration": 7543,
    "start_time": "2021-10-04T13:13:05.520Z"
   },
   {
    "duration": 16,
    "start_time": "2021-10-04T13:13:33.552Z"
   },
   {
    "duration": 13,
    "start_time": "2021-10-04T13:14:02.138Z"
   },
   {
    "duration": 11,
    "start_time": "2021-10-04T13:14:25.660Z"
   },
   {
    "duration": 6,
    "start_time": "2021-10-04T13:21:22.556Z"
   },
   {
    "duration": 877,
    "start_time": "2021-10-04T13:21:23.851Z"
   },
   {
    "duration": 55,
    "start_time": "2021-10-04T13:21:25.027Z"
   },
   {
    "duration": 46,
    "start_time": "2021-10-04T13:21:25.611Z"
   },
   {
    "duration": 58,
    "start_time": "2021-10-04T13:21:26.180Z"
   },
   {
    "duration": 5,
    "start_time": "2021-10-04T13:21:26.730Z"
   },
   {
    "duration": 642,
    "start_time": "2021-10-04T13:21:27.186Z"
   },
   {
    "duration": 6,
    "start_time": "2021-10-04T13:21:28.883Z"
   },
   {
    "duration": 11,
    "start_time": "2021-10-04T13:21:29.547Z"
   },
   {
    "duration": 20,
    "start_time": "2021-10-04T13:21:31.643Z"
   },
   {
    "duration": 19,
    "start_time": "2021-10-04T13:21:32.315Z"
   },
   {
    "duration": 14,
    "start_time": "2021-10-04T13:21:37.459Z"
   },
   {
    "duration": 10,
    "start_time": "2021-10-04T13:21:39.371Z"
   },
   {
    "duration": 29,
    "start_time": "2021-10-04T13:21:42.299Z"
   },
   {
    "duration": 21,
    "start_time": "2021-10-04T13:21:43.131Z"
   },
   {
    "duration": 11,
    "start_time": "2021-10-04T13:21:48.523Z"
   },
   {
    "duration": 10,
    "start_time": "2021-10-04T13:21:49.316Z"
   },
   {
    "duration": 420,
    "start_time": "2021-10-04T13:21:52.660Z"
   },
   {
    "duration": 7,
    "start_time": "2021-10-04T13:21:58.220Z"
   },
   {
    "duration": 8499,
    "start_time": "2021-10-04T13:21:59.364Z"
   },
   {
    "duration": 16,
    "start_time": "2021-10-04T13:22:16.974Z"
   },
   {
    "duration": 13,
    "start_time": "2021-10-04T13:22:20.125Z"
   },
   {
    "duration": 11,
    "start_time": "2021-10-04T13:22:26.885Z"
   },
   {
    "duration": 10,
    "start_time": "2021-10-04T13:22:32.926Z"
   },
   {
    "duration": 19,
    "start_time": "2021-10-04T13:22:38.166Z"
   },
   {
    "duration": 18,
    "start_time": "2021-10-04T13:22:55.991Z"
   },
   {
    "duration": 29,
    "start_time": "2021-10-04T13:23:18.440Z"
   },
   {
    "duration": 15,
    "start_time": "2021-10-04T13:24:32.270Z"
   },
   {
    "duration": 43,
    "start_time": "2021-10-04T13:24:49.517Z"
   },
   {
    "duration": 29,
    "start_time": "2021-10-04T13:33:48.819Z"
   },
   {
    "duration": 136,
    "start_time": "2021-10-04T13:34:39.343Z"
   },
   {
    "duration": 111,
    "start_time": "2021-10-04T13:34:43.526Z"
   },
   {
    "duration": 30,
    "start_time": "2021-10-04T13:34:53.791Z"
   },
   {
    "duration": 25,
    "start_time": "2021-10-04T13:35:41.722Z"
   },
   {
    "duration": 18,
    "start_time": "2021-10-04T13:35:54.930Z"
   },
   {
    "duration": 28,
    "start_time": "2021-10-04T13:36:08.939Z"
   },
   {
    "duration": 14,
    "start_time": "2021-10-04T13:36:48.949Z"
   },
   {
    "duration": 18,
    "start_time": "2021-10-04T13:45:07.354Z"
   },
   {
    "duration": 10,
    "start_time": "2021-10-04T14:01:36.014Z"
   },
   {
    "duration": 9,
    "start_time": "2021-10-04T14:01:59.190Z"
   },
   {
    "duration": 9,
    "start_time": "2021-10-04T14:02:26.536Z"
   },
   {
    "duration": 9,
    "start_time": "2021-10-04T14:02:31.960Z"
   },
   {
    "duration": 10,
    "start_time": "2021-10-04T14:02:40.929Z"
   },
   {
    "duration": 1524,
    "start_time": "2021-10-04T14:03:03.888Z"
   },
   {
    "duration": 923,
    "start_time": "2021-10-04T14:03:05.415Z"
   },
   {
    "duration": 66,
    "start_time": "2021-10-04T14:03:06.344Z"
   },
   {
    "duration": 66,
    "start_time": "2021-10-04T14:03:06.412Z"
   },
   {
    "duration": 57,
    "start_time": "2021-10-04T14:03:06.480Z"
   },
   {
    "duration": 29,
    "start_time": "2021-10-04T14:03:06.539Z"
   },
   {
    "duration": 706,
    "start_time": "2021-10-04T14:03:06.572Z"
   },
   {
    "duration": 6,
    "start_time": "2021-10-04T14:03:07.281Z"
   },
   {
    "duration": 13,
    "start_time": "2021-10-04T14:03:07.290Z"
   },
   {
    "duration": 20,
    "start_time": "2021-10-04T14:03:07.305Z"
   },
   {
    "duration": 20,
    "start_time": "2021-10-04T14:03:07.367Z"
   },
   {
    "duration": 12,
    "start_time": "2021-10-04T14:03:07.389Z"
   },
   {
    "duration": 9,
    "start_time": "2021-10-04T14:03:07.403Z"
   },
   {
    "duration": 58,
    "start_time": "2021-10-04T14:03:07.414Z"
   },
   {
    "duration": 25,
    "start_time": "2021-10-04T14:03:07.474Z"
   },
   {
    "duration": 10,
    "start_time": "2021-10-04T14:03:07.501Z"
   },
   {
    "duration": 14,
    "start_time": "2021-10-04T14:03:07.513Z"
   },
   {
    "duration": 426,
    "start_time": "2021-10-04T14:03:07.566Z"
   },
   {
    "duration": 440,
    "start_time": "2021-10-04T14:03:07.995Z"
   },
   {
    "duration": 117,
    "start_time": "2021-10-04T14:03:08.321Z"
   },
   {
    "duration": 117,
    "start_time": "2021-10-04T14:03:08.323Z"
   },
   {
    "duration": 116,
    "start_time": "2021-10-04T14:03:08.325Z"
   },
   {
    "duration": 117,
    "start_time": "2021-10-04T14:03:08.326Z"
   },
   {
    "duration": 116,
    "start_time": "2021-10-04T14:03:08.329Z"
   },
   {
    "duration": 116,
    "start_time": "2021-10-04T14:03:08.330Z"
   },
   {
    "duration": 111,
    "start_time": "2021-10-04T14:03:08.336Z"
   },
   {
    "duration": 110,
    "start_time": "2021-10-04T14:03:08.339Z"
   },
   {
    "duration": 107,
    "start_time": "2021-10-04T14:03:08.343Z"
   },
   {
    "duration": 107,
    "start_time": "2021-10-04T14:03:08.344Z"
   },
   {
    "duration": 106,
    "start_time": "2021-10-04T14:03:08.347Z"
   },
   {
    "duration": 101,
    "start_time": "2021-10-04T14:03:08.353Z"
   },
   {
    "duration": 98,
    "start_time": "2021-10-04T14:03:08.357Z"
   },
   {
    "duration": 96,
    "start_time": "2021-10-04T14:03:08.360Z"
   },
   {
    "duration": 94,
    "start_time": "2021-10-04T14:03:08.363Z"
   },
   {
    "duration": 6,
    "start_time": "2021-10-04T14:03:38.588Z"
   },
   {
    "duration": 8369,
    "start_time": "2021-10-04T14:03:41.252Z"
   },
   {
    "duration": 15,
    "start_time": "2021-10-04T14:03:50.725Z"
   },
   {
    "duration": 9,
    "start_time": "2021-10-04T14:03:53.821Z"
   },
   {
    "duration": 10,
    "start_time": "2021-10-04T14:04:00.094Z"
   },
   {
    "duration": 8,
    "start_time": "2021-10-04T14:04:13.591Z"
   },
   {
    "duration": 8,
    "start_time": "2021-10-04T14:04:19.487Z"
   },
   {
    "duration": 12,
    "start_time": "2021-10-04T14:15:08.868Z"
   },
   {
    "duration": 13,
    "start_time": "2021-10-04T14:15:13.443Z"
   },
   {
    "duration": 8,
    "start_time": "2021-10-04T14:15:39.412Z"
   },
   {
    "duration": 7,
    "start_time": "2021-10-04T14:15:44.332Z"
   },
   {
    "duration": 1701,
    "start_time": "2021-10-04T18:04:47.857Z"
   },
   {
    "duration": 941,
    "start_time": "2021-10-04T18:04:49.560Z"
   },
   {
    "duration": 75,
    "start_time": "2021-10-04T18:04:50.504Z"
   },
   {
    "duration": 45,
    "start_time": "2021-10-04T18:04:50.582Z"
   },
   {
    "duration": 82,
    "start_time": "2021-10-04T18:04:50.630Z"
   },
   {
    "duration": 4,
    "start_time": "2021-10-04T18:04:50.715Z"
   },
   {
    "duration": 772,
    "start_time": "2021-10-04T18:04:50.721Z"
   },
   {
    "duration": 7,
    "start_time": "2021-10-04T18:04:51.499Z"
   },
   {
    "duration": 21,
    "start_time": "2021-10-04T18:04:51.510Z"
   },
   {
    "duration": 53,
    "start_time": "2021-10-04T18:04:51.534Z"
   },
   {
    "duration": 27,
    "start_time": "2021-10-04T18:04:51.590Z"
   },
   {
    "duration": 58,
    "start_time": "2021-10-04T18:04:51.619Z"
   },
   {
    "duration": 13,
    "start_time": "2021-10-04T18:04:51.680Z"
   },
   {
    "duration": 26,
    "start_time": "2021-10-04T18:04:51.695Z"
   },
   {
    "duration": 25,
    "start_time": "2021-10-04T18:04:51.767Z"
   },
   {
    "duration": 11,
    "start_time": "2021-10-04T18:04:51.795Z"
   },
   {
    "duration": 19,
    "start_time": "2021-10-04T18:04:51.808Z"
   },
   {
    "duration": 491,
    "start_time": "2021-10-04T18:04:51.829Z"
   },
   {
    "duration": 476,
    "start_time": "2021-10-04T18:04:52.323Z"
   },
   {
    "duration": -882,
    "start_time": "2021-10-04T18:04:53.686Z"
   },
   {
    "duration": -884,
    "start_time": "2021-10-04T18:04:53.690Z"
   },
   {
    "duration": -885,
    "start_time": "2021-10-04T18:04:53.693Z"
   },
   {
    "duration": -887,
    "start_time": "2021-10-04T18:04:53.697Z"
   },
   {
    "duration": -893,
    "start_time": "2021-10-04T18:04:53.705Z"
   },
   {
    "duration": -894,
    "start_time": "2021-10-04T18:04:53.708Z"
   },
   {
    "duration": -895,
    "start_time": "2021-10-04T18:04:53.711Z"
   },
   {
    "duration": -900,
    "start_time": "2021-10-04T18:04:53.717Z"
   },
   {
    "duration": -903,
    "start_time": "2021-10-04T18:04:53.721Z"
   },
   {
    "duration": -905,
    "start_time": "2021-10-04T18:04:53.725Z"
   },
   {
    "duration": -907,
    "start_time": "2021-10-04T18:04:53.728Z"
   },
   {
    "duration": -913,
    "start_time": "2021-10-04T18:04:53.735Z"
   },
   {
    "duration": -915,
    "start_time": "2021-10-04T18:04:53.739Z"
   },
   {
    "duration": -916,
    "start_time": "2021-10-04T18:04:53.741Z"
   },
   {
    "duration": -920,
    "start_time": "2021-10-04T18:04:53.746Z"
   },
   {
    "duration": -925,
    "start_time": "2021-10-04T18:04:53.752Z"
   },
   {
    "duration": 7,
    "start_time": "2021-10-04T18:05:09.453Z"
   },
   {
    "duration": 8254,
    "start_time": "2021-10-04T18:05:50.420Z"
   },
   {
    "duration": 14,
    "start_time": "2021-10-04T18:06:07.708Z"
   },
   {
    "duration": 9,
    "start_time": "2021-10-04T18:06:19.053Z"
   },
   {
    "duration": 10809,
    "start_time": "2021-10-04T18:06:31.109Z"
   },
   {
    "duration": 8,
    "start_time": "2021-10-04T18:06:44.094Z"
   },
   {
    "duration": 8,
    "start_time": "2021-10-04T18:06:52.652Z"
   },
   {
    "duration": 8,
    "start_time": "2021-10-04T18:07:03.464Z"
   },
   {
    "duration": 19,
    "start_time": "2021-10-04T18:08:16.690Z"
   },
   {
    "duration": 3169,
    "start_time": "2021-10-04T18:08:26.289Z"
   },
   {
    "duration": 24,
    "start_time": "2021-10-04T18:14:02.440Z"
   },
   {
    "duration": 45,
    "start_time": "2021-10-04T18:15:50.524Z"
   },
   {
    "duration": 44,
    "start_time": "2021-10-04T18:16:11.486Z"
   },
   {
    "duration": 43,
    "start_time": "2021-10-04T18:29:55.208Z"
   },
   {
    "duration": 6,
    "start_time": "2021-10-04T18:30:45.244Z"
   },
   {
    "duration": 62,
    "start_time": "2021-10-04T18:30:59.139Z"
   },
   {
    "duration": 6,
    "start_time": "2021-10-04T18:31:42.893Z"
   },
   {
    "duration": 864,
    "start_time": "2021-10-04T18:32:52.184Z"
   },
   {
    "duration": 5,
    "start_time": "2021-10-04T18:33:07.757Z"
   },
   {
    "duration": 119,
    "start_time": "2021-10-04T18:33:10.972Z"
   },
   {
    "duration": 6,
    "start_time": "2021-10-04T18:33:28.126Z"
   },
   {
    "duration": 852,
    "start_time": "2021-10-04T18:35:31.439Z"
   },
   {
    "duration": 32,
    "start_time": "2021-10-04T18:36:07.913Z"
   },
   {
    "duration": 4,
    "start_time": "2021-10-04T18:36:17.886Z"
   },
   {
    "duration": 6,
    "start_time": "2021-10-04T18:39:28.739Z"
   },
   {
    "duration": 46,
    "start_time": "2021-10-04T18:39:57.652Z"
   },
   {
    "duration": 34,
    "start_time": "2021-10-04T18:40:02.307Z"
   },
   {
    "duration": 8527,
    "start_time": "2021-10-04T18:40:23.848Z"
   },
   {
    "duration": 3249,
    "start_time": "2021-10-04T18:40:34.908Z"
   },
   {
    "duration": 19,
    "start_time": "2021-10-04T18:41:02.928Z"
   },
   {
    "duration": 16,
    "start_time": "2021-10-04T18:41:25.860Z"
   },
   {
    "duration": 21,
    "start_time": "2021-10-04T18:43:12.878Z"
   },
   {
    "duration": 365,
    "start_time": "2021-10-04T18:48:18.090Z"
   },
   {
    "duration": 421,
    "start_time": "2021-10-04T18:48:36.672Z"
   },
   {
    "duration": 19,
    "start_time": "2021-10-04T18:48:41.350Z"
   },
   {
    "duration": 10,
    "start_time": "2021-10-04T18:48:59.301Z"
   },
   {
    "duration": 46,
    "start_time": "2021-10-04T18:49:24.418Z"
   },
   {
    "duration": 9,
    "start_time": "2021-10-04T18:50:00.354Z"
   },
   {
    "duration": 39,
    "start_time": "2021-10-04T18:57:28.850Z"
   },
   {
    "duration": 14,
    "start_time": "2021-10-04T18:59:51.444Z"
   },
   {
    "duration": 5,
    "start_time": "2021-10-04T19:01:01.785Z"
   },
   {
    "duration": 4,
    "start_time": "2021-10-04T19:02:03.682Z"
   },
   {
    "duration": 5,
    "start_time": "2021-10-04T19:03:43.460Z"
   },
   {
    "duration": 334,
    "start_time": "2021-10-04T19:07:24.027Z"
   },
   {
    "duration": 6,
    "start_time": "2021-10-04T19:07:35.603Z"
   },
   {
    "duration": 4,
    "start_time": "2021-10-04T19:07:38.602Z"
   },
   {
    "duration": 4,
    "start_time": "2021-10-04T19:07:41.546Z"
   },
   {
    "duration": 301,
    "start_time": "2021-10-04T19:07:48.419Z"
   },
   {
    "duration": 5,
    "start_time": "2021-10-04T19:07:59.303Z"
   },
   {
    "duration": 4,
    "start_time": "2021-10-04T19:08:02.211Z"
   },
   {
    "duration": 472,
    "start_time": "2021-10-04T19:11:02.661Z"
   },
   {
    "duration": 10,
    "start_time": "2021-10-04T19:12:04.597Z"
   },
   {
    "duration": 341,
    "start_time": "2021-10-04T19:12:18.096Z"
   },
   {
    "duration": 7,
    "start_time": "2021-10-04T19:12:27.420Z"
   },
   {
    "duration": 311,
    "start_time": "2021-10-04T19:13:25.070Z"
   },
   {
    "duration": 12,
    "start_time": "2021-10-04T19:13:51.167Z"
   },
   {
    "duration": 7,
    "start_time": "2021-10-04T19:14:06.449Z"
   },
   {
    "duration": 6,
    "start_time": "2021-10-04T19:14:15.827Z"
   },
   {
    "duration": 12,
    "start_time": "2021-10-04T19:14:29.189Z"
   },
   {
    "duration": 5,
    "start_time": "2021-10-04T19:14:41.215Z"
   },
   {
    "duration": 4,
    "start_time": "2021-10-04T19:14:42.433Z"
   },
   {
    "duration": 3,
    "start_time": "2021-10-04T19:14:42.993Z"
   },
   {
    "duration": 12,
    "start_time": "2021-10-04T19:14:44.569Z"
   },
   {
    "duration": 4,
    "start_time": "2021-10-04T19:14:45.317Z"
   },
   {
    "duration": 4,
    "start_time": "2021-10-04T19:14:46.234Z"
   },
   {
    "duration": 4,
    "start_time": "2021-10-04T19:14:47.790Z"
   },
   {
    "duration": 375,
    "start_time": "2021-10-04T19:15:07.931Z"
   },
   {
    "duration": 41,
    "start_time": "2021-10-04T19:16:10.535Z"
   },
   {
    "duration": 39,
    "start_time": "2021-10-04T19:17:15.449Z"
   },
   {
    "duration": 12,
    "start_time": "2021-10-04T19:17:37.219Z"
   },
   {
    "duration": 38,
    "start_time": "2021-10-04T19:18:12.910Z"
   },
   {
    "duration": 1815,
    "start_time": "2021-10-04T19:19:28.206Z"
   },
   {
    "duration": 1943,
    "start_time": "2021-10-04T19:19:30.024Z"
   },
   {
    "duration": 57,
    "start_time": "2021-10-04T19:19:31.971Z"
   },
   {
    "duration": 69,
    "start_time": "2021-10-04T19:19:32.030Z"
   },
   {
    "duration": 86,
    "start_time": "2021-10-04T19:19:32.102Z"
   },
   {
    "duration": 4,
    "start_time": "2021-10-04T19:19:32.191Z"
   },
   {
    "duration": 791,
    "start_time": "2021-10-04T19:19:32.198Z"
   },
   {
    "duration": 6,
    "start_time": "2021-10-04T19:19:32.993Z"
   },
   {
    "duration": 13,
    "start_time": "2021-10-04T19:19:33.002Z"
   },
   {
    "duration": 61,
    "start_time": "2021-10-04T19:19:33.017Z"
   },
   {
    "duration": 20,
    "start_time": "2021-10-04T19:19:33.080Z"
   },
   {
    "duration": 69,
    "start_time": "2021-10-04T19:19:33.103Z"
   },
   {
    "duration": 10,
    "start_time": "2021-10-04T19:19:33.175Z"
   },
   {
    "duration": 83,
    "start_time": "2021-10-04T19:19:33.187Z"
   },
   {
    "duration": 26,
    "start_time": "2021-10-04T19:19:33.272Z"
   },
   {
    "duration": 11,
    "start_time": "2021-10-04T19:19:33.300Z"
   },
   {
    "duration": 62,
    "start_time": "2021-10-04T19:19:33.313Z"
   },
   {
    "duration": 574,
    "start_time": "2021-10-04T19:19:33.378Z"
   },
   {
    "duration": 15,
    "start_time": "2021-10-04T19:19:33.955Z"
   },
   {
    "duration": 8443,
    "start_time": "2021-10-04T19:19:33.973Z"
   },
   {
    "duration": 13,
    "start_time": "2021-10-04T19:19:42.419Z"
   },
   {
    "duration": 3152,
    "start_time": "2021-10-04T19:19:42.435Z"
   },
   {
    "duration": 76,
    "start_time": "2021-10-04T19:19:45.591Z"
   },
   {
    "duration": 16696,
    "start_time": "2021-10-04T19:19:45.671Z"
   },
   {
    "duration": 5562,
    "start_time": "2021-10-04T19:20:02.371Z"
   },
   {
    "duration": 43,
    "start_time": "2021-10-04T19:20:07.937Z"
   },
   {
    "duration": 6,
    "start_time": "2021-10-04T19:20:07.984Z"
   },
   {
    "duration": 7,
    "start_time": "2021-10-04T19:20:07.994Z"
   },
   {
    "duration": 9,
    "start_time": "2021-10-04T19:20:08.003Z"
   },
   {
    "duration": 53,
    "start_time": "2021-10-04T19:20:08.015Z"
   },
   {
    "duration": 7,
    "start_time": "2021-10-04T19:20:08.071Z"
   },
   {
    "duration": 8,
    "start_time": "2021-10-04T19:20:08.081Z"
   },
   {
    "duration": 8,
    "start_time": "2021-10-04T19:20:08.092Z"
   },
   {
    "duration": 72,
    "start_time": "2021-10-04T19:20:08.103Z"
   },
   {
    "duration": 818,
    "start_time": "2021-10-04T19:20:08.178Z"
   },
   {
    "duration": -870,
    "start_time": "2021-10-04T19:20:09.870Z"
   },
   {
    "duration": 5,
    "start_time": "2021-10-04T19:24:27.289Z"
   },
   {
    "duration": 636,
    "start_time": "2021-10-04T19:24:37.545Z"
   },
   {
    "duration": 93,
    "start_time": "2021-10-04T19:26:13.712Z"
   },
   {
    "duration": 130,
    "start_time": "2021-10-04T19:26:36.630Z"
   },
   {
    "duration": 5,
    "start_time": "2021-10-04T19:26:49.362Z"
   },
   {
    "duration": 896,
    "start_time": "2021-10-04T19:47:02.379Z"
   },
   {
    "duration": 362,
    "start_time": "2021-10-04T19:47:30.731Z"
   },
   {
    "duration": 18,
    "start_time": "2021-10-04T19:48:34.587Z"
   },
   {
    "duration": 670,
    "start_time": "2021-10-04T19:48:48.105Z"
   },
   {
    "duration": 888,
    "start_time": "2021-10-04T19:49:30.759Z"
   },
   {
    "duration": 398,
    "start_time": "2021-10-04T19:49:33.316Z"
   },
   {
    "duration": 16,
    "start_time": "2021-10-04T19:49:38.978Z"
   },
   {
    "duration": 375,
    "start_time": "2021-10-04T19:49:41.850Z"
   },
   {
    "duration": 92,
    "start_time": "2021-10-04T19:49:45.741Z"
   },
   {
    "duration": 58,
    "start_time": "2021-10-04T19:50:35.299Z"
   },
   {
    "duration": 64,
    "start_time": "2021-10-04T19:51:11.541Z"
   },
   {
    "duration": 7,
    "start_time": "2021-10-04T19:51:48.078Z"
   },
   {
    "duration": 374,
    "start_time": "2021-10-04T19:51:59.652Z"
   },
   {
    "duration": 10,
    "start_time": "2021-10-04T19:52:14.889Z"
   },
   {
    "duration": 129,
    "start_time": "2021-10-04T19:53:09.772Z"
   },
   {
    "duration": 229,
    "start_time": "2021-10-04T19:53:22.664Z"
   },
   {
    "duration": 226,
    "start_time": "2021-10-04T19:54:36.471Z"
   },
   {
    "duration": 12,
    "start_time": "2021-10-04T19:55:45.300Z"
   },
   {
    "duration": 15,
    "start_time": "2021-10-04T19:55:57.369Z"
   },
   {
    "duration": 411,
    "start_time": "2021-10-04T19:56:12.723Z"
   },
   {
    "duration": 18,
    "start_time": "2021-10-04T19:56:17.148Z"
   },
   {
    "duration": 908,
    "start_time": "2021-10-04T19:56:46.013Z"
   },
   {
    "duration": 404,
    "start_time": "2021-10-04T19:56:48.378Z"
   },
   {
    "duration": 13,
    "start_time": "2021-10-04T19:56:59.390Z"
   },
   {
    "duration": 364,
    "start_time": "2021-10-04T19:57:01.133Z"
   },
   {
    "duration": 61,
    "start_time": "2021-10-04T19:57:05.987Z"
   },
   {
    "duration": 218,
    "start_time": "2021-10-04T19:57:08.516Z"
   },
   {
    "duration": 11,
    "start_time": "2021-10-04T19:57:24.047Z"
   },
   {
    "duration": 11,
    "start_time": "2021-10-04T19:57:29.053Z"
   },
   {
    "duration": 8,
    "start_time": "2021-10-04T19:58:47.075Z"
   },
   {
    "duration": 303,
    "start_time": "2021-10-04T19:59:05.843Z"
   },
   {
    "duration": 13,
    "start_time": "2021-10-04T19:59:12.820Z"
   },
   {
    "duration": 10,
    "start_time": "2021-10-04T19:59:43.144Z"
   },
   {
    "duration": 294,
    "start_time": "2021-10-04T20:00:20.743Z"
   },
   {
    "duration": 22,
    "start_time": "2021-10-04T20:00:27.220Z"
   },
   {
    "duration": 857,
    "start_time": "2021-10-04T20:04:44.732Z"
   },
   {
    "duration": 56,
    "start_time": "2021-10-04T20:04:47.975Z"
   },
   {
    "duration": 44,
    "start_time": "2021-10-04T20:05:05.768Z"
   },
   {
    "duration": 55,
    "start_time": "2021-10-04T20:05:12.654Z"
   },
   {
    "duration": 4,
    "start_time": "2021-10-04T20:05:20.038Z"
   },
   {
    "duration": 662,
    "start_time": "2021-10-04T20:05:27.849Z"
   },
   {
    "duration": 269,
    "start_time": "2021-10-04T20:06:36.061Z"
   },
   {
    "duration": 3,
    "start_time": "2021-10-04T20:06:59.434Z"
   },
   {
    "duration": 891,
    "start_time": "2021-10-04T20:07:01.347Z"
   },
   {
    "duration": 15,
    "start_time": "2021-10-04T20:07:14.564Z"
   },
   {
    "duration": 14,
    "start_time": "2021-10-04T20:08:30.973Z"
   },
   {
    "duration": 8,
    "start_time": "2021-10-04T20:09:23.590Z"
   },
   {
    "duration": 12,
    "start_time": "2021-10-04T20:10:04.620Z"
   },
   {
    "duration": 381,
    "start_time": "2021-10-04T20:10:44.444Z"
   },
   {
    "duration": 4,
    "start_time": "2021-10-04T20:10:59.424Z"
   },
   {
    "duration": 702,
    "start_time": "2021-10-04T20:11:02.737Z"
   },
   {
    "duration": 645,
    "start_time": "2021-10-04T20:11:15.579Z"
   },
   {
    "duration": 7,
    "start_time": "2021-10-04T20:11:38.813Z"
   },
   {
    "duration": 6,
    "start_time": "2021-10-04T20:12:21.146Z"
   },
   {
    "duration": 829,
    "start_time": "2021-10-04T20:12:22.185Z"
   },
   {
    "duration": 55,
    "start_time": "2021-10-04T20:12:23.697Z"
   },
   {
    "duration": 48,
    "start_time": "2021-10-04T20:12:24.445Z"
   },
   {
    "duration": 54,
    "start_time": "2021-10-04T20:12:25.557Z"
   },
   {
    "duration": 5,
    "start_time": "2021-10-04T20:12:28.243Z"
   },
   {
    "duration": 670,
    "start_time": "2021-10-04T20:12:29.964Z"
   },
   {
    "duration": 20,
    "start_time": "2021-10-04T20:26:23.608Z"
   },
   {
    "duration": 41,
    "start_time": "2021-10-04T20:26:47.080Z"
   },
   {
    "duration": 20,
    "start_time": "2021-10-04T20:52:50.442Z"
   },
   {
    "duration": 41,
    "start_time": "2021-10-04T20:52:52.569Z"
   },
   {
    "duration": 4,
    "start_time": "2021-10-04T20:53:47.885Z"
   },
   {
    "duration": 4,
    "start_time": "2021-10-04T20:53:50.373Z"
   },
   {
    "duration": 3,
    "start_time": "2021-10-04T20:53:53.045Z"
   },
   {
    "duration": 299,
    "start_time": "2021-10-04T20:54:03.666Z"
   },
   {
    "duration": 395,
    "start_time": "2021-10-04T20:55:45.097Z"
   },
   {
    "duration": 298,
    "start_time": "2021-10-04T20:56:08.829Z"
   },
   {
    "duration": 1589,
    "start_time": "2021-10-04T20:57:04.045Z"
   },
   {
    "duration": 902,
    "start_time": "2021-10-04T20:57:05.640Z"
   },
   {
    "duration": 60,
    "start_time": "2021-10-04T20:57:06.545Z"
   },
   {
    "duration": 70,
    "start_time": "2021-10-04T20:57:06.608Z"
   },
   {
    "duration": 56,
    "start_time": "2021-10-04T20:57:06.680Z"
   },
   {
    "duration": 30,
    "start_time": "2021-10-04T20:57:06.738Z"
   },
   {
    "duration": 683,
    "start_time": "2021-10-04T20:57:06.771Z"
   },
   {
    "duration": 6,
    "start_time": "2021-10-04T20:57:07.466Z"
   },
   {
    "duration": 15,
    "start_time": "2021-10-04T20:57:07.475Z"
   },
   {
    "duration": 22,
    "start_time": "2021-10-04T20:57:07.493Z"
   },
   {
    "duration": 53,
    "start_time": "2021-10-04T20:57:07.518Z"
   },
   {
    "duration": 14,
    "start_time": "2021-10-04T20:57:07.574Z"
   },
   {
    "duration": 10,
    "start_time": "2021-10-04T20:57:07.591Z"
   },
   {
    "duration": 62,
    "start_time": "2021-10-04T20:57:07.604Z"
   },
   {
    "duration": 26,
    "start_time": "2021-10-04T20:57:07.670Z"
   },
   {
    "duration": 20,
    "start_time": "2021-10-04T20:57:07.698Z"
   },
   {
    "duration": 74,
    "start_time": "2021-10-04T20:57:07.721Z"
   },
   {
    "duration": 11,
    "start_time": "2021-10-04T20:57:07.797Z"
   },
   {
    "duration": 8,
    "start_time": "2021-10-04T20:57:07.811Z"
   },
   {
    "duration": 483,
    "start_time": "2021-10-04T20:57:07.827Z"
   },
   {
    "duration": 8,
    "start_time": "2021-10-04T20:57:08.313Z"
   },
   {
    "duration": 8019,
    "start_time": "2021-10-04T20:57:08.324Z"
   },
   {
    "duration": 25,
    "start_time": "2021-10-04T20:57:16.345Z"
   },
   {
    "duration": 3298,
    "start_time": "2021-10-04T20:57:16.372Z"
   },
   {
    "duration": 32,
    "start_time": "2021-10-04T20:57:19.672Z"
   },
   {
    "duration": 7839,
    "start_time": "2021-10-04T20:57:19.710Z"
   },
   {
    "duration": 3118,
    "start_time": "2021-10-04T20:57:27.552Z"
   },
   {
    "duration": 16,
    "start_time": "2021-10-04T20:57:30.672Z"
   },
   {
    "duration": 7,
    "start_time": "2021-10-04T20:57:30.690Z"
   },
   {
    "duration": 9,
    "start_time": "2021-10-04T20:57:30.699Z"
   },
   {
    "duration": 9,
    "start_time": "2021-10-04T20:57:30.710Z"
   },
   {
    "duration": 56,
    "start_time": "2021-10-04T20:57:30.721Z"
   },
   {
    "duration": 8,
    "start_time": "2021-10-04T20:57:30.780Z"
   },
   {
    "duration": 18,
    "start_time": "2021-10-04T20:57:30.790Z"
   },
   {
    "duration": 14,
    "start_time": "2021-10-04T20:57:30.810Z"
   },
   {
    "duration": 58,
    "start_time": "2021-10-04T20:57:30.827Z"
   },
   {
    "duration": 745,
    "start_time": "2021-10-04T20:57:30.888Z"
   },
   {
    "duration": -795,
    "start_time": "2021-10-04T20:57:32.430Z"
   },
   {
    "duration": 352,
    "start_time": "2021-10-05T11:42:03.830Z"
   },
   {
    "duration": 1565,
    "start_time": "2021-10-05T11:42:11.995Z"
   },
   {
    "duration": 818,
    "start_time": "2021-10-05T11:42:13.563Z"
   },
   {
    "duration": 55,
    "start_time": "2021-10-05T11:42:14.384Z"
   },
   {
    "duration": 56,
    "start_time": "2021-10-05T11:42:14.441Z"
   },
   {
    "duration": 76,
    "start_time": "2021-10-05T11:42:14.500Z"
   },
   {
    "duration": 4,
    "start_time": "2021-10-05T11:42:14.578Z"
   },
   {
    "duration": 697,
    "start_time": "2021-10-05T11:42:14.584Z"
   },
   {
    "duration": 5,
    "start_time": "2021-10-05T11:42:15.285Z"
   },
   {
    "duration": 18,
    "start_time": "2021-10-05T11:42:15.293Z"
   },
   {
    "duration": 43,
    "start_time": "2021-10-05T11:42:15.314Z"
   },
   {
    "duration": 20,
    "start_time": "2021-10-05T11:42:15.360Z"
   },
   {
    "duration": 12,
    "start_time": "2021-10-05T11:42:15.383Z"
   },
   {
    "duration": 10,
    "start_time": "2021-10-05T11:42:15.397Z"
   },
   {
    "duration": 67,
    "start_time": "2021-10-05T11:42:15.409Z"
   },
   {
    "duration": 26,
    "start_time": "2021-10-05T11:42:15.478Z"
   },
   {
    "duration": 19,
    "start_time": "2021-10-05T11:42:15.506Z"
   },
   {
    "duration": 73,
    "start_time": "2021-10-05T11:42:15.527Z"
   },
   {
    "duration": 10,
    "start_time": "2021-10-05T11:42:15.603Z"
   },
   {
    "duration": 17,
    "start_time": "2021-10-05T11:42:15.615Z"
   },
   {
    "duration": 411,
    "start_time": "2021-10-05T11:42:15.657Z"
   },
   {
    "duration": 6,
    "start_time": "2021-10-05T11:42:16.071Z"
   },
   {
    "duration": 7982,
    "start_time": "2021-10-05T11:42:16.079Z"
   },
   {
    "duration": 11,
    "start_time": "2021-10-05T11:42:24.066Z"
   },
   {
    "duration": 2984,
    "start_time": "2021-10-05T11:42:24.080Z"
   },
   {
    "duration": 30,
    "start_time": "2021-10-05T11:42:27.066Z"
   },
   {
    "duration": 7690,
    "start_time": "2021-10-05T11:42:27.098Z"
   },
   {
    "duration": 3255,
    "start_time": "2021-10-05T11:42:34.791Z"
   },
   {
    "duration": 17,
    "start_time": "2021-10-05T11:42:38.048Z"
   },
   {
    "duration": 8,
    "start_time": "2021-10-05T11:42:38.067Z"
   },
   {
    "duration": 9,
    "start_time": "2021-10-05T11:42:38.077Z"
   },
   {
    "duration": 11,
    "start_time": "2021-10-05T11:42:38.088Z"
   },
   {
    "duration": 16,
    "start_time": "2021-10-05T11:42:38.102Z"
   },
   {
    "duration": 36,
    "start_time": "2021-10-05T11:42:38.121Z"
   },
   {
    "duration": 4,
    "start_time": "2021-10-05T11:42:38.160Z"
   },
   {
    "duration": 5,
    "start_time": "2021-10-05T11:42:38.167Z"
   },
   {
    "duration": 45,
    "start_time": "2021-10-05T11:42:38.175Z"
   },
   {
    "duration": 673,
    "start_time": "2021-10-05T11:42:38.223Z"
   },
   {
    "duration": 337,
    "start_time": "2021-10-05T11:42:38.562Z"
   },
   {
    "duration": 4,
    "start_time": "2021-10-05T11:44:45.954Z"
   },
   {
    "duration": 16,
    "start_time": "2021-10-05T11:44:51.483Z"
   },
   {
    "duration": 4,
    "start_time": "2021-10-05T11:44:53.115Z"
   },
   {
    "duration": 4,
    "start_time": "2021-10-05T11:44:54.291Z"
   },
   {
    "duration": 4,
    "start_time": "2021-10-05T11:44:55.315Z"
   },
   {
    "duration": 37,
    "start_time": "2021-10-05T11:44:56.444Z"
   },
   {
    "duration": 1113,
    "start_time": "2021-10-05T11:45:04.820Z"
   },
   {
    "duration": 4,
    "start_time": "2021-10-05T11:45:26.244Z"
   },
   {
    "duration": 967,
    "start_time": "2021-10-05T11:45:27.317Z"
   },
   {
    "duration": 5,
    "start_time": "2021-10-05T12:21:24.443Z"
   },
   {
    "duration": 4,
    "start_time": "2021-10-05T12:21:39.635Z"
   },
   {
    "duration": 17,
    "start_time": "2021-10-05T12:21:42.411Z"
   },
   {
    "duration": 4,
    "start_time": "2021-10-05T12:21:44.155Z"
   },
   {
    "duration": 4,
    "start_time": "2021-10-05T12:21:46.587Z"
   },
   {
    "duration": 4,
    "start_time": "2021-10-05T12:21:49.012Z"
   },
   {
    "duration": 645,
    "start_time": "2021-10-05T12:21:50.277Z"
   },
   {
    "duration": 5,
    "start_time": "2021-10-05T12:22:21.285Z"
   },
   {
    "duration": 538,
    "start_time": "2021-10-05T12:22:23.270Z"
   },
   {
    "duration": 5,
    "start_time": "2021-10-05T12:30:50.073Z"
   },
   {
    "duration": 533,
    "start_time": "2021-10-05T12:30:53.930Z"
   },
   {
    "duration": 21,
    "start_time": "2021-10-05T12:49:05.032Z"
   },
   {
    "duration": 24,
    "start_time": "2021-10-05T12:49:28.793Z"
   },
   {
    "duration": 4,
    "start_time": "2021-10-05T12:49:44.753Z"
   },
   {
    "duration": 184335,
    "start_time": "2021-10-05T12:49:46.842Z"
   },
   {
    "duration": 4,
    "start_time": "2021-10-05T13:43:54.804Z"
   },
   {
    "duration": 4,
    "start_time": "2021-10-05T13:44:09.268Z"
   },
   {
    "duration": 533,
    "start_time": "2021-10-05T13:44:11.684Z"
   },
   {
    "duration": 4,
    "start_time": "2021-10-05T13:45:01.136Z"
   },
   {
    "duration": 549,
    "start_time": "2021-10-05T13:45:05.216Z"
   },
   {
    "duration": 1244,
    "start_time": "2021-10-05T15:05:40.210Z"
   },
   {
    "duration": 695,
    "start_time": "2021-10-05T15:05:41.455Z"
   },
   {
    "duration": 36,
    "start_time": "2021-10-05T15:05:42.152Z"
   },
   {
    "duration": 29,
    "start_time": "2021-10-05T15:05:42.190Z"
   },
   {
    "duration": 59,
    "start_time": "2021-10-05T15:05:42.220Z"
   },
   {
    "duration": 3,
    "start_time": "2021-10-05T15:05:42.280Z"
   },
   {
    "duration": 415,
    "start_time": "2021-10-05T15:05:42.285Z"
   },
   {
    "duration": 4,
    "start_time": "2021-10-05T15:05:42.703Z"
   },
   {
    "duration": 9,
    "start_time": "2021-10-05T15:05:42.709Z"
   },
   {
    "duration": 31,
    "start_time": "2021-10-05T15:05:42.720Z"
   },
   {
    "duration": 18,
    "start_time": "2021-10-05T15:05:42.752Z"
   },
   {
    "duration": 9,
    "start_time": "2021-10-05T15:05:42.771Z"
   },
   {
    "duration": 7,
    "start_time": "2021-10-05T15:05:42.781Z"
   },
   {
    "duration": 17,
    "start_time": "2021-10-05T15:05:42.790Z"
   },
   {
    "duration": 58,
    "start_time": "2021-10-05T15:05:42.809Z"
   },
   {
    "duration": 15,
    "start_time": "2021-10-05T15:05:42.868Z"
   },
   {
    "duration": 25,
    "start_time": "2021-10-05T15:05:42.885Z"
   },
   {
    "duration": 37,
    "start_time": "2021-10-05T15:05:42.912Z"
   },
   {
    "duration": 9,
    "start_time": "2021-10-05T15:05:42.951Z"
   },
   {
    "duration": 277,
    "start_time": "2021-10-05T15:05:42.961Z"
   },
   {
    "duration": 9,
    "start_time": "2021-10-05T15:05:43.240Z"
   },
   {
    "duration": 4193,
    "start_time": "2021-10-05T15:05:43.251Z"
   },
   {
    "duration": 10,
    "start_time": "2021-10-05T15:05:47.447Z"
   },
   {
    "duration": 1836,
    "start_time": "2021-10-05T15:05:47.458Z"
   },
   {
    "duration": 26,
    "start_time": "2021-10-05T15:05:49.296Z"
   },
   {
    "duration": 4159,
    "start_time": "2021-10-05T15:05:49.324Z"
   },
   {
    "duration": 1871,
    "start_time": "2021-10-05T15:05:53.485Z"
   },
   {
    "duration": 11,
    "start_time": "2021-10-05T15:05:55.358Z"
   },
   {
    "duration": 16,
    "start_time": "2021-10-05T15:05:55.371Z"
   },
   {
    "duration": 13,
    "start_time": "2021-10-05T15:05:55.389Z"
   },
   {
    "duration": 20,
    "start_time": "2021-10-05T15:05:55.404Z"
   },
   {
    "duration": 29,
    "start_time": "2021-10-05T15:05:55.426Z"
   },
   {
    "duration": 15,
    "start_time": "2021-10-05T15:05:55.457Z"
   },
   {
    "duration": 8,
    "start_time": "2021-10-05T15:05:55.474Z"
   },
   {
    "duration": 6,
    "start_time": "2021-10-05T15:05:55.483Z"
   },
   {
    "duration": 103197,
    "start_time": "2021-10-05T15:05:55.490Z"
   },
   {
    "duration": 68,
    "start_time": "2021-10-05T15:07:38.689Z"
   },
   {
    "duration": 733,
    "start_time": "2021-10-05T15:07:38.026Z"
   },
   {
    "duration": 3,
    "start_time": "2021-10-05T15:07:46.421Z"
   },
   {
    "duration": 3,
    "start_time": "2021-10-05T15:07:54.845Z"
   },
   {
    "duration": 97981,
    "start_time": "2021-10-05T15:08:00.590Z"
   },
   {
    "duration": 18,
    "start_time": "2021-10-05T15:10:10.660Z"
   },
   {
    "duration": 1159,
    "start_time": "2021-10-05T15:11:25.259Z"
   },
   {
    "duration": 689,
    "start_time": "2021-10-05T15:11:26.420Z"
   },
   {
    "duration": 48,
    "start_time": "2021-10-05T15:11:27.113Z"
   },
   {
    "duration": 26,
    "start_time": "2021-10-05T15:11:27.162Z"
   },
   {
    "duration": 33,
    "start_time": "2021-10-05T15:11:27.190Z"
   },
   {
    "duration": 3,
    "start_time": "2021-10-05T15:11:27.249Z"
   },
   {
    "duration": 426,
    "start_time": "2021-10-05T15:11:27.255Z"
   },
   {
    "duration": 3,
    "start_time": "2021-10-05T15:11:27.683Z"
   },
   {
    "duration": 23,
    "start_time": "2021-10-05T15:11:27.688Z"
   },
   {
    "duration": 21,
    "start_time": "2021-10-05T15:11:27.713Z"
   },
   {
    "duration": 22,
    "start_time": "2021-10-05T15:11:27.735Z"
   },
   {
    "duration": 8,
    "start_time": "2021-10-05T15:11:27.758Z"
   },
   {
    "duration": 9,
    "start_time": "2021-10-05T15:11:27.768Z"
   },
   {
    "duration": 20,
    "start_time": "2021-10-05T15:11:27.779Z"
   },
   {
    "duration": 22,
    "start_time": "2021-10-05T15:11:27.800Z"
   },
   {
    "duration": 36,
    "start_time": "2021-10-05T15:11:27.824Z"
   },
   {
    "duration": 24,
    "start_time": "2021-10-05T15:11:27.862Z"
   },
   {
    "duration": 6,
    "start_time": "2021-10-05T15:11:27.888Z"
   },
   {
    "duration": 8,
    "start_time": "2021-10-05T15:11:27.895Z"
   },
   {
    "duration": 280,
    "start_time": "2021-10-05T15:11:27.904Z"
   },
   {
    "duration": 5,
    "start_time": "2021-10-05T15:11:28.185Z"
   },
   {
    "duration": 4386,
    "start_time": "2021-10-05T15:11:28.193Z"
   },
   {
    "duration": 8,
    "start_time": "2021-10-05T15:11:32.581Z"
   },
   {
    "duration": 1760,
    "start_time": "2021-10-05T15:11:32.591Z"
   },
   {
    "duration": 24,
    "start_time": "2021-10-05T15:11:34.353Z"
   },
   {
    "duration": 4377,
    "start_time": "2021-10-05T15:11:34.379Z"
   },
   {
    "duration": 2015,
    "start_time": "2021-10-05T15:11:38.758Z"
   },
   {
    "duration": 10,
    "start_time": "2021-10-05T15:11:40.775Z"
   },
   {
    "duration": 9,
    "start_time": "2021-10-05T15:11:40.787Z"
   },
   {
    "duration": 9,
    "start_time": "2021-10-05T15:11:40.798Z"
   },
   {
    "duration": 6,
    "start_time": "2021-10-05T15:11:40.808Z"
   },
   {
    "duration": 36,
    "start_time": "2021-10-05T15:11:40.815Z"
   },
   {
    "duration": 3,
    "start_time": "2021-10-05T15:11:40.853Z"
   },
   {
    "duration": 13,
    "start_time": "2021-10-05T15:11:40.857Z"
   },
   {
    "duration": 6,
    "start_time": "2021-10-05T15:11:40.872Z"
   },
   {
    "duration": 144407,
    "start_time": "2021-10-05T15:11:40.879Z"
   },
   {
    "duration": 2667,
    "start_time": "2021-10-05T15:14:05.288Z"
   },
   {
    "duration": 7,
    "start_time": "2021-10-05T15:26:51.614Z"
   },
   {
    "duration": 3,
    "start_time": "2021-10-05T15:29:26.254Z"
   },
   {
    "duration": 5,
    "start_time": "2021-10-05T15:30:11.208Z"
   },
   {
    "duration": 16,
    "start_time": "2021-10-05T15:38:36.019Z"
   },
   {
    "duration": 6,
    "start_time": "2021-10-05T15:39:10.645Z"
   },
   {
    "duration": 4,
    "start_time": "2021-10-05T15:39:30.886Z"
   },
   {
    "duration": 284,
    "start_time": "2021-10-05T15:41:25.759Z"
   },
   {
    "duration": 250,
    "start_time": "2021-10-05T15:41:39.181Z"
   },
   {
    "duration": 198,
    "start_time": "2021-10-05T15:41:50.814Z"
   },
   {
    "duration": 5,
    "start_time": "2021-10-05T15:41:57.006Z"
   },
   {
    "duration": 5,
    "start_time": "2021-10-05T15:42:05.751Z"
   },
   {
    "duration": 5,
    "start_time": "2021-10-05T15:42:15.278Z"
   },
   {
    "duration": 4,
    "start_time": "2021-10-05T15:42:24.864Z"
   },
   {
    "duration": 3,
    "start_time": "2021-10-05T15:43:27.795Z"
   },
   {
    "duration": 3,
    "start_time": "2021-10-05T15:43:33.299Z"
   },
   {
    "duration": 2,
    "start_time": "2021-10-05T15:43:53.028Z"
   },
   {
    "duration": 3,
    "start_time": "2021-10-05T15:43:54.804Z"
   },
   {
    "duration": 3,
    "start_time": "2021-10-05T15:43:55.716Z"
   },
   {
    "duration": 3,
    "start_time": "2021-10-05T15:43:57.460Z"
   },
   {
    "duration": 224152,
    "start_time": "2021-10-05T15:44:18.838Z"
   },
   {
    "duration": 2428,
    "start_time": "2021-10-05T15:48:02.993Z"
   },
   {
    "duration": 7,
    "start_time": "2021-10-05T15:48:05.423Z"
   },
   {
    "duration": 14,
    "start_time": "2021-10-05T15:48:05.432Z"
   },
   {
    "duration": 11,
    "start_time": "2021-10-05T15:48:05.447Z"
   },
   {
    "duration": 14,
    "start_time": "2021-10-05T16:33:19.337Z"
   },
   {
    "duration": 4,
    "start_time": "2021-10-05T16:33:32.608Z"
   },
   {
    "duration": 299,
    "start_time": "2021-10-05T16:33:43.721Z"
   },
   {
    "duration": 12,
    "start_time": "2021-10-05T16:34:35.227Z"
   },
   {
    "duration": 4,
    "start_time": "2021-10-05T16:34:37.980Z"
   },
   {
    "duration": 35,
    "start_time": "2021-10-05T16:34:39.836Z"
   },
   {
    "duration": 206,
    "start_time": "2021-10-05T16:34:55.325Z"
   },
   {
    "duration": 9,
    "start_time": "2021-10-05T16:40:38.622Z"
   },
   {
    "duration": 10,
    "start_time": "2021-10-05T16:40:53.511Z"
   },
   {
    "duration": 4,
    "start_time": "2021-10-05T16:40:55.832Z"
   },
   {
    "duration": 20,
    "start_time": "2021-10-05T16:40:59.360Z"
   },
   {
    "duration": 6,
    "start_time": "2021-10-05T16:41:01.568Z"
   },
   {
    "duration": 1237,
    "start_time": "2021-10-05T23:18:16.999Z"
   },
   {
    "duration": 896,
    "start_time": "2021-10-05T23:18:18.238Z"
   },
   {
    "duration": 58,
    "start_time": "2021-10-05T23:18:19.137Z"
   },
   {
    "duration": 28,
    "start_time": "2021-10-05T23:18:19.197Z"
   },
   {
    "duration": 54,
    "start_time": "2021-10-05T23:18:19.226Z"
   },
   {
    "duration": 3,
    "start_time": "2021-10-05T23:18:19.282Z"
   },
   {
    "duration": 451,
    "start_time": "2021-10-05T23:18:19.287Z"
   },
   {
    "duration": 8,
    "start_time": "2021-10-05T23:18:19.742Z"
   },
   {
    "duration": 11,
    "start_time": "2021-10-05T23:18:19.753Z"
   },
   {
    "duration": 15,
    "start_time": "2021-10-05T23:18:19.766Z"
   },
   {
    "duration": 16,
    "start_time": "2021-10-05T23:18:19.782Z"
   },
   {
    "duration": 9,
    "start_time": "2021-10-05T23:18:19.800Z"
   },
   {
    "duration": 45,
    "start_time": "2021-10-05T23:18:19.810Z"
   },
   {
    "duration": 18,
    "start_time": "2021-10-05T23:18:19.856Z"
   },
   {
    "duration": 21,
    "start_time": "2021-10-05T23:18:19.875Z"
   },
   {
    "duration": 51,
    "start_time": "2021-10-05T23:18:19.898Z"
   },
   {
    "duration": 27,
    "start_time": "2021-10-05T23:18:19.951Z"
   },
   {
    "duration": 8,
    "start_time": "2021-10-05T23:18:19.979Z"
   },
   {
    "duration": 9,
    "start_time": "2021-10-05T23:18:19.988Z"
   },
   {
    "duration": 288,
    "start_time": "2021-10-05T23:18:19.999Z"
   },
   {
    "duration": 4,
    "start_time": "2021-10-05T23:18:20.289Z"
   },
   {
    "duration": 4294,
    "start_time": "2021-10-05T23:18:20.295Z"
   },
   {
    "duration": 9,
    "start_time": "2021-10-05T23:18:24.592Z"
   },
   {
    "duration": 1854,
    "start_time": "2021-10-05T23:18:24.603Z"
   },
   {
    "duration": 27,
    "start_time": "2021-10-05T23:18:26.459Z"
   },
   {
    "duration": 4503,
    "start_time": "2021-10-05T23:18:26.487Z"
   },
   {
    "duration": 1800,
    "start_time": "2021-10-05T23:18:30.992Z"
   },
   {
    "duration": 11,
    "start_time": "2021-10-05T23:18:32.794Z"
   },
   {
    "duration": 50,
    "start_time": "2021-10-05T23:18:32.806Z"
   },
   {
    "duration": 9,
    "start_time": "2021-10-05T23:18:32.858Z"
   },
   {
    "duration": 9,
    "start_time": "2021-10-05T23:18:32.868Z"
   },
   {
    "duration": 285,
    "start_time": "2021-10-05T23:18:32.878Z"
   },
   {
    "duration": 937,
    "start_time": "2021-10-05T23:18:32.228Z"
   },
   {
    "duration": 936,
    "start_time": "2021-10-05T23:18:32.230Z"
   },
   {
    "duration": 929,
    "start_time": "2021-10-05T23:18:32.238Z"
   },
   {
    "duration": 929,
    "start_time": "2021-10-05T23:18:32.239Z"
   },
   {
    "duration": 927,
    "start_time": "2021-10-05T23:18:32.242Z"
   },
   {
    "duration": 927,
    "start_time": "2021-10-05T23:18:32.243Z"
   },
   {
    "duration": 925,
    "start_time": "2021-10-05T23:18:32.245Z"
   },
   {
    "duration": 925,
    "start_time": "2021-10-05T23:18:32.247Z"
   },
   {
    "duration": 923,
    "start_time": "2021-10-05T23:18:32.250Z"
   },
   {
    "duration": 921,
    "start_time": "2021-10-05T23:18:32.253Z"
   },
   {
    "duration": 919,
    "start_time": "2021-10-05T23:18:32.255Z"
   },
   {
    "duration": 919,
    "start_time": "2021-10-05T23:18:32.257Z"
   },
   {
    "duration": 918,
    "start_time": "2021-10-05T23:18:32.259Z"
   },
   {
    "duration": 917,
    "start_time": "2021-10-05T23:18:32.260Z"
   },
   {
    "duration": 916,
    "start_time": "2021-10-05T23:18:32.262Z"
   },
   {
    "duration": 915,
    "start_time": "2021-10-05T23:18:32.264Z"
   },
   {
    "duration": 464,
    "start_time": "2021-10-05T23:18:59.339Z"
   },
   {
    "duration": 17,
    "start_time": "2021-10-05T23:19:30.333Z"
   },
   {
    "duration": 18,
    "start_time": "2021-10-05T23:20:11.565Z"
   },
   {
    "duration": 18,
    "start_time": "2021-10-05T23:21:08.160Z"
   },
   {
    "duration": 4,
    "start_time": "2021-10-05T23:21:57.170Z"
   },
   {
    "duration": 9,
    "start_time": "2021-10-05T23:22:00.026Z"
   },
   {
    "duration": 9,
    "start_time": "2021-10-05T23:22:14.955Z"
   },
   {
    "duration": 4,
    "start_time": "2021-10-05T23:22:19.363Z"
   },
   {
    "duration": 21,
    "start_time": "2021-10-05T23:22:23.747Z"
   },
   {
    "duration": 6,
    "start_time": "2021-10-05T23:22:26.404Z"
   },
   {
    "duration": 3,
    "start_time": "2021-10-05T23:23:00.022Z"
   },
   {
    "duration": 142,
    "start_time": "2021-10-05T23:23:39.007Z"
   },
   {
    "duration": 4,
    "start_time": "2021-10-05T23:24:09.753Z"
   },
   {
    "duration": 22085,
    "start_time": "2021-10-05T23:24:18.266Z"
   },
   {
    "duration": 1473,
    "start_time": "2021-10-05T23:25:46.285Z"
   },
   {
    "duration": 74688,
    "start_time": "2021-10-05T23:26:11.920Z"
   },
   {
    "duration": 3,
    "start_time": "2021-10-05T23:28:44.846Z"
   },
   {
    "duration": 20,
    "start_time": "2021-10-05T23:28:57.896Z"
   },
   {
    "duration": 201,
    "start_time": "2021-10-05T23:32:45.796Z"
   },
   {
    "duration": 21,
    "start_time": "2021-10-05T23:33:00.605Z"
   },
   {
    "duration": 18,
    "start_time": "2021-10-05T23:33:08.125Z"
   },
   {
    "duration": 19,
    "start_time": "2021-10-05T23:33:40.758Z"
   },
   {
    "duration": 1127,
    "start_time": "2021-10-05T23:33:51.782Z"
   },
   {
    "duration": 737,
    "start_time": "2021-10-05T23:33:52.911Z"
   },
   {
    "duration": 33,
    "start_time": "2021-10-05T23:33:53.650Z"
   },
   {
    "duration": 25,
    "start_time": "2021-10-05T23:33:53.685Z"
   },
   {
    "duration": 53,
    "start_time": "2021-10-05T23:33:53.712Z"
   },
   {
    "duration": 4,
    "start_time": "2021-10-05T23:33:53.767Z"
   },
   {
    "duration": 436,
    "start_time": "2021-10-05T23:33:53.772Z"
   },
   {
    "duration": 4,
    "start_time": "2021-10-05T23:33:54.210Z"
   },
   {
    "duration": 11,
    "start_time": "2021-10-05T23:33:54.216Z"
   },
   {
    "duration": 30,
    "start_time": "2021-10-05T23:33:54.229Z"
   },
   {
    "duration": 16,
    "start_time": "2021-10-05T23:33:54.261Z"
   },
   {
    "duration": 10,
    "start_time": "2021-10-05T23:33:54.278Z"
   },
   {
    "duration": 7,
    "start_time": "2021-10-05T23:33:54.290Z"
   },
   {
    "duration": 51,
    "start_time": "2021-10-05T23:33:54.299Z"
   },
   {
    "duration": 22,
    "start_time": "2021-10-05T23:33:54.352Z"
   },
   {
    "duration": 12,
    "start_time": "2021-10-05T23:33:54.376Z"
   },
   {
    "duration": 25,
    "start_time": "2021-10-05T23:33:54.390Z"
   },
   {
    "duration": 32,
    "start_time": "2021-10-05T23:33:54.417Z"
   },
   {
    "duration": 8,
    "start_time": "2021-10-05T23:33:54.451Z"
   },
   {
    "duration": 254,
    "start_time": "2021-10-05T23:33:54.461Z"
   },
   {
    "duration": 4,
    "start_time": "2021-10-05T23:33:54.717Z"
   },
   {
    "duration": 4124,
    "start_time": "2021-10-05T23:33:54.722Z"
   },
   {
    "duration": 9,
    "start_time": "2021-10-05T23:33:58.851Z"
   },
   {
    "duration": 1821,
    "start_time": "2021-10-05T23:33:58.862Z"
   },
   {
    "duration": 28,
    "start_time": "2021-10-05T23:34:00.685Z"
   },
   {
    "duration": 4115,
    "start_time": "2021-10-05T23:34:00.715Z"
   },
   {
    "duration": 1790,
    "start_time": "2021-10-05T23:34:04.832Z"
   },
   {
    "duration": 10,
    "start_time": "2021-10-05T23:34:06.624Z"
   },
   {
    "duration": 13,
    "start_time": "2021-10-05T23:34:06.635Z"
   },
   {
    "duration": 8,
    "start_time": "2021-10-05T23:34:06.650Z"
   },
   {
    "duration": 10,
    "start_time": "2021-10-05T23:34:06.659Z"
   },
   {
    "duration": 4,
    "start_time": "2021-10-05T23:34:06.671Z"
   },
   {
    "duration": 19,
    "start_time": "2021-10-05T23:34:06.676Z"
   },
   {
    "duration": 5,
    "start_time": "2021-10-05T23:34:06.697Z"
   },
   {
    "duration": 7,
    "start_time": "2021-10-05T23:34:06.703Z"
   },
   {
    "duration": 21578,
    "start_time": "2021-10-05T23:34:06.711Z"
   },
   {
    "duration": 1263,
    "start_time": "2021-10-05T23:34:28.291Z"
   },
   {
    "duration": 73419,
    "start_time": "2021-10-05T23:34:29.558Z"
   },
   {
    "duration": 3,
    "start_time": "2021-10-05T23:35:42.978Z"
   },
   {
    "duration": 28,
    "start_time": "2021-10-05T23:35:42.982Z"
   },
   {
    "duration": 18,
    "start_time": "2021-10-05T23:35:43.011Z"
   },
   {
    "duration": 31,
    "start_time": "2021-10-05T23:35:43.031Z"
   },
   {
    "duration": 1167,
    "start_time": "2021-10-05T23:37:52.659Z"
   },
   {
    "duration": 740,
    "start_time": "2021-10-05T23:37:53.828Z"
   },
   {
    "duration": 33,
    "start_time": "2021-10-05T23:37:54.570Z"
   },
   {
    "duration": 45,
    "start_time": "2021-10-05T23:37:54.604Z"
   },
   {
    "duration": 32,
    "start_time": "2021-10-05T23:37:54.651Z"
   },
   {
    "duration": 2,
    "start_time": "2021-10-05T23:37:54.685Z"
   },
   {
    "duration": 429,
    "start_time": "2021-10-05T23:37:54.689Z"
   },
   {
    "duration": 4,
    "start_time": "2021-10-05T23:37:55.120Z"
   },
   {
    "duration": 8,
    "start_time": "2021-10-05T23:37:55.126Z"
   },
   {
    "duration": 15,
    "start_time": "2021-10-05T23:37:55.149Z"
   },
   {
    "duration": 17,
    "start_time": "2021-10-05T23:37:55.165Z"
   },
   {
    "duration": 8,
    "start_time": "2021-10-05T23:37:55.184Z"
   },
   {
    "duration": 7,
    "start_time": "2021-10-05T23:37:55.194Z"
   },
   {
    "duration": 53,
    "start_time": "2021-10-05T23:37:55.203Z"
   },
   {
    "duration": 23,
    "start_time": "2021-10-05T23:37:55.258Z"
   },
   {
    "duration": 14,
    "start_time": "2021-10-05T23:37:55.283Z"
   },
   {
    "duration": 51,
    "start_time": "2021-10-05T23:37:55.299Z"
   },
   {
    "duration": 10,
    "start_time": "2021-10-05T23:37:55.352Z"
   },
   {
    "duration": 9,
    "start_time": "2021-10-05T23:37:55.364Z"
   },
   {
    "duration": 275,
    "start_time": "2021-10-05T23:37:55.374Z"
   },
   {
    "duration": 5,
    "start_time": "2021-10-05T23:37:55.651Z"
   },
   {
    "duration": 4247,
    "start_time": "2021-10-05T23:37:55.658Z"
   },
   {
    "duration": 9,
    "start_time": "2021-10-05T23:37:59.908Z"
   },
   {
    "duration": 1797,
    "start_time": "2021-10-05T23:37:59.919Z"
   },
   {
    "duration": 41,
    "start_time": "2021-10-05T23:38:01.717Z"
   },
   {
    "duration": 4120,
    "start_time": "2021-10-05T23:38:01.760Z"
   },
   {
    "duration": 1799,
    "start_time": "2021-10-05T23:38:05.882Z"
   },
   {
    "duration": 10,
    "start_time": "2021-10-05T23:38:07.682Z"
   },
   {
    "duration": 6,
    "start_time": "2021-10-05T23:38:07.693Z"
   },
   {
    "duration": 12,
    "start_time": "2021-10-05T23:38:07.700Z"
   },
   {
    "duration": 12,
    "start_time": "2021-10-05T23:38:07.713Z"
   },
   {
    "duration": 23,
    "start_time": "2021-10-05T23:38:07.727Z"
   },
   {
    "duration": 21,
    "start_time": "2021-10-05T23:38:07.752Z"
   },
   {
    "duration": 5,
    "start_time": "2021-10-05T23:38:07.775Z"
   },
   {
    "duration": 4,
    "start_time": "2021-10-05T23:38:07.782Z"
   },
   {
    "duration": 21272,
    "start_time": "2021-10-05T23:38:07.787Z"
   },
   {
    "duration": 1493,
    "start_time": "2021-10-05T23:38:29.061Z"
   },
   {
    "duration": 73213,
    "start_time": "2021-10-05T23:38:30.557Z"
   },
   {
    "duration": 2,
    "start_time": "2021-10-05T23:39:43.772Z"
   },
   {
    "duration": 24,
    "start_time": "2021-10-05T23:39:43.776Z"
   },
   {
    "duration": 295,
    "start_time": "2021-10-05T23:39:43.802Z"
   },
   {
    "duration": 938,
    "start_time": "2021-10-05T23:39:43.160Z"
   },
   {
    "duration": 40,
    "start_time": "2021-10-05T23:42:20.918Z"
   },
   {
    "duration": 9,
    "start_time": "2021-10-05T23:42:26.622Z"
   },
   {
    "duration": 15,
    "start_time": "2021-10-05T23:47:01.997Z"
   },
   {
    "duration": 751,
    "start_time": "2021-10-05T23:47:24.894Z"
   },
   {
    "duration": 19,
    "start_time": "2021-10-05T23:47:37.174Z"
   },
   {
    "duration": 209,
    "start_time": "2021-10-05T23:48:29.177Z"
   },
   {
    "duration": 25,
    "start_time": "2021-10-05T23:48:39.074Z"
   },
   {
    "duration": 17,
    "start_time": "2021-10-05T23:49:19.340Z"
   },
   {
    "duration": 14,
    "start_time": "2021-10-05T23:49:37.501Z"
   },
   {
    "duration": 4,
    "start_time": "2021-10-05T23:49:48.773Z"
   },
   {
    "duration": 6,
    "start_time": "2021-10-05T23:50:20.103Z"
   },
   {
    "duration": 10,
    "start_time": "2021-10-05T23:51:09.386Z"
   },
   {
    "duration": 5,
    "start_time": "2021-10-05T23:51:10.769Z"
   },
   {
    "duration": 8,
    "start_time": "2021-10-05T23:51:49.196Z"
   },
   {
    "duration": 4,
    "start_time": "2021-10-05T23:52:06.148Z"
   },
   {
    "duration": 16,
    "start_time": "2021-10-05T23:52:33.086Z"
   },
   {
    "duration": 6,
    "start_time": "2021-10-05T23:52:34.798Z"
   },
   {
    "duration": 3,
    "start_time": "2021-10-05T23:52:36.582Z"
   },
   {
    "duration": 19379,
    "start_time": "2021-10-05T23:52:37.702Z"
   },
   {
    "duration": 8,
    "start_time": "2021-10-05T23:53:35.770Z"
   },
   {
    "duration": 912,
    "start_time": "2021-10-05T23:53:55.139Z"
   },
   {
    "duration": 215,
    "start_time": "2021-10-05T23:54:02.435Z"
   },
   {
    "duration": 67084,
    "start_time": "2021-10-05T23:54:08.331Z"
   },
   {
    "duration": 3,
    "start_time": "2021-10-05T23:56:18.594Z"
   },
   {
    "duration": 19,
    "start_time": "2021-10-05T23:56:19.906Z"
   },
   {
    "duration": 166,
    "start_time": "2021-10-05T23:56:22.883Z"
   },
   {
    "duration": 740,
    "start_time": "2021-10-05T23:59:24.853Z"
   },
   {
    "duration": 19,
    "start_time": "2021-10-05T23:59:46.125Z"
   },
   {
    "duration": 25,
    "start_time": "2021-10-05T23:59:46.758Z"
   },
   {
    "duration": 15,
    "start_time": "2021-10-05T23:59:48.326Z"
   },
   {
    "duration": 12,
    "start_time": "2021-10-05T23:59:49.174Z"
   },
   {
    "duration": 5,
    "start_time": "2021-10-05T23:59:50.182Z"
   },
   {
    "duration": 9,
    "start_time": "2021-10-05T23:59:51.253Z"
   },
   {
    "duration": 5,
    "start_time": "2021-10-05T23:59:52.309Z"
   },
   {
    "duration": 9,
    "start_time": "2021-10-05T23:59:55.294Z"
   },
   {
    "duration": 4,
    "start_time": "2021-10-05T23:59:55.910Z"
   },
   {
    "duration": 4,
    "start_time": "2021-10-05T23:59:59.454Z"
   },
   {
    "duration": 8,
    "start_time": "2021-10-06T00:00:01.255Z"
   },
   {
    "duration": 205,
    "start_time": "2021-10-06T00:00:11.527Z"
   },
   {
    "duration": 748,
    "start_time": "2021-10-06T00:00:36.568Z"
   },
   {
    "duration": 17,
    "start_time": "2021-10-06T00:00:46.360Z"
   },
   {
    "duration": 25,
    "start_time": "2021-10-06T00:00:46.785Z"
   },
   {
    "duration": 16,
    "start_time": "2021-10-06T00:00:47.241Z"
   },
   {
    "duration": 15,
    "start_time": "2021-10-06T00:00:47.657Z"
   },
   {
    "duration": 5,
    "start_time": "2021-10-06T00:00:48.073Z"
   },
   {
    "duration": 9,
    "start_time": "2021-10-06T00:00:48.649Z"
   },
   {
    "duration": 5,
    "start_time": "2021-10-06T00:00:49.297Z"
   },
   {
    "duration": 4,
    "start_time": "2021-10-06T00:00:52.353Z"
   },
   {
    "duration": 8,
    "start_time": "2021-10-06T00:00:52.878Z"
   },
   {
    "duration": 213,
    "start_time": "2021-10-06T00:00:53.665Z"
   },
   {
    "duration": 24,
    "start_time": "2021-10-06T00:01:45.227Z"
   },
   {
    "duration": 742,
    "start_time": "2021-10-06T00:02:32.326Z"
   },
   {
    "duration": 18,
    "start_time": "2021-10-06T00:02:42.343Z"
   },
   {
    "duration": 25,
    "start_time": "2021-10-06T00:02:42.783Z"
   },
   {
    "duration": 16,
    "start_time": "2021-10-06T00:02:43.263Z"
   },
   {
    "duration": 13,
    "start_time": "2021-10-06T00:02:43.743Z"
   },
   {
    "duration": 5,
    "start_time": "2021-10-06T00:02:44.256Z"
   },
   {
    "duration": 9,
    "start_time": "2021-10-06T00:02:45.055Z"
   },
   {
    "duration": 5,
    "start_time": "2021-10-06T00:02:45.671Z"
   },
   {
    "duration": 4,
    "start_time": "2021-10-06T00:02:48.807Z"
   },
   {
    "duration": 8,
    "start_time": "2021-10-06T00:02:49.503Z"
   },
   {
    "duration": 25,
    "start_time": "2021-10-06T00:02:51.160Z"
   },
   {
    "duration": 214,
    "start_time": "2021-10-06T00:02:54.473Z"
   },
   {
    "duration": 10,
    "start_time": "2021-10-06T00:03:12.993Z"
   },
   {
    "duration": 4,
    "start_time": "2021-10-06T00:03:19.513Z"
   },
   {
    "duration": 15,
    "start_time": "2021-10-06T00:03:21.481Z"
   },
   {
    "duration": 6,
    "start_time": "2021-10-06T00:03:22.441Z"
   },
   {
    "duration": 2,
    "start_time": "2021-10-06T00:03:23.129Z"
   },
   {
    "duration": 20239,
    "start_time": "2021-10-06T00:03:30.202Z"
   },
   {
    "duration": 1305,
    "start_time": "2021-10-06T00:03:50.449Z"
   },
   {
    "duration": 70193,
    "start_time": "2021-10-06T00:03:51.757Z"
   },
   {
    "duration": 2,
    "start_time": "2021-10-06T00:05:01.952Z"
   },
   {
    "duration": 29,
    "start_time": "2021-10-06T00:05:01.956Z"
   },
   {
    "duration": 264,
    "start_time": "2021-10-06T00:05:01.987Z"
   },
   {
    "duration": 7,
    "start_time": "2021-10-06T00:05:02.253Z"
   },
   {
    "duration": 20420,
    "start_time": "2021-10-06T00:05:47.545Z"
   },
   {
    "duration": 1590,
    "start_time": "2021-10-06T00:06:07.967Z"
   },
   {
    "duration": 68390,
    "start_time": "2021-10-06T00:06:09.560Z"
   },
   {
    "duration": 2,
    "start_time": "2021-10-06T00:07:17.952Z"
   },
   {
    "duration": 22,
    "start_time": "2021-10-06T00:07:17.956Z"
   },
   {
    "duration": 271,
    "start_time": "2021-10-06T00:07:17.980Z"
   },
   {
    "duration": 12,
    "start_time": "2021-10-06T00:07:18.254Z"
   },
   {
    "duration": 1189,
    "start_time": "2021-10-06T00:09:04.626Z"
   },
   {
    "duration": 743,
    "start_time": "2021-10-06T00:09:05.817Z"
   },
   {
    "duration": 32,
    "start_time": "2021-10-06T00:09:06.564Z"
   },
   {
    "duration": 25,
    "start_time": "2021-10-06T00:09:06.598Z"
   },
   {
    "duration": 34,
    "start_time": "2021-10-06T00:09:06.650Z"
   },
   {
    "duration": 16,
    "start_time": "2021-10-06T00:09:06.685Z"
   },
   {
    "duration": 428,
    "start_time": "2021-10-06T00:09:06.704Z"
   },
   {
    "duration": 4,
    "start_time": "2021-10-06T00:09:07.134Z"
   },
   {
    "duration": 20,
    "start_time": "2021-10-06T00:09:07.139Z"
   },
   {
    "duration": 41,
    "start_time": "2021-10-06T00:09:07.160Z"
   },
   {
    "duration": 26,
    "start_time": "2021-10-06T00:09:07.202Z"
   },
   {
    "duration": 26,
    "start_time": "2021-10-06T00:09:07.230Z"
   },
   {
    "duration": 32,
    "start_time": "2021-10-06T00:09:07.258Z"
   },
   {
    "duration": 39,
    "start_time": "2021-10-06T00:09:07.292Z"
   },
   {
    "duration": 35,
    "start_time": "2021-10-06T00:09:07.333Z"
   },
   {
    "duration": 30,
    "start_time": "2021-10-06T00:09:07.369Z"
   },
   {
    "duration": 71,
    "start_time": "2021-10-06T00:09:07.401Z"
   },
   {
    "duration": 15,
    "start_time": "2021-10-06T00:09:07.474Z"
   },
   {
    "duration": 32,
    "start_time": "2021-10-06T00:09:07.491Z"
   },
   {
    "duration": 248,
    "start_time": "2021-10-06T00:09:07.524Z"
   },
   {
    "duration": 4,
    "start_time": "2021-10-06T00:09:07.774Z"
   },
   {
    "duration": 4167,
    "start_time": "2021-10-06T00:09:07.782Z"
   },
   {
    "duration": 9,
    "start_time": "2021-10-06T00:09:11.951Z"
   },
   {
    "duration": 1781,
    "start_time": "2021-10-06T00:09:11.961Z"
   },
   {
    "duration": 28,
    "start_time": "2021-10-06T00:09:13.744Z"
   },
   {
    "duration": 4036,
    "start_time": "2021-10-06T00:09:13.774Z"
   },
   {
    "duration": 1761,
    "start_time": "2021-10-06T00:09:17.812Z"
   },
   {
    "duration": 10,
    "start_time": "2021-10-06T00:09:19.575Z"
   },
   {
    "duration": 19,
    "start_time": "2021-10-06T00:09:19.586Z"
   },
   {
    "duration": 42,
    "start_time": "2021-10-06T00:09:19.607Z"
   },
   {
    "duration": 14,
    "start_time": "2021-10-06T00:09:19.651Z"
   },
   {
    "duration": 16,
    "start_time": "2021-10-06T00:09:19.667Z"
   },
   {
    "duration": 5,
    "start_time": "2021-10-06T00:09:19.684Z"
   },
   {
    "duration": 11,
    "start_time": "2021-10-06T00:09:19.690Z"
   },
   {
    "duration": 8,
    "start_time": "2021-10-06T00:09:19.703Z"
   },
   {
    "duration": 36,
    "start_time": "2021-10-06T00:09:19.713Z"
   },
   {
    "duration": 2106,
    "start_time": "2021-10-06T00:09:19.751Z"
   },
   {
    "duration": 947,
    "start_time": "2021-10-06T00:09:20.912Z"
   },
   {
    "duration": 946,
    "start_time": "2021-10-06T00:09:20.914Z"
   },
   {
    "duration": 945,
    "start_time": "2021-10-06T00:09:20.916Z"
   },
   {
    "duration": 945,
    "start_time": "2021-10-06T00:09:20.918Z"
   },
   {
    "duration": 944,
    "start_time": "2021-10-06T00:09:20.920Z"
   },
   {
    "duration": 942,
    "start_time": "2021-10-06T00:09:20.923Z"
   },
   {
    "duration": 940,
    "start_time": "2021-10-06T00:09:20.926Z"
   },
   {
    "duration": 939,
    "start_time": "2021-10-06T00:09:20.928Z"
   },
   {
    "duration": 939,
    "start_time": "2021-10-06T00:09:20.930Z"
   },
   {
    "duration": 937,
    "start_time": "2021-10-06T00:09:20.933Z"
   },
   {
    "duration": 936,
    "start_time": "2021-10-06T00:09:20.935Z"
   },
   {
    "duration": 934,
    "start_time": "2021-10-06T00:09:20.938Z"
   },
   {
    "duration": 932,
    "start_time": "2021-10-06T00:09:20.941Z"
   },
   {
    "duration": 1125,
    "start_time": "2021-10-06T00:11:46.494Z"
   },
   {
    "duration": 741,
    "start_time": "2021-10-06T00:11:47.620Z"
   },
   {
    "duration": 37,
    "start_time": "2021-10-06T00:11:48.364Z"
   },
   {
    "duration": 48,
    "start_time": "2021-10-06T00:11:48.403Z"
   },
   {
    "duration": 34,
    "start_time": "2021-10-06T00:11:48.453Z"
   },
   {
    "duration": 3,
    "start_time": "2021-10-06T00:11:48.488Z"
   },
   {
    "duration": 457,
    "start_time": "2021-10-06T00:11:48.493Z"
   },
   {
    "duration": 4,
    "start_time": "2021-10-06T00:11:48.952Z"
   },
   {
    "duration": 8,
    "start_time": "2021-10-06T00:11:48.958Z"
   },
   {
    "duration": 15,
    "start_time": "2021-10-06T00:11:48.967Z"
   },
   {
    "duration": 18,
    "start_time": "2021-10-06T00:11:48.984Z"
   },
   {
    "duration": 9,
    "start_time": "2021-10-06T00:11:49.004Z"
   },
   {
    "duration": 8,
    "start_time": "2021-10-06T00:11:49.049Z"
   },
   {
    "duration": 18,
    "start_time": "2021-10-06T00:11:49.059Z"
   },
   {
    "duration": 23,
    "start_time": "2021-10-06T00:11:49.079Z"
   },
   {
    "duration": 45,
    "start_time": "2021-10-06T00:11:49.104Z"
   },
   {
    "duration": 26,
    "start_time": "2021-10-06T00:11:49.151Z"
   },
   {
    "duration": 7,
    "start_time": "2021-10-06T00:11:49.179Z"
   },
   {
    "duration": 7,
    "start_time": "2021-10-06T00:11:49.188Z"
   },
   {
    "duration": 270,
    "start_time": "2021-10-06T00:11:49.196Z"
   },
   {
    "duration": 5,
    "start_time": "2021-10-06T00:11:49.467Z"
   },
   {
    "duration": 4136,
    "start_time": "2021-10-06T00:11:49.473Z"
   },
   {
    "duration": 9,
    "start_time": "2021-10-06T00:11:53.612Z"
   },
   {
    "duration": 1784,
    "start_time": "2021-10-06T00:11:53.623Z"
   },
   {
    "duration": 26,
    "start_time": "2021-10-06T00:11:55.409Z"
   },
   {
    "duration": 4112,
    "start_time": "2021-10-06T00:11:55.437Z"
   },
   {
    "duration": 1800,
    "start_time": "2021-10-06T00:11:59.551Z"
   },
   {
    "duration": 12,
    "start_time": "2021-10-06T00:12:01.352Z"
   },
   {
    "duration": 26,
    "start_time": "2021-10-06T00:12:01.365Z"
   },
   {
    "duration": 42,
    "start_time": "2021-10-06T00:12:01.393Z"
   },
   {
    "duration": 20,
    "start_time": "2021-10-06T00:12:01.437Z"
   },
   {
    "duration": 22,
    "start_time": "2021-10-06T00:12:01.459Z"
   },
   {
    "duration": 19,
    "start_time": "2021-10-06T00:12:01.483Z"
   },
   {
    "duration": 29,
    "start_time": "2021-10-06T00:12:01.504Z"
   },
   {
    "duration": 26,
    "start_time": "2021-10-06T00:12:01.535Z"
   },
   {
    "duration": 25,
    "start_time": "2021-10-06T00:12:01.563Z"
   },
   {
    "duration": 45,
    "start_time": "2021-10-06T00:12:01.590Z"
   },
   {
    "duration": 298,
    "start_time": "2021-10-06T00:12:01.637Z"
   },
   {
    "duration": 938,
    "start_time": "2021-10-06T00:12:00.999Z"
   },
   {
    "duration": 936,
    "start_time": "2021-10-06T00:12:01.002Z"
   },
   {
    "duration": 935,
    "start_time": "2021-10-06T00:12:01.004Z"
   },
   {
    "duration": 934,
    "start_time": "2021-10-06T00:12:01.006Z"
   },
   {
    "duration": 933,
    "start_time": "2021-10-06T00:12:01.008Z"
   },
   {
    "duration": 932,
    "start_time": "2021-10-06T00:12:01.010Z"
   },
   {
    "duration": 929,
    "start_time": "2021-10-06T00:12:01.013Z"
   },
   {
    "duration": 929,
    "start_time": "2021-10-06T00:12:01.014Z"
   },
   {
    "duration": 927,
    "start_time": "2021-10-06T00:12:01.017Z"
   },
   {
    "duration": 925,
    "start_time": "2021-10-06T00:12:01.020Z"
   },
   {
    "duration": 924,
    "start_time": "2021-10-06T00:12:01.022Z"
   },
   {
    "duration": 206,
    "start_time": "2021-10-06T00:13:46.986Z"
   },
   {
    "duration": 24,
    "start_time": "2021-10-06T00:14:14.291Z"
   },
   {
    "duration": 1204,
    "start_time": "2021-10-06T00:15:03.614Z"
   },
   {
    "duration": 751,
    "start_time": "2021-10-06T00:15:04.821Z"
   },
   {
    "duration": 37,
    "start_time": "2021-10-06T00:15:05.574Z"
   },
   {
    "duration": 54,
    "start_time": "2021-10-06T00:15:05.613Z"
   },
   {
    "duration": 35,
    "start_time": "2021-10-06T00:15:05.669Z"
   },
   {
    "duration": 4,
    "start_time": "2021-10-06T00:15:05.706Z"
   },
   {
    "duration": 467,
    "start_time": "2021-10-06T00:15:05.712Z"
   },
   {
    "duration": 4,
    "start_time": "2021-10-06T00:15:06.183Z"
   },
   {
    "duration": 13,
    "start_time": "2021-10-06T00:15:06.189Z"
   },
   {
    "duration": 16,
    "start_time": "2021-10-06T00:15:06.203Z"
   },
   {
    "duration": 41,
    "start_time": "2021-10-06T00:15:06.221Z"
   },
   {
    "duration": 9,
    "start_time": "2021-10-06T00:15:06.264Z"
   },
   {
    "duration": 7,
    "start_time": "2021-10-06T00:15:06.275Z"
   },
   {
    "duration": 18,
    "start_time": "2021-10-06T00:15:06.284Z"
   },
   {
    "duration": 56,
    "start_time": "2021-10-06T00:15:06.304Z"
   },
   {
    "duration": 15,
    "start_time": "2021-10-06T00:15:06.361Z"
   },
   {
    "duration": 27,
    "start_time": "2021-10-06T00:15:06.378Z"
   },
   {
    "duration": 7,
    "start_time": "2021-10-06T00:15:06.407Z"
   },
   {
    "duration": 34,
    "start_time": "2021-10-06T00:15:06.416Z"
   },
   {
    "duration": 252,
    "start_time": "2021-10-06T00:15:06.452Z"
   },
   {
    "duration": 5,
    "start_time": "2021-10-06T00:15:06.706Z"
   },
   {
    "duration": 4216,
    "start_time": "2021-10-06T00:15:06.712Z"
   },
   {
    "duration": 10,
    "start_time": "2021-10-06T00:15:10.931Z"
   },
   {
    "duration": 1739,
    "start_time": "2021-10-06T00:15:10.950Z"
   },
   {
    "duration": 26,
    "start_time": "2021-10-06T00:15:12.691Z"
   },
   {
    "duration": 4175,
    "start_time": "2021-10-06T00:15:12.718Z"
   },
   {
    "duration": 1766,
    "start_time": "2021-10-06T00:15:16.895Z"
   },
   {
    "duration": 11,
    "start_time": "2021-10-06T00:15:18.663Z"
   },
   {
    "duration": 17,
    "start_time": "2021-10-06T00:15:18.676Z"
   },
   {
    "duration": 25,
    "start_time": "2021-10-06T00:15:18.694Z"
   },
   {
    "duration": 40,
    "start_time": "2021-10-06T00:15:18.721Z"
   },
   {
    "duration": 16,
    "start_time": "2021-10-06T00:15:18.763Z"
   },
   {
    "duration": 5,
    "start_time": "2021-10-06T00:15:18.781Z"
   },
   {
    "duration": 10,
    "start_time": "2021-10-06T00:15:18.787Z"
   },
   {
    "duration": 5,
    "start_time": "2021-10-06T00:15:18.799Z"
   },
   {
    "duration": 3,
    "start_time": "2021-10-06T00:15:18.806Z"
   },
   {
    "duration": 55,
    "start_time": "2021-10-06T00:15:18.811Z"
   },
   {
    "duration": 307,
    "start_time": "2021-10-06T00:15:18.868Z"
   },
   {
    "duration": 958,
    "start_time": "2021-10-06T00:15:18.219Z"
   },
   {
    "duration": 957,
    "start_time": "2021-10-06T00:15:18.221Z"
   },
   {
    "duration": 956,
    "start_time": "2021-10-06T00:15:18.223Z"
   },
   {
    "duration": 951,
    "start_time": "2021-10-06T00:15:18.229Z"
   },
   {
    "duration": 950,
    "start_time": "2021-10-06T00:15:18.231Z"
   },
   {
    "duration": 949,
    "start_time": "2021-10-06T00:15:18.233Z"
   },
   {
    "duration": 948,
    "start_time": "2021-10-06T00:15:18.235Z"
   },
   {
    "duration": 947,
    "start_time": "2021-10-06T00:15:18.238Z"
   },
   {
    "duration": 947,
    "start_time": "2021-10-06T00:15:18.239Z"
   },
   {
    "duration": 942,
    "start_time": "2021-10-06T00:15:18.245Z"
   },
   {
    "duration": 940,
    "start_time": "2021-10-06T00:15:18.248Z"
   },
   {
    "duration": 25,
    "start_time": "2021-10-06T00:16:10.235Z"
   },
   {
    "duration": 1169,
    "start_time": "2021-10-06T00:17:45.192Z"
   },
   {
    "duration": 734,
    "start_time": "2021-10-06T00:17:46.363Z"
   },
   {
    "duration": 47,
    "start_time": "2021-10-06T00:17:47.102Z"
   },
   {
    "duration": 26,
    "start_time": "2021-10-06T00:17:47.151Z"
   },
   {
    "duration": 32,
    "start_time": "2021-10-06T00:17:47.178Z"
   },
   {
    "duration": 3,
    "start_time": "2021-10-06T00:17:47.212Z"
   },
   {
    "duration": 459,
    "start_time": "2021-10-06T00:17:47.217Z"
   },
   {
    "duration": 4,
    "start_time": "2021-10-06T00:17:47.678Z"
   },
   {
    "duration": 16,
    "start_time": "2021-10-06T00:17:47.684Z"
   },
   {
    "duration": 26,
    "start_time": "2021-10-06T00:17:47.702Z"
   },
   {
    "duration": 27,
    "start_time": "2021-10-06T00:17:47.730Z"
   },
   {
    "duration": 8,
    "start_time": "2021-10-06T00:17:47.759Z"
   },
   {
    "duration": 14,
    "start_time": "2021-10-06T00:17:47.768Z"
   },
   {
    "duration": 16,
    "start_time": "2021-10-06T00:17:47.784Z"
   },
   {
    "duration": 39,
    "start_time": "2021-10-06T00:17:47.801Z"
   },
   {
    "duration": 11,
    "start_time": "2021-10-06T00:17:47.842Z"
   },
   {
    "duration": 8,
    "start_time": "2021-10-06T00:17:47.855Z"
   },
   {
    "duration": 250,
    "start_time": "2021-10-06T00:17:47.864Z"
   },
   {
    "duration": 4,
    "start_time": "2021-10-06T00:17:48.116Z"
   },
   {
    "duration": 4155,
    "start_time": "2021-10-06T00:17:48.121Z"
   },
   {
    "duration": 9,
    "start_time": "2021-10-06T00:17:52.277Z"
   },
   {
    "duration": 1733,
    "start_time": "2021-10-06T00:17:52.288Z"
   },
   {
    "duration": 40,
    "start_time": "2021-10-06T00:17:54.022Z"
   },
   {
    "duration": 3970,
    "start_time": "2021-10-06T00:17:54.064Z"
   },
   {
    "duration": 1787,
    "start_time": "2021-10-06T00:17:58.036Z"
   },
   {
    "duration": 22,
    "start_time": "2021-10-06T00:17:59.828Z"
   },
   {
    "duration": 16,
    "start_time": "2021-10-06T00:17:59.853Z"
   },
   {
    "duration": 24,
    "start_time": "2021-10-06T00:17:59.871Z"
   },
   {
    "duration": 15,
    "start_time": "2021-10-06T00:17:59.897Z"
   },
   {
    "duration": 41,
    "start_time": "2021-10-06T00:17:59.914Z"
   },
   {
    "duration": 5,
    "start_time": "2021-10-06T00:17:59.956Z"
   },
   {
    "duration": 9,
    "start_time": "2021-10-06T00:17:59.962Z"
   },
   {
    "duration": 4,
    "start_time": "2021-10-06T00:17:59.973Z"
   },
   {
    "duration": 4,
    "start_time": "2021-10-06T00:17:59.979Z"
   },
   {
    "duration": 27,
    "start_time": "2021-10-06T00:17:59.984Z"
   },
   {
    "duration": 9,
    "start_time": "2021-10-06T00:18:00.012Z"
   },
   {
    "duration": 29,
    "start_time": "2021-10-06T00:18:00.023Z"
   },
   {
    "duration": 25,
    "start_time": "2021-10-06T00:18:00.053Z"
   },
   {
    "duration": 5,
    "start_time": "2021-10-06T00:18:00.080Z"
   },
   {
    "duration": 9,
    "start_time": "2021-10-06T00:18:00.087Z"
   },
   {
    "duration": 19790,
    "start_time": "2021-10-06T00:18:00.098Z"
   },
   {
    "duration": 1167,
    "start_time": "2021-10-06T00:18:19.889Z"
   },
   {
    "duration": 68015,
    "start_time": "2021-10-06T00:18:21.058Z"
   },
   {
    "duration": 307,
    "start_time": "2021-10-06T00:19:29.075Z"
   },
   {
    "duration": 959,
    "start_time": "2021-10-06T00:19:28.425Z"
   },
   {
    "duration": 956,
    "start_time": "2021-10-06T00:19:28.429Z"
   },
   {
    "duration": 955,
    "start_time": "2021-10-06T00:19:28.431Z"
   },
   {
    "duration": 3,
    "start_time": "2021-10-06T00:21:09.919Z"
   },
   {
    "duration": 20,
    "start_time": "2021-10-06T00:21:11.934Z"
   },
   {
    "duration": 90,
    "start_time": "2021-10-06T00:21:13.366Z"
   },
   {
    "duration": 8,
    "start_time": "2021-10-06T00:21:14.574Z"
   },
   {
    "duration": 1200,
    "start_time": "2021-10-06T00:21:39.219Z"
   },
   {
    "duration": 747,
    "start_time": "2021-10-06T00:21:40.421Z"
   },
   {
    "duration": 35,
    "start_time": "2021-10-06T00:21:41.170Z"
   },
   {
    "duration": 48,
    "start_time": "2021-10-06T00:21:41.207Z"
   },
   {
    "duration": 35,
    "start_time": "2021-10-06T00:21:41.258Z"
   },
   {
    "duration": 3,
    "start_time": "2021-10-06T00:21:41.295Z"
   },
   {
    "duration": 450,
    "start_time": "2021-10-06T00:21:41.300Z"
   },
   {
    "duration": 3,
    "start_time": "2021-10-06T00:21:41.753Z"
   },
   {
    "duration": 9,
    "start_time": "2021-10-06T00:21:41.758Z"
   },
   {
    "duration": 16,
    "start_time": "2021-10-06T00:21:41.769Z"
   },
   {
    "duration": 16,
    "start_time": "2021-10-06T00:21:41.787Z"
   },
   {
    "duration": 46,
    "start_time": "2021-10-06T00:21:41.806Z"
   },
   {
    "duration": 9,
    "start_time": "2021-10-06T00:21:41.854Z"
   },
   {
    "duration": 19,
    "start_time": "2021-10-06T00:21:41.865Z"
   },
   {
    "duration": 22,
    "start_time": "2021-10-06T00:21:41.886Z"
   },
   {
    "duration": 47,
    "start_time": "2021-10-06T00:21:41.910Z"
   },
   {
    "duration": 8,
    "start_time": "2021-10-06T00:21:41.959Z"
   },
   {
    "duration": 265,
    "start_time": "2021-10-06T00:21:41.969Z"
   },
   {
    "duration": 14,
    "start_time": "2021-10-06T00:21:42.236Z"
   },
   {
    "duration": 4339,
    "start_time": "2021-10-06T00:21:42.253Z"
   },
   {
    "duration": 10,
    "start_time": "2021-10-06T00:21:46.594Z"
   },
   {
    "duration": 1754,
    "start_time": "2021-10-06T00:21:46.606Z"
   },
   {
    "duration": 25,
    "start_time": "2021-10-06T00:21:48.365Z"
   },
   {
    "duration": 4129,
    "start_time": "2021-10-06T00:21:48.393Z"
   },
   {
    "duration": 1771,
    "start_time": "2021-10-06T00:21:52.524Z"
   },
   {
    "duration": 10,
    "start_time": "2021-10-06T00:21:54.297Z"
   },
   {
    "duration": 17,
    "start_time": "2021-10-06T00:21:54.309Z"
   },
   {
    "duration": 40,
    "start_time": "2021-10-06T00:21:54.328Z"
   },
   {
    "duration": 14,
    "start_time": "2021-10-06T00:21:54.370Z"
   },
   {
    "duration": 27,
    "start_time": "2021-10-06T00:21:54.386Z"
   },
   {
    "duration": 10,
    "start_time": "2021-10-06T00:21:54.415Z"
   },
   {
    "duration": 23,
    "start_time": "2021-10-06T00:21:54.426Z"
   },
   {
    "duration": 11,
    "start_time": "2021-10-06T00:21:54.450Z"
   },
   {
    "duration": 11,
    "start_time": "2021-10-06T00:21:54.462Z"
   },
   {
    "duration": 35,
    "start_time": "2021-10-06T00:21:54.475Z"
   },
   {
    "duration": 8,
    "start_time": "2021-10-06T00:21:54.512Z"
   },
   {
    "duration": 13,
    "start_time": "2021-10-06T00:21:54.522Z"
   },
   {
    "duration": 18,
    "start_time": "2021-10-06T00:21:54.536Z"
   },
   {
    "duration": 5,
    "start_time": "2021-10-06T00:21:54.556Z"
   },
   {
    "duration": 6,
    "start_time": "2021-10-06T00:21:54.563Z"
   },
   {
    "duration": 19879,
    "start_time": "2021-10-06T00:21:54.571Z"
   },
   {
    "duration": 1504,
    "start_time": "2021-10-06T00:22:14.451Z"
   },
   {
    "duration": 67504,
    "start_time": "2021-10-06T00:22:15.958Z"
   },
   {
    "duration": 3,
    "start_time": "2021-10-06T00:23:23.463Z"
   },
   {
    "duration": 22,
    "start_time": "2021-10-06T00:23:23.467Z"
   },
   {
    "duration": 160,
    "start_time": "2021-10-06T00:23:23.491Z"
   },
   {
    "duration": 100,
    "start_time": "2021-10-06T00:23:23.653Z"
   },
   {
    "duration": 1119,
    "start_time": "2021-10-06T00:30:36.796Z"
   },
   {
    "duration": 740,
    "start_time": "2021-10-06T00:30:37.917Z"
   },
   {
    "duration": 35,
    "start_time": "2021-10-06T00:30:38.661Z"
   },
   {
    "duration": 27,
    "start_time": "2021-10-06T00:30:38.697Z"
   },
   {
    "duration": 33,
    "start_time": "2021-10-06T00:30:38.749Z"
   },
   {
    "duration": 3,
    "start_time": "2021-10-06T00:30:38.784Z"
   },
   {
    "duration": 447,
    "start_time": "2021-10-06T00:30:38.788Z"
   },
   {
    "duration": 4,
    "start_time": "2021-10-06T00:30:39.237Z"
   },
   {
    "duration": 7,
    "start_time": "2021-10-06T00:30:39.250Z"
   },
   {
    "duration": 16,
    "start_time": "2021-10-06T00:30:39.259Z"
   },
   {
    "duration": 18,
    "start_time": "2021-10-06T00:30:39.276Z"
   },
   {
    "duration": 10,
    "start_time": "2021-10-06T00:30:39.295Z"
   },
   {
    "duration": 45,
    "start_time": "2021-10-06T00:30:39.307Z"
   },
   {
    "duration": 17,
    "start_time": "2021-10-06T00:30:39.354Z"
   },
   {
    "duration": 23,
    "start_time": "2021-10-06T00:30:39.373Z"
   },
   {
    "duration": 7,
    "start_time": "2021-10-06T00:30:39.398Z"
   },
   {
    "duration": 43,
    "start_time": "2021-10-06T00:30:39.407Z"
   },
   {
    "duration": 250,
    "start_time": "2021-10-06T00:30:39.452Z"
   },
   {
    "duration": 5,
    "start_time": "2021-10-06T00:30:39.703Z"
   },
   {
    "duration": 4368,
    "start_time": "2021-10-06T00:30:39.709Z"
   },
   {
    "duration": 9,
    "start_time": "2021-10-06T00:30:44.078Z"
   },
   {
    "duration": 1744,
    "start_time": "2021-10-06T00:30:44.089Z"
   },
   {
    "duration": 36,
    "start_time": "2021-10-06T00:30:45.835Z"
   },
   {
    "duration": 4100,
    "start_time": "2021-10-06T00:30:45.873Z"
   },
   {
    "duration": 1790,
    "start_time": "2021-10-06T00:30:49.974Z"
   },
   {
    "duration": 10,
    "start_time": "2021-10-06T00:30:51.768Z"
   },
   {
    "duration": 14,
    "start_time": "2021-10-06T00:30:51.780Z"
   },
   {
    "duration": 15,
    "start_time": "2021-10-06T00:30:51.795Z"
   },
   {
    "duration": 1,
    "start_time": "2021-10-06T00:30:51.812Z"
   },
   {
    "duration": 49,
    "start_time": "2021-10-06T00:30:51.815Z"
   },
   {
    "duration": 13,
    "start_time": "2021-10-06T00:30:51.866Z"
   },
   {
    "duration": 4,
    "start_time": "2021-10-06T00:30:51.880Z"
   },
   {
    "duration": 8,
    "start_time": "2021-10-06T00:30:51.886Z"
   },
   {
    "duration": 4,
    "start_time": "2021-10-06T00:30:51.896Z"
   },
   {
    "duration": 5,
    "start_time": "2021-10-06T00:30:51.902Z"
   },
   {
    "duration": 59,
    "start_time": "2021-10-06T00:30:51.908Z"
   },
   {
    "duration": 8,
    "start_time": "2021-10-06T00:30:51.968Z"
   },
   {
    "duration": 6,
    "start_time": "2021-10-06T00:30:51.978Z"
   },
   {
    "duration": 20,
    "start_time": "2021-10-06T00:30:51.985Z"
   },
   {
    "duration": 5,
    "start_time": "2021-10-06T00:30:52.007Z"
   },
   {
    "duration": 6,
    "start_time": "2021-10-06T00:30:52.013Z"
   },
   {
    "duration": 19864,
    "start_time": "2021-10-06T00:30:52.020Z"
   },
   {
    "duration": 1369,
    "start_time": "2021-10-06T00:31:11.886Z"
   },
   {
    "duration": 67984,
    "start_time": "2021-10-06T00:31:13.258Z"
   },
   {
    "duration": 3,
    "start_time": "2021-10-06T00:32:21.248Z"
   },
   {
    "duration": 21,
    "start_time": "2021-10-06T00:32:21.253Z"
   },
   {
    "duration": 277,
    "start_time": "2021-10-06T00:32:21.276Z"
   },
   {
    "duration": 9,
    "start_time": "2021-10-06T00:32:21.555Z"
   },
   {
    "duration": 9,
    "start_time": "2021-10-06T00:34:18.407Z"
   },
   {
    "duration": 9,
    "start_time": "2021-10-06T00:35:20.826Z"
   },
   {
    "duration": 9,
    "start_time": "2021-10-06T00:35:33.859Z"
   },
   {
    "duration": 3,
    "start_time": "2021-10-06T00:36:53.975Z"
   },
   {
    "duration": 3,
    "start_time": "2021-10-06T00:37:24.366Z"
   },
   {
    "duration": 3,
    "start_time": "2021-10-06T00:38:56.593Z"
   },
   {
    "duration": 3,
    "start_time": "2021-10-06T00:39:50.409Z"
   },
   {
    "duration": 280,
    "start_time": "2021-10-06T00:39:59.354Z"
   },
   {
    "duration": 266488,
    "start_time": "2021-10-06T00:40:53.828Z"
   },
   {
    "duration": 7,
    "start_time": "2021-10-06T00:49:00.102Z"
   },
   {
    "duration": 3,
    "start_time": "2021-10-06T00:51:33.654Z"
   },
   {
    "duration": 4,
    "start_time": "2021-10-06T00:52:11.712Z"
   },
   {
    "duration": 37098,
    "start_time": "2021-10-06T00:53:48.822Z"
   },
   {
    "duration": 2,
    "start_time": "2021-10-06T00:55:38.707Z"
   },
   {
    "duration": 16,
    "start_time": "2021-10-06T00:55:40.331Z"
   },
   {
    "duration": 753601,
    "start_time": "2021-10-06T00:55:54.748Z"
   },
   {
    "duration": 3,
    "start_time": "2021-10-06T01:11:45.288Z"
   },
   {
    "duration": 13,
    "start_time": "2021-10-06T01:11:48.071Z"
   },
   {
    "duration": 2,
    "start_time": "2021-10-06T01:20:40.309Z"
   },
   {
    "duration": 4,
    "start_time": "2021-10-06T01:20:43.371Z"
   },
   {
    "duration": 107,
    "start_time": "2021-10-06T01:22:07.568Z"
   },
   {
    "duration": 8,
    "start_time": "2021-10-06T01:22:40.177Z"
   },
   {
    "duration": 302,
    "start_time": "2021-10-06T01:46:03.389Z"
   },
   {
    "duration": 5192,
    "start_time": "2021-10-06T01:46:25.782Z"
   },
   {
    "duration": 4,
    "start_time": "2021-10-06T01:46:41.192Z"
   },
   {
    "duration": 736,
    "start_time": "2021-10-06T01:46:42.239Z"
   },
   {
    "duration": 35,
    "start_time": "2021-10-06T01:46:42.978Z"
   },
   {
    "duration": 30,
    "start_time": "2021-10-06T01:46:43.264Z"
   },
   {
    "duration": 35,
    "start_time": "2021-10-06T01:46:43.544Z"
   },
   {
    "duration": 3,
    "start_time": "2021-10-06T01:46:44.520Z"
   },
   {
    "duration": 392,
    "start_time": "2021-10-06T01:46:46.368Z"
   },
   {
    "duration": 4,
    "start_time": "2021-10-06T01:46:48.608Z"
   },
   {
    "duration": 7,
    "start_time": "2021-10-06T01:46:49.520Z"
   },
   {
    "duration": 17,
    "start_time": "2021-10-06T01:46:52.513Z"
   },
   {
    "duration": 30,
    "start_time": "2021-10-06T02:17:19.913Z"
   },
   {
    "duration": 13,
    "start_time": "2021-10-06T02:19:12.094Z"
   },
   {
    "duration": 8,
    "start_time": "2021-10-06T02:19:33.486Z"
   },
   {
    "duration": 8,
    "start_time": "2021-10-06T02:19:35.087Z"
   },
   {
    "duration": 6,
    "start_time": "2021-10-06T02:19:42.439Z"
   },
   {
    "duration": 9,
    "start_time": "2021-10-06T02:21:22.084Z"
   },
   {
    "duration": 13,
    "start_time": "2021-10-06T02:22:29.336Z"
   },
   {
    "duration": 4467,
    "start_time": "2021-10-06T02:23:42.715Z"
   },
   {
    "duration": 708,
    "start_time": "2021-10-06T02:24:07.630Z"
   },
   {
    "duration": 33,
    "start_time": "2021-10-06T02:24:08.776Z"
   },
   {
    "duration": 26,
    "start_time": "2021-10-06T02:24:10.207Z"
   },
   {
    "duration": 32,
    "start_time": "2021-10-06T02:24:11.399Z"
   },
   {
    "duration": 3,
    "start_time": "2021-10-06T02:24:12.455Z"
   },
   {
    "duration": 383,
    "start_time": "2021-10-06T02:24:13.910Z"
   },
   {
    "duration": 4,
    "start_time": "2021-10-06T02:24:16.399Z"
   },
   {
    "duration": 7,
    "start_time": "2021-10-06T02:24:17.511Z"
   },
   {
    "duration": 17,
    "start_time": "2021-10-06T02:24:24.239Z"
   },
   {
    "duration": 25,
    "start_time": "2021-10-06T02:24:27.008Z"
   },
   {
    "duration": 16,
    "start_time": "2021-10-06T02:24:31.687Z"
   },
   {
    "duration": 14,
    "start_time": "2021-10-06T02:24:47.343Z"
   },
   {
    "duration": 26,
    "start_time": "2021-10-06T02:24:49.183Z"
   },
   {
    "duration": 15,
    "start_time": "2021-10-06T02:24:50.895Z"
   },
   {
    "duration": 26,
    "start_time": "2021-10-06T02:25:10.553Z"
   },
   {
    "duration": 15,
    "start_time": "2021-10-06T02:25:21.274Z"
   },
   {
    "duration": 14,
    "start_time": "2021-10-06T02:26:01.532Z"
   },
   {
    "duration": 27,
    "start_time": "2021-10-06T02:26:07.084Z"
   },
   {
    "duration": 14,
    "start_time": "2021-10-06T02:26:10.371Z"
   },
   {
    "duration": 5,
    "start_time": "2021-10-06T02:26:31.462Z"
   },
   {
    "duration": 716,
    "start_time": "2021-10-06T02:26:31.902Z"
   },
   {
    "duration": 35,
    "start_time": "2021-10-06T02:26:32.619Z"
   },
   {
    "duration": 25,
    "start_time": "2021-10-06T02:26:32.656Z"
   },
   {
    "duration": 30,
    "start_time": "2021-10-06T02:26:32.683Z"
   },
   {
    "duration": 4,
    "start_time": "2021-10-06T02:26:32.887Z"
   },
   {
    "duration": 396,
    "start_time": "2021-10-06T02:26:34.230Z"
   },
   {
    "duration": 4,
    "start_time": "2021-10-06T02:26:35.878Z"
   },
   {
    "duration": 7,
    "start_time": "2021-10-06T02:26:36.646Z"
   },
   {
    "duration": 16,
    "start_time": "2021-10-06T02:26:39.414Z"
   },
   {
    "duration": 29,
    "start_time": "2021-10-06T02:26:40.014Z"
   },
   {
    "duration": 13,
    "start_time": "2021-10-06T02:26:40.958Z"
   },
   {
    "duration": 229,
    "start_time": "2021-10-06T02:31:57.743Z"
   },
   {
    "duration": 5,
    "start_time": "2021-10-06T02:33:41.221Z"
   },
   {
    "duration": 754,
    "start_time": "2021-10-06T02:33:42.061Z"
   },
   {
    "duration": 40,
    "start_time": "2021-10-06T02:33:42.817Z"
   },
   {
    "duration": 27,
    "start_time": "2021-10-06T02:33:42.859Z"
   },
   {
    "duration": 34,
    "start_time": "2021-10-06T02:33:42.888Z"
   },
   {
    "duration": 4,
    "start_time": "2021-10-06T02:33:43.597Z"
   },
   {
    "duration": 484,
    "start_time": "2021-10-06T02:33:44.613Z"
   },
   {
    "duration": 4,
    "start_time": "2021-10-06T02:33:46.245Z"
   },
   {
    "duration": 8,
    "start_time": "2021-10-06T02:33:46.766Z"
   },
   {
    "duration": 15,
    "start_time": "2021-10-06T02:33:49.678Z"
   },
   {
    "duration": 19,
    "start_time": "2021-10-06T02:34:01.317Z"
   },
   {
    "duration": 17,
    "start_time": "2021-10-06T02:34:40.336Z"
   },
   {
    "duration": 16,
    "start_time": "2021-10-06T02:34:41.345Z"
   },
   {
    "duration": 34,
    "start_time": "2021-10-06T02:34:43.056Z"
   },
   {
    "duration": 13,
    "start_time": "2021-10-06T02:34:43.905Z"
   },
   {
    "duration": 8,
    "start_time": "2021-10-06T02:34:53.529Z"
   },
   {
    "duration": 7,
    "start_time": "2021-10-06T02:34:56.922Z"
   },
   {
    "duration": 242,
    "start_time": "2021-10-06T02:35:11.195Z"
   },
   {
    "duration": 4,
    "start_time": "2021-10-06T02:36:36.895Z"
   },
   {
    "duration": 3699,
    "start_time": "2021-10-06T02:36:38.655Z"
   },
   {
    "duration": 10,
    "start_time": "2021-10-06T02:36:49.385Z"
   },
   {
    "duration": 1699,
    "start_time": "2021-10-06T02:36:57.336Z"
   },
   {
    "duration": 5,
    "start_time": "2021-10-06T02:38:30.820Z"
   },
   {
    "duration": 184,
    "start_time": "2021-10-06T02:38:43.348Z"
   },
   {
    "duration": 14,
    "start_time": "2021-10-06T02:39:06.807Z"
   },
   {
    "duration": 212,
    "start_time": "2021-10-06T02:39:20.654Z"
   },
   {
    "duration": 1197,
    "start_time": "2021-10-06T02:39:25.383Z"
   },
   {
    "duration": 14,
    "start_time": "2021-10-06T02:42:14.040Z"
   },
   {
    "duration": 1132,
    "start_time": "2021-10-06T02:42:16.935Z"
   },
   {
    "duration": 4,
    "start_time": "2021-10-06T02:48:35.725Z"
   },
   {
    "duration": 669,
    "start_time": "2021-10-06T02:48:36.596Z"
   },
   {
    "duration": 35,
    "start_time": "2021-10-06T02:48:37.267Z"
   },
   {
    "duration": 25,
    "start_time": "2021-10-06T02:48:37.661Z"
   },
   {
    "duration": 33,
    "start_time": "2021-10-06T02:48:38.173Z"
   },
   {
    "duration": 3,
    "start_time": "2021-10-06T02:48:38.620Z"
   },
   {
    "duration": 435,
    "start_time": "2021-10-06T02:48:39.798Z"
   },
   {
    "duration": 4,
    "start_time": "2021-10-06T02:48:41.901Z"
   },
   {
    "duration": 7,
    "start_time": "2021-10-06T02:48:42.837Z"
   },
   {
    "duration": 15,
    "start_time": "2021-10-06T02:48:45.181Z"
   },
   {
    "duration": 15,
    "start_time": "2021-10-06T02:48:52.797Z"
   },
   {
    "duration": 16,
    "start_time": "2021-10-06T02:48:53.533Z"
   },
   {
    "duration": 32,
    "start_time": "2021-10-06T02:48:54.406Z"
   },
   {
    "duration": 12,
    "start_time": "2021-10-06T02:48:54.926Z"
   },
   {
    "duration": 9,
    "start_time": "2021-10-06T02:49:09.638Z"
   },
   {
    "duration": 8,
    "start_time": "2021-10-06T02:49:11.367Z"
   },
   {
    "duration": 236,
    "start_time": "2021-10-06T02:49:16.527Z"
   },
   {
    "duration": 10,
    "start_time": "2021-10-06T02:49:27.623Z"
   },
   {
    "duration": 5,
    "start_time": "2021-10-06T02:49:31.160Z"
   },
   {
    "duration": 3569,
    "start_time": "2021-10-06T02:49:31.656Z"
   },
   {
    "duration": 9,
    "start_time": "2021-10-06T02:49:35.227Z"
   },
   {
    "duration": 1882,
    "start_time": "2021-10-06T02:49:35.249Z"
   },
   {
    "duration": 205,
    "start_time": "2021-10-06T02:58:34.275Z"
   },
   {
    "duration": 17,
    "start_time": "2021-10-06T02:59:06.597Z"
   },
   {
    "duration": 23,
    "start_time": "2021-10-06T02:59:37.167Z"
   },
   {
    "duration": 9,
    "start_time": "2021-10-06T03:07:20.748Z"
   },
   {
    "duration": 13,
    "start_time": "2021-10-06T03:09:36.607Z"
   },
   {
    "duration": 4838,
    "start_time": "2021-10-06T03:10:50.355Z"
   },
   {
    "duration": 41,
    "start_time": "2021-10-06T03:12:53.593Z"
   },
   {
    "duration": 211,
    "start_time": "2021-10-06T03:13:11.235Z"
   },
   {
    "duration": 51,
    "start_time": "2021-10-06T03:15:16.594Z"
   },
   {
    "duration": 28,
    "start_time": "2021-10-06T03:15:35.210Z"
   },
   {
    "duration": 34,
    "start_time": "2021-10-06T03:15:51.787Z"
   },
   {
    "duration": 26,
    "start_time": "2021-10-06T03:16:11.781Z"
   },
   {
    "duration": 1765,
    "start_time": "2021-10-06T03:17:26.137Z"
   },
   {
    "duration": 210,
    "start_time": "2021-10-06T03:19:48.336Z"
   },
   {
    "duration": 46,
    "start_time": "2021-10-06T03:20:11.161Z"
   },
   {
    "duration": 28,
    "start_time": "2021-10-06T03:21:11.468Z"
   },
   {
    "duration": 4,
    "start_time": "2021-10-06T03:23:03.964Z"
   },
   {
    "duration": 636,
    "start_time": "2021-10-06T03:23:04.396Z"
   },
   {
    "duration": 36,
    "start_time": "2021-10-06T03:23:05.034Z"
   },
   {
    "duration": 27,
    "start_time": "2021-10-06T03:23:05.164Z"
   },
   {
    "duration": 32,
    "start_time": "2021-10-06T03:23:05.509Z"
   },
   {
    "duration": 3,
    "start_time": "2021-10-06T03:23:05.940Z"
   },
   {
    "duration": 380,
    "start_time": "2021-10-06T03:23:07.795Z"
   },
   {
    "duration": 4,
    "start_time": "2021-10-06T03:23:10.156Z"
   },
   {
    "duration": 7,
    "start_time": "2021-10-06T03:23:10.876Z"
   },
   {
    "duration": 14,
    "start_time": "2021-10-06T03:23:12.644Z"
   },
   {
    "duration": 196,
    "start_time": "2021-10-06T03:23:37.300Z"
   },
   {
    "duration": 189,
    "start_time": "2021-10-06T03:23:42.789Z"
   },
   {
    "duration": 4,
    "start_time": "2021-10-06T03:24:20.558Z"
   },
   {
    "duration": 15,
    "start_time": "2021-10-06T03:24:31.336Z"
   },
   {
    "duration": 15,
    "start_time": "2021-10-06T03:24:31.920Z"
   },
   {
    "duration": 24,
    "start_time": "2021-10-06T03:24:37.609Z"
   },
   {
    "duration": 12,
    "start_time": "2021-10-06T03:24:39.113Z"
   },
   {
    "duration": 4,
    "start_time": "2021-10-06T03:24:47.961Z"
   },
   {
    "duration": 7,
    "start_time": "2021-10-06T03:25:04.843Z"
   },
   {
    "duration": 7,
    "start_time": "2021-10-06T03:25:05.394Z"
   },
   {
    "duration": 231,
    "start_time": "2021-10-06T03:25:09.466Z"
   },
   {
    "duration": 9,
    "start_time": "2021-10-06T03:25:15.563Z"
   },
   {
    "duration": 4,
    "start_time": "2021-10-06T03:25:22.770Z"
   },
   {
    "duration": 4,
    "start_time": "2021-10-06T03:25:33.428Z"
   },
   {
    "duration": 3565,
    "start_time": "2021-10-06T03:25:36.100Z"
   },
   {
    "duration": 10,
    "start_time": "2021-10-06T03:25:39.667Z"
   },
   {
    "duration": 1708,
    "start_time": "2021-10-06T03:26:16.422Z"
   },
   {
    "duration": 46,
    "start_time": "2021-10-06T03:26:30.439Z"
   },
   {
    "duration": 33,
    "start_time": "2021-10-06T03:26:39.359Z"
   },
   {
    "duration": 1769,
    "start_time": "2021-10-06T03:26:49.768Z"
   },
   {
    "duration": 50,
    "start_time": "2021-10-06T03:27:01.440Z"
   },
   {
    "duration": 4,
    "start_time": "2021-10-06T03:27:08.711Z"
   },
   {
    "duration": 11,
    "start_time": "2021-10-06T03:27:35.281Z"
   },
   {
    "duration": 28,
    "start_time": "2021-10-06T03:27:56.946Z"
   },
   {
    "duration": 31,
    "start_time": "2021-10-06T03:28:05.794Z"
   },
   {
    "duration": 16,
    "start_time": "2021-10-06T03:28:16.947Z"
   },
   {
    "duration": 11,
    "start_time": "2021-10-06T03:28:39.704Z"
   },
   {
    "duration": 30,
    "start_time": "2021-10-06T03:30:09.465Z"
   },
   {
    "duration": 135,
    "start_time": "2021-10-06T03:30:34.940Z"
   },
   {
    "duration": 11,
    "start_time": "2021-10-06T03:30:54.020Z"
   },
   {
    "duration": 17,
    "start_time": "2021-10-06T03:31:11.451Z"
   },
   {
    "duration": 16,
    "start_time": "2021-10-06T03:31:28.525Z"
   },
   {
    "duration": 26,
    "start_time": "2021-10-06T03:31:42.837Z"
   },
   {
    "duration": 8,
    "start_time": "2021-10-06T03:33:25.131Z"
   },
   {
    "duration": 7,
    "start_time": "2021-10-06T03:33:28.163Z"
   },
   {
    "duration": 4,
    "start_time": "2021-10-06T03:34:01.557Z"
   },
   {
    "duration": 5191,
    "start_time": "2021-10-06T03:34:03.445Z"
   },
   {
    "duration": 10,
    "start_time": "2021-10-06T03:34:10.286Z"
   },
   {
    "duration": 1627,
    "start_time": "2021-10-06T03:34:13.934Z"
   },
   {
    "duration": 187,
    "start_time": "2021-10-06T03:34:22.134Z"
   },
   {
    "duration": 38,
    "start_time": "2021-10-06T03:34:24.854Z"
   },
   {
    "duration": 1892,
    "start_time": "2021-10-06T03:34:27.695Z"
   },
   {
    "duration": 63,
    "start_time": "2021-10-06T03:35:08.280Z"
   },
   {
    "duration": 34,
    "start_time": "2021-10-06T03:35:21.994Z"
   },
   {
    "duration": 2015,
    "start_time": "2021-10-06T03:35:23.666Z"
   },
   {
    "duration": 45,
    "start_time": "2021-10-06T03:35:30.449Z"
   },
   {
    "duration": 25,
    "start_time": "2021-10-06T03:35:37.403Z"
   },
   {
    "duration": 4,
    "start_time": "2021-10-06T03:36:35.725Z"
   },
   {
    "duration": 4,
    "start_time": "2021-10-06T03:37:55.659Z"
   },
   {
    "duration": 12,
    "start_time": "2021-10-06T03:37:57.739Z"
   },
   {
    "duration": 9,
    "start_time": "2021-10-06T03:38:02.003Z"
   },
   {
    "duration": 4,
    "start_time": "2021-10-06T03:38:04.290Z"
   },
   {
    "duration": 4,
    "start_time": "2021-10-06T03:49:52.215Z"
   },
   {
    "duration": 16,
    "start_time": "2021-10-06T03:49:56.591Z"
   },
   {
    "duration": 5,
    "start_time": "2021-10-06T03:50:04.096Z"
   },
   {
    "duration": 2,
    "start_time": "2021-10-06T03:50:05.656Z"
   },
   {
    "duration": 20800,
    "start_time": "2021-10-06T03:50:07.840Z"
   },
   {
    "duration": 1111,
    "start_time": "2021-10-06T03:50:28.641Z"
   },
   {
    "duration": 70279,
    "start_time": "2021-10-06T03:50:29.755Z"
   },
   {
    "duration": 3,
    "start_time": "2021-10-06T03:51:40.036Z"
   },
   {
    "duration": 24,
    "start_time": "2021-10-06T03:51:40.049Z"
   },
   {
    "duration": 275,
    "start_time": "2021-10-06T03:51:40.075Z"
   },
   {
    "duration": 10,
    "start_time": "2021-10-06T03:51:40.352Z"
   },
   {
    "duration": 86,
    "start_time": "2021-10-06T03:51:40.364Z"
   },
   {
    "duration": 4,
    "start_time": "2021-10-06T03:51:40.452Z"
   },
   {
    "duration": 12,
    "start_time": "2021-10-06T03:51:40.457Z"
   },
   {
    "duration": 13,
    "start_time": "2021-10-06T03:51:40.471Z"
   },
   {
    "duration": 286780,
    "start_time": "2021-10-06T03:51:40.486Z"
   },
   {
    "duration": 7,
    "start_time": "2021-10-06T03:56:27.267Z"
   },
   {
    "duration": 6,
    "start_time": "2021-10-06T03:56:27.276Z"
   },
   {
    "duration": 5,
    "start_time": "2021-10-06T03:56:27.284Z"
   },
   {
    "duration": 162,
    "start_time": "2021-10-06T03:56:27.291Z"
   },
   {
    "duration": 8,
    "start_time": "2021-10-06T03:56:27.455Z"
   },
   {
    "duration": 1153,
    "start_time": "2021-10-06T03:58:17.169Z"
   },
   {
    "duration": 746,
    "start_time": "2021-10-06T03:58:18.324Z"
   },
   {
    "duration": 37,
    "start_time": "2021-10-06T03:58:19.072Z"
   },
   {
    "duration": 51,
    "start_time": "2021-10-06T03:58:19.111Z"
   },
   {
    "duration": 35,
    "start_time": "2021-10-06T03:58:19.164Z"
   },
   {
    "duration": 3,
    "start_time": "2021-10-06T03:58:19.201Z"
   },
   {
    "duration": 456,
    "start_time": "2021-10-06T03:58:19.206Z"
   },
   {
    "duration": 3,
    "start_time": "2021-10-06T03:58:19.665Z"
   },
   {
    "duration": 9,
    "start_time": "2021-10-06T03:58:19.671Z"
   },
   {
    "duration": 15,
    "start_time": "2021-10-06T03:58:19.682Z"
   },
   {
    "duration": 16,
    "start_time": "2021-10-06T03:58:19.699Z"
   },
   {
    "duration": 44,
    "start_time": "2021-10-06T03:58:19.717Z"
   },
   {
    "duration": 31,
    "start_time": "2021-10-06T03:58:19.763Z"
   },
   {
    "duration": 12,
    "start_time": "2021-10-06T03:58:19.796Z"
   },
   {
    "duration": 8,
    "start_time": "2021-10-06T03:58:19.810Z"
   },
   {
    "duration": 35,
    "start_time": "2021-10-06T03:58:19.820Z"
   },
   {
    "duration": 270,
    "start_time": "2021-10-06T03:58:19.857Z"
   },
   {
    "duration": 23,
    "start_time": "2021-10-06T03:58:20.129Z"
   },
   {
    "duration": 4,
    "start_time": "2021-10-06T03:58:20.154Z"
   },
   {
    "duration": 5167,
    "start_time": "2021-10-06T03:58:20.160Z"
   },
   {
    "duration": 10,
    "start_time": "2021-10-06T03:58:25.328Z"
   },
   {
    "duration": 1769,
    "start_time": "2021-10-06T03:58:25.340Z"
   },
   {
    "duration": 180,
    "start_time": "2021-10-06T03:58:27.113Z"
   },
   {
    "duration": 55,
    "start_time": "2021-10-06T03:58:27.296Z"
   },
   {
    "duration": 1706,
    "start_time": "2021-10-06T03:58:27.353Z"
   },
   {
    "duration": 56,
    "start_time": "2021-10-06T03:58:29.060Z"
   },
   {
    "duration": 50,
    "start_time": "2021-10-06T03:58:29.118Z"
   },
   {
    "duration": 4,
    "start_time": "2021-10-06T03:58:29.170Z"
   },
   {
    "duration": 17,
    "start_time": "2021-10-06T03:58:29.176Z"
   },
   {
    "duration": 9,
    "start_time": "2021-10-06T03:58:29.195Z"
   },
   {
    "duration": 10,
    "start_time": "2021-10-06T03:58:29.205Z"
   },
   {
    "duration": 41,
    "start_time": "2021-10-06T03:58:29.217Z"
   },
   {
    "duration": 5,
    "start_time": "2021-10-06T03:58:29.259Z"
   },
   {
    "duration": 7,
    "start_time": "2021-10-06T03:58:29.266Z"
   },
   {
    "duration": 21445,
    "start_time": "2021-10-06T03:58:29.274Z"
   },
   {
    "duration": 2343,
    "start_time": "2021-10-06T03:58:50.722Z"
   },
   {
    "duration": 70305,
    "start_time": "2021-10-06T03:58:53.067Z"
   },
   {
    "duration": 3,
    "start_time": "2021-10-06T04:00:03.373Z"
   },
   {
    "duration": 27,
    "start_time": "2021-10-06T04:00:03.377Z"
   },
   {
    "duration": 250,
    "start_time": "2021-10-06T04:00:03.406Z"
   },
   {
    "duration": 94,
    "start_time": "2021-10-06T04:00:03.659Z"
   },
   {
    "duration": 9,
    "start_time": "2021-10-06T04:00:03.755Z"
   },
   {
    "duration": 6,
    "start_time": "2021-10-06T04:00:03.766Z"
   },
   {
    "duration": 6,
    "start_time": "2021-10-06T04:00:03.773Z"
   },
   {
    "duration": 5,
    "start_time": "2021-10-06T04:00:03.781Z"
   },
   {
    "duration": 284829,
    "start_time": "2021-10-06T04:00:03.787Z"
   },
   {
    "duration": 6,
    "start_time": "2021-10-06T04:04:48.618Z"
   },
   {
    "duration": 5,
    "start_time": "2021-10-06T04:04:48.626Z"
   },
   {
    "duration": 20,
    "start_time": "2021-10-06T04:04:48.632Z"
   },
   {
    "duration": 152,
    "start_time": "2021-10-06T04:04:48.654Z"
   },
   {
    "duration": 8,
    "start_time": "2021-10-06T04:04:48.808Z"
   },
   {
    "duration": 270,
    "start_time": "2021-10-06T04:04:48.818Z"
   },
   {
    "duration": 5,
    "start_time": "2021-10-06T04:05:03.015Z"
   },
   {
    "duration": 4,
    "start_time": "2021-10-06T04:05:23.016Z"
   },
   {
    "duration": 207,
    "start_time": "2021-10-06T04:05:34.121Z"
   },
   {
    "duration": 4,
    "start_time": "2021-10-06T04:05:57.354Z"
   },
   {
    "duration": 5,
    "start_time": "2021-10-06T04:06:18.866Z"
   },
   {
    "duration": 11,
    "start_time": "2021-10-06T04:06:26.796Z"
   },
   {
    "duration": 10,
    "start_time": "2021-10-06T04:07:01.606Z"
   },
   {
    "duration": 9,
    "start_time": "2021-10-06T04:07:05.854Z"
   },
   {
    "duration": 10,
    "start_time": "2021-10-06T04:07:15.710Z"
   },
   {
    "duration": 11,
    "start_time": "2021-10-06T04:07:23.278Z"
   },
   {
    "duration": 9,
    "start_time": "2021-10-06T04:07:59.229Z"
   },
   {
    "duration": 4,
    "start_time": "2021-10-06T04:08:01.953Z"
   },
   {
    "duration": 11,
    "start_time": "2021-10-06T04:08:04.265Z"
   },
   {
    "duration": 11,
    "start_time": "2021-10-06T04:08:18.313Z"
   },
   {
    "duration": 9,
    "start_time": "2021-10-06T04:10:03.855Z"
   },
   {
    "duration": 11,
    "start_time": "2021-10-06T04:10:06.976Z"
   },
   {
    "duration": 24,
    "start_time": "2021-10-06T04:10:23.352Z"
   },
   {
    "duration": 5,
    "start_time": "2021-10-06T04:10:30.593Z"
   },
   {
    "duration": 24,
    "start_time": "2021-10-06T04:10:50.923Z"
   },
   {
    "duration": 26,
    "start_time": "2021-10-06T04:11:37.310Z"
   },
   {
    "duration": 14,
    "start_time": "2021-10-06T04:12:32.208Z"
   },
   {
    "duration": 5,
    "start_time": "2021-10-06T04:12:43.473Z"
   },
   {
    "duration": 700,
    "start_time": "2021-10-06T04:12:43.937Z"
   },
   {
    "duration": 32,
    "start_time": "2021-10-06T04:12:44.639Z"
   },
   {
    "duration": 24,
    "start_time": "2021-10-06T04:12:44.673Z"
   },
   {
    "duration": 31,
    "start_time": "2021-10-06T04:12:44.722Z"
   },
   {
    "duration": 3,
    "start_time": "2021-10-06T04:12:45.129Z"
   },
   {
    "duration": 369,
    "start_time": "2021-10-06T04:12:45.641Z"
   },
   {
    "duration": 4,
    "start_time": "2021-10-06T04:12:46.329Z"
   },
   {
    "duration": 6,
    "start_time": "2021-10-06T04:12:46.513Z"
   },
   {
    "duration": 15,
    "start_time": "2021-10-06T04:12:47.353Z"
   },
   {
    "duration": 16,
    "start_time": "2021-10-06T04:12:47.721Z"
   },
   {
    "duration": 15,
    "start_time": "2021-10-06T04:12:47.937Z"
   },
   {
    "duration": 29,
    "start_time": "2021-10-06T04:12:48.145Z"
   },
   {
    "duration": 13,
    "start_time": "2021-10-06T04:12:48.361Z"
   },
   {
    "duration": 7,
    "start_time": "2021-10-06T04:12:48.978Z"
   },
   {
    "duration": 9,
    "start_time": "2021-10-06T04:12:49.201Z"
   },
   {
    "duration": 357,
    "start_time": "2021-10-06T04:12:51.433Z"
   },
   {
    "duration": 10,
    "start_time": "2021-10-06T04:12:51.873Z"
   },
   {
    "duration": 4,
    "start_time": "2021-10-06T04:12:52.307Z"
   },
   {
    "duration": 5144,
    "start_time": "2021-10-06T04:12:52.506Z"
   },
   {
    "duration": 9,
    "start_time": "2021-10-06T04:12:57.652Z"
   },
   {
    "duration": 1639,
    "start_time": "2021-10-06T04:12:57.663Z"
   },
   {
    "duration": 68,
    "start_time": "2021-10-06T04:12:59.303Z"
   },
   {
    "duration": 37,
    "start_time": "2021-10-06T04:12:59.372Z"
   },
   {
    "duration": 1924,
    "start_time": "2021-10-06T04:12:59.411Z"
   },
   {
    "duration": 65,
    "start_time": "2021-10-06T04:13:01.337Z"
   },
   {
    "duration": 29,
    "start_time": "2021-10-06T04:13:02.930Z"
   },
   {
    "duration": 5,
    "start_time": "2021-10-06T04:13:12.762Z"
   },
   {
    "duration": 12,
    "start_time": "2021-10-06T04:13:20.083Z"
   },
   {
    "duration": 10,
    "start_time": "2021-10-06T04:13:27.260Z"
   },
   {
    "duration": 4,
    "start_time": "2021-10-06T04:13:29.420Z"
   },
   {
    "duration": 25,
    "start_time": "2021-10-06T04:13:31.317Z"
   },
   {
    "duration": 4,
    "start_time": "2021-10-06T04:13:53.669Z"
   },
   {
    "duration": 15,
    "start_time": "2021-10-06T04:13:57.741Z"
   },
   {
    "duration": 5,
    "start_time": "2021-10-06T04:13:59.829Z"
   },
   {
    "duration": 3,
    "start_time": "2021-10-06T04:14:00.469Z"
   },
   {
    "duration": 20210,
    "start_time": "2021-10-06T04:14:02.230Z"
   },
   {
    "duration": 1413,
    "start_time": "2021-10-06T04:14:22.442Z"
   },
   {
    "duration": 67153,
    "start_time": "2021-10-06T04:14:23.857Z"
   },
   {
    "duration": 2,
    "start_time": "2021-10-06T04:15:31.012Z"
   },
   {
    "duration": 37,
    "start_time": "2021-10-06T04:15:31.016Z"
   },
   {
    "duration": 203,
    "start_time": "2021-10-06T04:15:31.055Z"
   },
   {
    "duration": 89,
    "start_time": "2021-10-06T04:15:31.260Z"
   },
   {
    "duration": 10,
    "start_time": "2021-10-06T04:15:31.353Z"
   },
   {
    "duration": 5,
    "start_time": "2021-10-06T04:15:31.366Z"
   },
   {
    "duration": 17,
    "start_time": "2021-10-06T04:15:31.373Z"
   },
   {
    "duration": 17,
    "start_time": "2021-10-06T04:15:31.391Z"
   },
   {
    "duration": 270171,
    "start_time": "2021-10-06T04:15:31.409Z"
   },
   {
    "duration": 6,
    "start_time": "2021-10-06T04:20:01.581Z"
   },
   {
    "duration": 25,
    "start_time": "2021-10-06T04:20:01.588Z"
   },
   {
    "duration": 16,
    "start_time": "2021-10-06T04:20:01.615Z"
   },
   {
    "duration": 153,
    "start_time": "2021-10-06T04:20:01.632Z"
   },
   {
    "duration": 9,
    "start_time": "2021-10-06T04:20:01.786Z"
   },
   {
    "duration": 721934,
    "start_time": "2021-10-06T04:20:01.797Z"
   },
   {
    "duration": 3,
    "start_time": "2021-10-06T04:32:03.733Z"
   },
   {
    "duration": 47,
    "start_time": "2021-10-06T04:32:03.737Z"
   },
   {
    "duration": 106106,
    "start_time": "2021-10-06T04:36:30.652Z"
   },
   {
    "duration": 735829,
    "start_time": "2021-10-06T04:39:59.296Z"
   },
   {
    "duration": 3,
    "start_time": "2021-10-06T04:52:15.126Z"
   },
   {
    "duration": 51,
    "start_time": "2021-10-06T04:52:15.130Z"
   },
   {
    "duration": 1109,
    "start_time": "2021-10-06T05:12:46.495Z"
   },
   {
    "duration": 715,
    "start_time": "2021-10-06T05:12:47.606Z"
   },
   {
    "duration": 36,
    "start_time": "2021-10-06T05:12:48.323Z"
   },
   {
    "duration": 24,
    "start_time": "2021-10-06T05:12:48.361Z"
   },
   {
    "duration": 29,
    "start_time": "2021-10-06T05:12:48.387Z"
   },
   {
    "duration": 3,
    "start_time": "2021-10-06T05:12:48.418Z"
   },
   {
    "duration": 444,
    "start_time": "2021-10-06T05:12:48.422Z"
   },
   {
    "duration": 3,
    "start_time": "2021-10-06T05:12:48.869Z"
   },
   {
    "duration": 9,
    "start_time": "2021-10-06T05:12:48.874Z"
   },
   {
    "duration": 14,
    "start_time": "2021-10-06T05:12:48.884Z"
   },
   {
    "duration": 12,
    "start_time": "2021-10-06T05:12:48.900Z"
   },
   {
    "duration": 38,
    "start_time": "2021-10-06T05:12:48.914Z"
   },
   {
    "duration": 37,
    "start_time": "2021-10-06T05:12:48.954Z"
   },
   {
    "duration": 12,
    "start_time": "2021-10-06T05:12:48.992Z"
   },
   {
    "duration": 7,
    "start_time": "2021-10-06T05:12:49.006Z"
   },
   {
    "duration": 37,
    "start_time": "2021-10-06T05:12:49.015Z"
   },
   {
    "duration": 252,
    "start_time": "2021-10-06T05:12:49.054Z"
   },
   {
    "duration": 10,
    "start_time": "2021-10-06T05:12:49.307Z"
   },
   {
    "duration": 4,
    "start_time": "2021-10-06T05:12:49.319Z"
   },
   {
    "duration": 5086,
    "start_time": "2021-10-06T05:12:49.324Z"
   },
   {
    "duration": 10,
    "start_time": "2021-10-06T05:12:54.411Z"
   },
   {
    "duration": 1701,
    "start_time": "2021-10-06T05:12:54.422Z"
   },
   {
    "duration": 158,
    "start_time": "2021-10-06T05:12:56.127Z"
   },
   {
    "duration": 38,
    "start_time": "2021-10-06T05:12:56.287Z"
   },
   {
    "duration": 1646,
    "start_time": "2021-10-06T05:12:56.327Z"
   },
   {
    "duration": 46,
    "start_time": "2021-10-06T05:12:57.975Z"
   },
   {
    "duration": 41,
    "start_time": "2021-10-06T05:12:58.022Z"
   },
   {
    "duration": 6,
    "start_time": "2021-10-06T05:12:58.065Z"
   },
   {
    "duration": 6,
    "start_time": "2021-10-06T05:12:58.073Z"
   },
   {
    "duration": 18,
    "start_time": "2021-10-06T05:12:58.080Z"
   },
   {
    "duration": 10,
    "start_time": "2021-10-06T05:12:58.100Z"
   },
   {
    "duration": 7,
    "start_time": "2021-10-06T05:12:58.112Z"
   },
   {
    "duration": 22,
    "start_time": "2021-10-06T05:12:58.149Z"
   },
   {
    "duration": 5,
    "start_time": "2021-10-06T05:12:58.173Z"
   },
   {
    "duration": 6,
    "start_time": "2021-10-06T05:12:58.179Z"
   },
   {
    "duration": 22015,
    "start_time": "2021-10-06T05:12:58.186Z"
   },
   {
    "duration": 1247,
    "start_time": "2021-10-06T05:13:20.203Z"
   },
   {
    "duration": 735123,
    "start_time": "2021-10-06T05:13:21.453Z"
   },
   {
    "duration": 104,
    "start_time": "2021-10-06T05:25:36.578Z"
   },
   {
    "duration": 1086,
    "start_time": "2021-10-06T05:25:35.598Z"
   },
   {
    "duration": 1084,
    "start_time": "2021-10-06T05:25:35.601Z"
   },
   {
    "duration": 1082,
    "start_time": "2021-10-06T05:25:35.604Z"
   },
   {
    "duration": 7,
    "start_time": "2021-10-06T05:27:14.587Z"
   },
   {
    "duration": 119,
    "start_time": "2021-10-06T05:27:18.634Z"
   },
   {
    "duration": 37,
    "start_time": "2021-10-06T05:27:22.633Z"
   },
   {
    "duration": 10,
    "start_time": "2021-10-06T05:27:27.242Z"
   },
   {
    "duration": 1159,
    "start_time": "2021-10-06T05:35:25.745Z"
   },
   {
    "duration": 718,
    "start_time": "2021-10-06T05:35:26.906Z"
   },
   {
    "duration": 42,
    "start_time": "2021-10-06T05:35:27.628Z"
   },
   {
    "duration": 28,
    "start_time": "2021-10-06T05:35:27.671Z"
   },
   {
    "duration": 31,
    "start_time": "2021-10-06T05:35:27.700Z"
   },
   {
    "duration": 3,
    "start_time": "2021-10-06T05:35:27.750Z"
   },
   {
    "duration": 428,
    "start_time": "2021-10-06T05:35:27.755Z"
   },
   {
    "duration": 3,
    "start_time": "2021-10-06T05:35:28.185Z"
   },
   {
    "duration": 10,
    "start_time": "2021-10-06T05:35:28.190Z"
   },
   {
    "duration": 16,
    "start_time": "2021-10-06T05:35:28.201Z"
   },
   {
    "duration": 30,
    "start_time": "2021-10-06T05:35:28.219Z"
   },
   {
    "duration": 16,
    "start_time": "2021-10-06T05:35:28.251Z"
   },
   {
    "duration": 32,
    "start_time": "2021-10-06T05:35:28.269Z"
   },
   {
    "duration": 11,
    "start_time": "2021-10-06T05:35:28.303Z"
   },
   {
    "duration": 36,
    "start_time": "2021-10-06T05:35:28.315Z"
   },
   {
    "duration": 8,
    "start_time": "2021-10-06T05:35:28.352Z"
   },
   {
    "duration": 240,
    "start_time": "2021-10-06T05:35:28.361Z"
   },
   {
    "duration": 10,
    "start_time": "2021-10-06T05:35:28.603Z"
   },
   {
    "duration": 5,
    "start_time": "2021-10-06T05:35:28.614Z"
   },
   {
    "duration": 5049,
    "start_time": "2021-10-06T05:35:28.621Z"
   },
   {
    "duration": 10,
    "start_time": "2021-10-06T05:35:33.671Z"
   },
   {
    "duration": 1718,
    "start_time": "2021-10-06T05:35:33.684Z"
   },
   {
    "duration": 164,
    "start_time": "2021-10-06T05:35:35.404Z"
   },
   {
    "duration": 49,
    "start_time": "2021-10-06T05:35:35.570Z"
   },
   {
    "duration": 1627,
    "start_time": "2021-10-06T05:35:35.622Z"
   },
   {
    "duration": 46,
    "start_time": "2021-10-06T05:35:37.251Z"
   },
   {
    "duration": 24,
    "start_time": "2021-10-06T05:35:37.299Z"
   },
   {
    "duration": 4,
    "start_time": "2021-10-06T05:35:37.348Z"
   },
   {
    "duration": 15,
    "start_time": "2021-10-06T05:35:37.354Z"
   },
   {
    "duration": 18,
    "start_time": "2021-10-06T05:35:37.370Z"
   },
   {
    "duration": 10,
    "start_time": "2021-10-06T05:35:37.389Z"
   },
   {
    "duration": 5,
    "start_time": "2021-10-06T05:35:37.401Z"
   },
   {
    "duration": 22,
    "start_time": "2021-10-06T05:35:37.408Z"
   },
   {
    "duration": 5,
    "start_time": "2021-10-06T05:35:37.432Z"
   },
   {
    "duration": 12,
    "start_time": "2021-10-06T05:35:37.438Z"
   },
   {
    "duration": 21478,
    "start_time": "2021-10-06T05:35:37.451Z"
   },
   {
    "duration": 1223,
    "start_time": "2021-10-06T05:35:58.931Z"
   },
   {
    "duration": 741216,
    "start_time": "2021-10-06T05:36:00.156Z"
   },
   {
    "duration": 8,
    "start_time": "2021-10-06T05:48:21.374Z"
   },
   {
    "duration": 267,
    "start_time": "2021-10-06T05:48:21.384Z"
   },
   {
    "duration": 119,
    "start_time": "2021-10-06T05:48:21.653Z"
   },
   {
    "duration": 8,
    "start_time": "2021-10-06T05:48:21.773Z"
   },
   {
    "duration": 1422008,
    "start_time": "2021-10-06T05:54:56.771Z"
   },
   {
    "duration": 75,
    "start_time": "2021-10-06T06:21:04.894Z"
   },
   {
    "duration": 1656145,
    "start_time": "2021-10-06T06:22:15.018Z"
   },
   {
    "duration": 83,
    "start_time": "2021-10-06T06:51:39.113Z"
   },
   {
    "duration": 235503,
    "start_time": "2021-10-06T06:52:10.410Z"
   },
   {
    "duration": 9,
    "start_time": "2021-10-06T07:00:17.835Z"
   },
   {
    "duration": 1195,
    "start_time": "2021-10-06T17:40:16.118Z"
   },
   {
    "duration": 677,
    "start_time": "2021-10-06T17:40:17.574Z"
   },
   {
    "duration": 35,
    "start_time": "2021-10-06T17:40:20.831Z"
   },
   {
    "duration": 27,
    "start_time": "2021-10-06T17:40:21.735Z"
   },
   {
    "duration": 33,
    "start_time": "2021-10-06T17:40:22.665Z"
   },
   {
    "duration": 3,
    "start_time": "2021-10-06T17:40:25.392Z"
   },
   {
    "duration": 410,
    "start_time": "2021-10-06T17:40:26.792Z"
   },
   {
    "duration": 3,
    "start_time": "2021-10-06T17:40:29.958Z"
   },
   {
    "duration": 6,
    "start_time": "2021-10-06T17:40:30.905Z"
   },
   {
    "duration": 15,
    "start_time": "2021-10-06T17:40:34.873Z"
   },
   {
    "duration": 14,
    "start_time": "2021-10-06T17:40:43.472Z"
   },
   {
    "duration": 17,
    "start_time": "2021-10-06T17:40:45.548Z"
   },
   {
    "duration": 26,
    "start_time": "2021-10-06T17:41:06.564Z"
   },
   {
    "duration": 6,
    "start_time": "2021-10-06T17:41:46.107Z"
   },
   {
    "duration": 18,
    "start_time": "2021-10-06T17:42:56.879Z"
   },
   {
    "duration": 19,
    "start_time": "2021-10-06T17:43:33.402Z"
   },
   {
    "duration": 568,
    "start_time": "2021-10-06T17:44:32.782Z"
   },
   {
    "duration": 1593,
    "start_time": "2021-10-06T17:45:12.788Z"
   },
   {
    "duration": 497,
    "start_time": "2021-10-06T17:53:02.379Z"
   },
   {
    "duration": 215,
    "start_time": "2021-10-06T17:53:19.464Z"
   },
   {
    "duration": 199,
    "start_time": "2021-10-06T17:53:27.628Z"
   },
   {
    "duration": 25,
    "start_time": "2021-10-06T17:54:02.053Z"
   },
   {
    "duration": 16,
    "start_time": "2021-10-06T17:54:13.982Z"
   },
   {
    "duration": 21,
    "start_time": "2021-10-06T17:54:20.848Z"
   },
   {
    "duration": 1224,
    "start_time": "2021-10-06T18:17:13.849Z"
   },
   {
    "duration": 730,
    "start_time": "2021-10-06T18:17:15.075Z"
   },
   {
    "duration": 52,
    "start_time": "2021-10-06T18:17:15.810Z"
   },
   {
    "duration": 25,
    "start_time": "2021-10-06T18:17:15.865Z"
   },
   {
    "duration": 39,
    "start_time": "2021-10-06T18:17:15.892Z"
   },
   {
    "duration": 5,
    "start_time": "2021-10-06T18:17:15.949Z"
   },
   {
    "duration": 439,
    "start_time": "2021-10-06T18:17:15.958Z"
   },
   {
    "duration": 4,
    "start_time": "2021-10-06T18:17:16.399Z"
   },
   {
    "duration": 14,
    "start_time": "2021-10-06T18:17:16.405Z"
   },
   {
    "duration": 33,
    "start_time": "2021-10-06T18:17:16.420Z"
   },
   {
    "duration": 30,
    "start_time": "2021-10-06T18:17:16.456Z"
   },
   {
    "duration": 26,
    "start_time": "2021-10-06T18:17:16.488Z"
   },
   {
    "duration": 37,
    "start_time": "2021-10-06T18:17:16.516Z"
   },
   {
    "duration": 15,
    "start_time": "2021-10-06T18:17:16.555Z"
   },
   {
    "duration": 10,
    "start_time": "2021-10-06T18:17:16.572Z"
   },
   {
    "duration": 22,
    "start_time": "2021-10-06T18:17:16.584Z"
   },
   {
    "duration": 288,
    "start_time": "2021-10-06T18:17:16.608Z"
   },
   {
    "duration": 9,
    "start_time": "2021-10-06T18:17:16.898Z"
   },
   {
    "duration": 7,
    "start_time": "2021-10-06T18:17:16.909Z"
   },
   {
    "duration": 5700,
    "start_time": "2021-10-06T18:17:16.918Z"
   },
   {
    "duration": 10,
    "start_time": "2021-10-06T18:17:22.620Z"
   },
   {
    "duration": 1911,
    "start_time": "2021-10-06T18:17:22.634Z"
   },
   {
    "duration": 181,
    "start_time": "2021-10-06T18:17:24.549Z"
   },
   {
    "duration": 64,
    "start_time": "2021-10-06T18:17:24.732Z"
   },
   {
    "duration": 2818,
    "start_time": "2021-10-06T18:17:24.798Z"
   },
   {
    "duration": 86,
    "start_time": "2021-10-06T18:17:27.618Z"
   },
   {
    "duration": 56,
    "start_time": "2021-10-06T18:17:27.706Z"
   },
   {
    "duration": 11,
    "start_time": "2021-10-06T18:17:27.764Z"
   },
   {
    "duration": 9,
    "start_time": "2021-10-06T18:17:27.777Z"
   },
   {
    "duration": 34,
    "start_time": "2021-10-06T18:17:27.788Z"
   },
   {
    "duration": 26,
    "start_time": "2021-10-06T18:17:27.824Z"
   },
   {
    "duration": 22,
    "start_time": "2021-10-06T18:17:27.853Z"
   },
   {
    "duration": 35,
    "start_time": "2021-10-06T18:17:27.877Z"
   },
   {
    "duration": 11,
    "start_time": "2021-10-06T18:17:27.914Z"
   },
   {
    "duration": 27,
    "start_time": "2021-10-06T18:17:27.927Z"
   },
   {
    "duration": 23878,
    "start_time": "2021-10-06T18:17:27.957Z"
   },
   {
    "duration": 1414,
    "start_time": "2021-10-06T18:17:51.837Z"
   },
   {
    "duration": 258731,
    "start_time": "2021-10-06T18:17:53.254Z"
   },
   {
    "duration": 7,
    "start_time": "2021-10-06T18:22:11.987Z"
   },
   {
    "duration": 359,
    "start_time": "2021-10-06T18:22:11.996Z"
   },
   {
    "duration": 214,
    "start_time": "2021-10-06T18:22:12.358Z"
   },
   {
    "duration": 8,
    "start_time": "2021-10-06T18:22:12.573Z"
   },
   {
    "duration": 175,
    "start_time": "2021-10-07T05:46:39.280Z"
   },
   {
    "duration": 1136,
    "start_time": "2021-10-07T05:46:49.823Z"
   },
   {
    "duration": 3,
    "start_time": "2021-10-07T05:46:52.433Z"
   },
   {
    "duration": 714,
    "start_time": "2021-10-07T05:46:53.304Z"
   },
   {
    "duration": 32,
    "start_time": "2021-10-07T05:46:54.020Z"
   },
   {
    "duration": 26,
    "start_time": "2021-10-07T05:46:54.281Z"
   },
   {
    "duration": 34,
    "start_time": "2021-10-07T05:46:54.657Z"
   },
   {
    "duration": 3,
    "start_time": "2021-10-07T05:46:56.312Z"
   },
   {
    "duration": 423,
    "start_time": "2021-10-07T05:46:57.512Z"
   },
   {
    "duration": 4,
    "start_time": "2021-10-07T05:47:00.248Z"
   },
   {
    "duration": 7,
    "start_time": "2021-10-07T05:47:01.128Z"
   },
   {
    "duration": 14,
    "start_time": "2021-10-07T05:47:03.321Z"
   },
   {
    "duration": 15,
    "start_time": "2021-10-07T05:47:05.672Z"
   },
   {
    "duration": 16,
    "start_time": "2021-10-07T05:47:07.281Z"
   },
   {
    "duration": 33,
    "start_time": "2021-10-07T05:47:08.609Z"
   },
   {
    "duration": 12,
    "start_time": "2021-10-07T05:47:12.745Z"
   },
   {
    "duration": 8,
    "start_time": "2021-10-07T05:47:16.305Z"
   },
   {
    "duration": 9,
    "start_time": "2021-10-07T05:47:17.321Z"
   },
   {
    "duration": 251,
    "start_time": "2021-10-07T05:47:19.634Z"
   }
  ],
  "kernelspec": {
   "display_name": "Python 3 (ipykernel)",
   "language": "python",
   "name": "python3"
  },
  "language_info": {
   "codemirror_mode": {
    "name": "ipython",
    "version": 3
   },
   "file_extension": ".py",
   "mimetype": "text/x-python",
   "name": "python",
   "nbconvert_exporter": "python",
   "pygments_lexer": "ipython3",
   "version": "3.9.12"
  },
  "toc": {
   "base_numbering": 1,
   "nav_menu": {},
   "number_sections": true,
   "sideBar": true,
   "skip_h1_title": true,
   "title_cell": "Содержание",
   "title_sidebar": "Contents",
   "toc_cell": true,
   "toc_position": {},
   "toc_section_display": true,
   "toc_window_display": true
  }
 },
 "nbformat": 4,
 "nbformat_minor": 2
}
